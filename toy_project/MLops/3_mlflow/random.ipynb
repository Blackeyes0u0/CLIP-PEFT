{
 "cells": [
  {
   "cell_type": "code",
   "execution_count": 27,
   "metadata": {},
   "outputs": [
    {
     "name": "stdout",
     "output_type": "stream",
     "text": [
      "tensor([[0.9716, 0.3893],\n",
      "        [0.2629, 0.9071]])\n",
      "tensor([[ 0.4394, -0.7688],\n",
      "        [ 1.0868, -1.5346]])\n",
      "tensor([[2, 2],\n",
      "        [1, 1]])\n",
      "tensor([[0.5851, 0.0048, 0.2220],\n",
      "        [0.9200, 0.0642, 0.0846],\n",
      "        [0.6534, 0.0869, 0.8667]])\n",
      "tensor([[-0.2142,  0.4358,  0.9602],\n",
      "        [ 0.6255, -0.5357, -1.2964],\n",
      "        [-0.0624,  1.2123,  2.2158]])\n",
      "tensor([[ 0.,  4., -2.],\n",
      "        [ 4., -1.,  0.],\n",
      "        [ 1.,  1.,  1.]])\n"
     ]
    }
   ],
   "source": [
    "import torch\n",
    "i/gE3skAc9aCAU\n",
    "# make tensor\n",
    "torch.manual_seed(1004)\n",
    "print(torch.rand(2,2)) # 0~1 R\n",
    "print(torch.randn(2,2)) # normal distribution X ~ N(0,1) \n",
    "print(torch.randint(low=1,high=3,size=(2,2))) # low ~ high Intger\n",
    "\n",
    "# imitate input\n",
    "input = torch.tensor([[1,2],[3,4]])\n",
    "input = torch.randn(3,3)\n",
    "print(torch.rand_like(input)) # same shape as input. 0~1 R\n",
    "print(torch.randn_like(input)) \n",
    "print(torch.randint_like(input,-2,5))"
   ]
  }
 ],
 "metadata": {
  "kernelspec": {
   "display_name": "vision00",
   "language": "python",
   "name": "python3"
  },
  "language_info": {
   "codemirror_mode": {
    "name": "ipython",
    "version": 3
   },
   "file_extension": ".py",
   "mimetype": "text/x-python",
   "name": "python",
   "nbconvert_exporter": "python",
   "pygments_lexer": "ipython3",
   "version": "3.8.15"
  },
  "orig_nbformat": 4
 },
 "nbformat": 4,
 "nbformat_minor": 2
}
