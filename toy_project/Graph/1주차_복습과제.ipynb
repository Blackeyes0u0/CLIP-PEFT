{
  "cells": [
    {
      "cell_type": "code",
      "execution_count": 1,
      "metadata": {
        "colab": {
          "base_uri": "https://localhost:8080/"
        },
        "id": "dpNSunLp3GB8",
        "outputId": "0ceba34b-dbe9-4820-de5d-6f34a940eb4d"
      },
      "outputs": [
        {
          "name": "stderr",
          "output_type": "stream",
          "text": [
            "/Users/juniverse/opt/anaconda3/envs/veda/lib/python3.8/site-packages/tqdm/auto.py:21: TqdmWarning: IProgress not found. Please update jupyter and ipywidgets. See https://ipywidgets.readthedocs.io/en/stable/user_install.html\n",
            "  from .autonotebook import tqdm as notebook_tqdm\n"
          ]
        },
        {
          "name": "stdout",
          "output_type": "stream",
          "text": [
            "1.13.1\n",
            "  \u001b[1;31merror\u001b[0m: \u001b[1msubprocess-exited-with-error\u001b[0m\n",
            "  \n",
            "  \u001b[31m×\u001b[0m \u001b[32mpython setup.py bdist_wheel\u001b[0m did not run successfully.\n",
            "  \u001b[31m│\u001b[0m exit code: \u001b[1;36m1\u001b[0m\n",
            "  \u001b[31m╰─>\u001b[0m \u001b[31m[83 lines of output]\u001b[0m\n",
            "  \u001b[31m   \u001b[0m Compiling without OpenMP...\n",
            "  \u001b[31m   \u001b[0m Compiling without OpenMP...\n",
            "  \u001b[31m   \u001b[0m Compiling without OpenMP...\n",
            "  \u001b[31m   \u001b[0m Compiling without OpenMP...\n",
            "  \u001b[31m   \u001b[0m running bdist_wheel\n",
            "  \u001b[31m   \u001b[0m running build\n",
            "  \u001b[31m   \u001b[0m running build_py\n",
            "  \u001b[31m   \u001b[0m creating build\n",
            "  \u001b[31m   \u001b[0m creating build/lib.macosx-10.9-x86_64-cpython-38\n",
            "  \u001b[31m   \u001b[0m creating build/lib.macosx-10.9-x86_64-cpython-38/torch_scatter\n",
            "  \u001b[31m   \u001b[0m copying torch_scatter/placeholder.py -> build/lib.macosx-10.9-x86_64-cpython-38/torch_scatter\n",
            "  \u001b[31m   \u001b[0m copying torch_scatter/__init__.py -> build/lib.macosx-10.9-x86_64-cpython-38/torch_scatter\n",
            "  \u001b[31m   \u001b[0m copying torch_scatter/segment_csr.py -> build/lib.macosx-10.9-x86_64-cpython-38/torch_scatter\n",
            "  \u001b[31m   \u001b[0m copying torch_scatter/segment_coo.py -> build/lib.macosx-10.9-x86_64-cpython-38/torch_scatter\n",
            "  \u001b[31m   \u001b[0m copying torch_scatter/utils.py -> build/lib.macosx-10.9-x86_64-cpython-38/torch_scatter\n",
            "  \u001b[31m   \u001b[0m copying torch_scatter/scatter.py -> build/lib.macosx-10.9-x86_64-cpython-38/torch_scatter\n",
            "  \u001b[31m   \u001b[0m copying torch_scatter/testing.py -> build/lib.macosx-10.9-x86_64-cpython-38/torch_scatter\n",
            "  \u001b[31m   \u001b[0m creating build/lib.macosx-10.9-x86_64-cpython-38/torch_scatter/composite\n",
            "  \u001b[31m   \u001b[0m copying torch_scatter/composite/std.py -> build/lib.macosx-10.9-x86_64-cpython-38/torch_scatter/composite\n",
            "  \u001b[31m   \u001b[0m copying torch_scatter/composite/__init__.py -> build/lib.macosx-10.9-x86_64-cpython-38/torch_scatter/composite\n",
            "  \u001b[31m   \u001b[0m copying torch_scatter/composite/logsumexp.py -> build/lib.macosx-10.9-x86_64-cpython-38/torch_scatter/composite\n",
            "  \u001b[31m   \u001b[0m copying torch_scatter/composite/softmax.py -> build/lib.macosx-10.9-x86_64-cpython-38/torch_scatter/composite\n",
            "  \u001b[31m   \u001b[0m running egg_info\n",
            "  \u001b[31m   \u001b[0m writing torch_scatter.egg-info/PKG-INFO\n",
            "  \u001b[31m   \u001b[0m writing dependency_links to torch_scatter.egg-info/dependency_links.txt\n",
            "  \u001b[31m   \u001b[0m writing requirements to torch_scatter.egg-info/requires.txt\n",
            "  \u001b[31m   \u001b[0m writing top-level names to torch_scatter.egg-info/top_level.txt\n",
            "  \u001b[31m   \u001b[0m reading manifest file 'torch_scatter.egg-info/SOURCES.txt'\n",
            "  \u001b[31m   \u001b[0m reading manifest template 'MANIFEST.in'\n",
            "  \u001b[31m   \u001b[0m warning: no previously-included files matching '*' found under directory 'test'\n",
            "  \u001b[31m   \u001b[0m adding license file 'LICENSE'\n",
            "  \u001b[31m   \u001b[0m writing manifest file 'torch_scatter.egg-info/SOURCES.txt'\n",
            "  \u001b[31m   \u001b[0m running build_ext\n",
            "  \u001b[31m   \u001b[0m Traceback (most recent call last):\n",
            "  \u001b[31m   \u001b[0m   File \"<string>\", line 2, in <module>\n",
            "  \u001b[31m   \u001b[0m   File \"<pip-setuptools-caller>\", line 34, in <module>\n",
            "  \u001b[31m   \u001b[0m   File \"/private/var/folders/j9/psjfyfss16v_xrrj6mh5sw0h0000gn/T/pip-install-zv39dv6a/torch-scatter_b069f71fce18402d9368976dfa65a8c5/setup.py\", line 120, in <module>\n",
            "  \u001b[31m   \u001b[0m     setup(\n",
            "  \u001b[31m   \u001b[0m   File \"/Users/juniverse/opt/anaconda3/envs/veda/lib/python3.8/site-packages/setuptools/__init__.py\", line 107, in setup\n",
            "  \u001b[31m   \u001b[0m     return distutils.core.setup(**attrs)\n",
            "  \u001b[31m   \u001b[0m   File \"/Users/juniverse/opt/anaconda3/envs/veda/lib/python3.8/site-packages/setuptools/_distutils/core.py\", line 185, in setup\n",
            "  \u001b[31m   \u001b[0m     return run_commands(dist)\n",
            "  \u001b[31m   \u001b[0m   File \"/Users/juniverse/opt/anaconda3/envs/veda/lib/python3.8/site-packages/setuptools/_distutils/core.py\", line 201, in run_commands\n",
            "  \u001b[31m   \u001b[0m     dist.run_commands()\n",
            "  \u001b[31m   \u001b[0m   File \"/Users/juniverse/opt/anaconda3/envs/veda/lib/python3.8/site-packages/setuptools/_distutils/dist.py\", line 969, in run_commands\n",
            "  \u001b[31m   \u001b[0m     self.run_command(cmd)\n",
            "  \u001b[31m   \u001b[0m   File \"/Users/juniverse/opt/anaconda3/envs/veda/lib/python3.8/site-packages/setuptools/dist.py\", line 1234, in run_command\n",
            "  \u001b[31m   \u001b[0m     super().run_command(command)\n",
            "  \u001b[31m   \u001b[0m   File \"/Users/juniverse/opt/anaconda3/envs/veda/lib/python3.8/site-packages/setuptools/_distutils/dist.py\", line 988, in run_command\n",
            "  \u001b[31m   \u001b[0m     cmd_obj.run()\n",
            "  \u001b[31m   \u001b[0m   File \"/Users/juniverse/opt/anaconda3/envs/veda/lib/python3.8/site-packages/wheel/bdist_wheel.py\", line 325, in run\n",
            "  \u001b[31m   \u001b[0m     self.run_command(\"build\")\n",
            "  \u001b[31m   \u001b[0m   File \"/Users/juniverse/opt/anaconda3/envs/veda/lib/python3.8/site-packages/setuptools/_distutils/cmd.py\", line 318, in run_command\n",
            "  \u001b[31m   \u001b[0m     self.distribution.run_command(command)\n",
            "  \u001b[31m   \u001b[0m   File \"/Users/juniverse/opt/anaconda3/envs/veda/lib/python3.8/site-packages/setuptools/dist.py\", line 1234, in run_command\n",
            "  \u001b[31m   \u001b[0m     super().run_command(command)\n",
            "  \u001b[31m   \u001b[0m   File \"/Users/juniverse/opt/anaconda3/envs/veda/lib/python3.8/site-packages/setuptools/_distutils/dist.py\", line 988, in run_command\n",
            "  \u001b[31m   \u001b[0m     cmd_obj.run()\n",
            "  \u001b[31m   \u001b[0m   File \"/Users/juniverse/opt/anaconda3/envs/veda/lib/python3.8/site-packages/setuptools/_distutils/command/build.py\", line 131, in run\n",
            "  \u001b[31m   \u001b[0m     self.run_command(cmd_name)\n",
            "  \u001b[31m   \u001b[0m   File \"/Users/juniverse/opt/anaconda3/envs/veda/lib/python3.8/site-packages/setuptools/_distutils/cmd.py\", line 318, in run_command\n",
            "  \u001b[31m   \u001b[0m     self.distribution.run_command(command)\n",
            "  \u001b[31m   \u001b[0m   File \"/Users/juniverse/opt/anaconda3/envs/veda/lib/python3.8/site-packages/setuptools/dist.py\", line 1234, in run_command\n",
            "  \u001b[31m   \u001b[0m     super().run_command(command)\n",
            "  \u001b[31m   \u001b[0m   File \"/Users/juniverse/opt/anaconda3/envs/veda/lib/python3.8/site-packages/setuptools/_distutils/dist.py\", line 988, in run_command\n",
            "  \u001b[31m   \u001b[0m     cmd_obj.run()\n",
            "  \u001b[31m   \u001b[0m   File \"/Users/juniverse/opt/anaconda3/envs/veda/lib/python3.8/site-packages/setuptools/command/build_ext.py\", line 84, in run\n",
            "  \u001b[31m   \u001b[0m     _build_ext.run(self)\n",
            "  \u001b[31m   \u001b[0m   File \"/Users/juniverse/opt/anaconda3/envs/veda/lib/python3.8/site-packages/setuptools/_distutils/command/build_ext.py\", line 345, in run\n",
            "  \u001b[31m   \u001b[0m     self.build_extensions()\n",
            "  \u001b[31m   \u001b[0m   File \"/Users/juniverse/opt/anaconda3/envs/veda/lib/python3.8/site-packages/torch/utils/cpp_extension.py\", line 487, in build_extensions\n",
            "  \u001b[31m   \u001b[0m     compiler_name, compiler_version = self._check_abi()\n",
            "  \u001b[31m   \u001b[0m   File \"/Users/juniverse/opt/anaconda3/envs/veda/lib/python3.8/site-packages/torch/utils/cpp_extension.py\", line 874, in _check_abi\n",
            "  \u001b[31m   \u001b[0m     _, version = get_compiler_abi_compatibility_and_version(compiler)\n",
            "  \u001b[31m   \u001b[0m   File \"/Users/juniverse/opt/anaconda3/envs/veda/lib/python3.8/site-packages/torch/utils/cpp_extension.py\", line 338, in get_compiler_abi_compatibility_and_version\n",
            "  \u001b[31m   \u001b[0m     if not check_compiler_ok_for_platform(compiler):\n",
            "  \u001b[31m   \u001b[0m   File \"/Users/juniverse/opt/anaconda3/envs/veda/lib/python3.8/site-packages/torch/utils/cpp_extension.py\", line 301, in check_compiler_ok_for_platform\n",
            "  \u001b[31m   \u001b[0m     version_string = subprocess.check_output([compiler, '-v'], stderr=subprocess.STDOUT, env=env).decode(*SUBPROCESS_DECODE_ARGS)\n",
            "  \u001b[31m   \u001b[0m   File \"/Users/juniverse/opt/anaconda3/envs/veda/lib/python3.8/subprocess.py\", line 415, in check_output\n",
            "  \u001b[31m   \u001b[0m     return run(*popenargs, stdout=PIPE, timeout=timeout, check=True,\n",
            "  \u001b[31m   \u001b[0m   File \"/Users/juniverse/opt/anaconda3/envs/veda/lib/python3.8/subprocess.py\", line 516, in run\n",
            "  \u001b[31m   \u001b[0m     raise CalledProcessError(retcode, process.args,\n",
            "  \u001b[31m   \u001b[0m subprocess.CalledProcessError: Command '['g++', '-v']' returned non-zero exit status 1.\n",
            "  \u001b[31m   \u001b[0m \u001b[31m[end of output]\u001b[0m\n",
            "  \n",
            "  \u001b[1;35mnote\u001b[0m: This error originates from a subprocess, and is likely not a problem with pip.\n",
            "\u001b[31m  ERROR: Failed building wheel for torch-scatter\u001b[0m\u001b[31m\n",
            "\u001b[0m\u001b[31mERROR: Could not build wheels for torch-scatter, which is required to install pyproject.toml-based projects\u001b[0m\u001b[31m\n",
            "\u001b[0m  \u001b[1;31merror\u001b[0m: \u001b[1msubprocess-exited-with-error\u001b[0m\n",
            "  \n",
            "  \u001b[31m×\u001b[0m \u001b[32mpython setup.py bdist_wheel\u001b[0m did not run successfully.\n",
            "  \u001b[31m│\u001b[0m exit code: \u001b[1;36m1\u001b[0m\n",
            "  \u001b[31m╰─>\u001b[0m \u001b[31m[114 lines of output]\u001b[0m\n",
            "  \u001b[31m   \u001b[0m Compiling without OpenMP...\n",
            "  \u001b[31m   \u001b[0m Compiling without OpenMP...\n",
            "  \u001b[31m   \u001b[0m Compiling without OpenMP...\n",
            "  \u001b[31m   \u001b[0m Compiling without OpenMP...\n",
            "  \u001b[31m   \u001b[0m Compiling without OpenMP...\n",
            "  \u001b[31m   \u001b[0m Compiling without OpenMP...\n",
            "  \u001b[31m   \u001b[0m Compiling without OpenMP...\n",
            "  \u001b[31m   \u001b[0m Compiling without OpenMP...\n",
            "  \u001b[31m   \u001b[0m Compiling without OpenMP...\n",
            "  \u001b[31m   \u001b[0m Compiling without OpenMP...\n",
            "  \u001b[31m   \u001b[0m Compiling without OpenMP...\n",
            "  \u001b[31m   \u001b[0m Compiling without OpenMP...\n",
            "  \u001b[31m   \u001b[0m running bdist_wheel\n",
            "  \u001b[31m   \u001b[0m running build\n",
            "  \u001b[31m   \u001b[0m running build_py\n",
            "  \u001b[31m   \u001b[0m creating build\n",
            "  \u001b[31m   \u001b[0m creating build/lib.macosx-10.9-x86_64-cpython-38\n",
            "  \u001b[31m   \u001b[0m creating build/lib.macosx-10.9-x86_64-cpython-38/torch_sparse\n",
            "  \u001b[31m   \u001b[0m copying torch_sparse/matmul.py -> build/lib.macosx-10.9-x86_64-cpython-38/torch_sparse\n",
            "  \u001b[31m   \u001b[0m copying torch_sparse/permute.py -> build/lib.macosx-10.9-x86_64-cpython-38/torch_sparse\n",
            "  \u001b[31m   \u001b[0m copying torch_sparse/add.py -> build/lib.macosx-10.9-x86_64-cpython-38/torch_sparse\n",
            "  \u001b[31m   \u001b[0m copying torch_sparse/reduce.py -> build/lib.macosx-10.9-x86_64-cpython-38/torch_sparse\n",
            "  \u001b[31m   \u001b[0m copying torch_sparse/narrow.py -> build/lib.macosx-10.9-x86_64-cpython-38/torch_sparse\n",
            "  \u001b[31m   \u001b[0m copying torch_sparse/masked_select.py -> build/lib.macosx-10.9-x86_64-cpython-38/torch_sparse\n",
            "  \u001b[31m   \u001b[0m copying torch_sparse/cat.py -> build/lib.macosx-10.9-x86_64-cpython-38/torch_sparse\n",
            "  \u001b[31m   \u001b[0m copying torch_sparse/eye.py -> build/lib.macosx-10.9-x86_64-cpython-38/torch_sparse\n",
            "  \u001b[31m   \u001b[0m copying torch_sparse/convert.py -> build/lib.macosx-10.9-x86_64-cpython-38/torch_sparse\n",
            "  \u001b[31m   \u001b[0m copying torch_sparse/coalesce.py -> build/lib.macosx-10.9-x86_64-cpython-38/torch_sparse\n",
            "  \u001b[31m   \u001b[0m copying torch_sparse/__init__.py -> build/lib.macosx-10.9-x86_64-cpython-38/torch_sparse\n",
            "  \u001b[31m   \u001b[0m copying torch_sparse/tensor.py -> build/lib.macosx-10.9-x86_64-cpython-38/torch_sparse\n",
            "  \u001b[31m   \u001b[0m copying torch_sparse/bandwidth.py -> build/lib.macosx-10.9-x86_64-cpython-38/torch_sparse\n",
            "  \u001b[31m   \u001b[0m copying torch_sparse/mul.py -> build/lib.macosx-10.9-x86_64-cpython-38/torch_sparse\n",
            "  \u001b[31m   \u001b[0m copying torch_sparse/transpose.py -> build/lib.macosx-10.9-x86_64-cpython-38/torch_sparse\n",
            "  \u001b[31m   \u001b[0m copying torch_sparse/utils.py -> build/lib.macosx-10.9-x86_64-cpython-38/torch_sparse\n",
            "  \u001b[31m   \u001b[0m copying torch_sparse/diag.py -> build/lib.macosx-10.9-x86_64-cpython-38/torch_sparse\n",
            "  \u001b[31m   \u001b[0m copying torch_sparse/rw.py -> build/lib.macosx-10.9-x86_64-cpython-38/torch_sparse\n",
            "  \u001b[31m   \u001b[0m copying torch_sparse/storage.py -> build/lib.macosx-10.9-x86_64-cpython-38/torch_sparse\n",
            "  \u001b[31m   \u001b[0m copying torch_sparse/sample.py -> build/lib.macosx-10.9-x86_64-cpython-38/torch_sparse\n",
            "  \u001b[31m   \u001b[0m copying torch_sparse/spspmm.py -> build/lib.macosx-10.9-x86_64-cpython-38/torch_sparse\n",
            "  \u001b[31m   \u001b[0m copying torch_sparse/index_select.py -> build/lib.macosx-10.9-x86_64-cpython-38/torch_sparse\n",
            "  \u001b[31m   \u001b[0m copying torch_sparse/saint.py -> build/lib.macosx-10.9-x86_64-cpython-38/torch_sparse\n",
            "  \u001b[31m   \u001b[0m copying torch_sparse/select.py -> build/lib.macosx-10.9-x86_64-cpython-38/torch_sparse\n",
            "  \u001b[31m   \u001b[0m copying torch_sparse/typing.py -> build/lib.macosx-10.9-x86_64-cpython-38/torch_sparse\n",
            "  \u001b[31m   \u001b[0m copying torch_sparse/spadd.py -> build/lib.macosx-10.9-x86_64-cpython-38/torch_sparse\n",
            "  \u001b[31m   \u001b[0m copying torch_sparse/testing.py -> build/lib.macosx-10.9-x86_64-cpython-38/torch_sparse\n",
            "  \u001b[31m   \u001b[0m copying torch_sparse/spmm.py -> build/lib.macosx-10.9-x86_64-cpython-38/torch_sparse\n",
            "  \u001b[31m   \u001b[0m copying torch_sparse/metis.py -> build/lib.macosx-10.9-x86_64-cpython-38/torch_sparse\n",
            "  \u001b[31m   \u001b[0m running egg_info\n",
            "  \u001b[31m   \u001b[0m writing torch_sparse.egg-info/PKG-INFO\n",
            "  \u001b[31m   \u001b[0m writing dependency_links to torch_sparse.egg-info/dependency_links.txt\n",
            "  \u001b[31m   \u001b[0m writing requirements to torch_sparse.egg-info/requires.txt\n",
            "  \u001b[31m   \u001b[0m writing top-level names to torch_sparse.egg-info/top_level.txt\n",
            "  \u001b[31m   \u001b[0m reading manifest file 'torch_sparse.egg-info/SOURCES.txt'\n",
            "  \u001b[31m   \u001b[0m reading manifest template 'MANIFEST.in'\n",
            "  \u001b[31m   \u001b[0m warning: no previously-included files matching '*' found under directory 'third_party/parallel-hashmap/css'\n",
            "  \u001b[31m   \u001b[0m warning: no previously-included files matching '*' found under directory 'third_party/parallel-hashmap/html'\n",
            "  \u001b[31m   \u001b[0m warning: no previously-included files matching '*' found under directory 'third_party/parallel-hashmap/tests'\n",
            "  \u001b[31m   \u001b[0m warning: no previously-included files matching '*' found under directory 'third_party/parallel-hashmap/examples'\n",
            "  \u001b[31m   \u001b[0m warning: no previously-included files matching '*' found under directory 'third_party/parallel-hashmap/benchmark'\n",
            "  \u001b[31m   \u001b[0m warning: no previously-included files matching '*' found under directory 'test'\n",
            "  \u001b[31m   \u001b[0m warning: no previously-included files matching '*' found under directory 'benchmark'\n",
            "  \u001b[31m   \u001b[0m adding license file 'LICENSE'\n",
            "  \u001b[31m   \u001b[0m writing manifest file 'torch_sparse.egg-info/SOURCES.txt'\n",
            "  \u001b[31m   \u001b[0m running build_ext\n",
            "  \u001b[31m   \u001b[0m Traceback (most recent call last):\n",
            "  \u001b[31m   \u001b[0m   File \"<string>\", line 2, in <module>\n",
            "  \u001b[31m   \u001b[0m   File \"<pip-setuptools-caller>\", line 34, in <module>\n",
            "  \u001b[31m   \u001b[0m   File \"/private/var/folders/j9/psjfyfss16v_xrrj6mh5sw0h0000gn/T/pip-install-csia3gvr/torch-sparse_a67a0facd75d46fb851f3da417e632a6/setup.py\", line 147, in <module>\n",
            "  \u001b[31m   \u001b[0m     setup(\n",
            "  \u001b[31m   \u001b[0m   File \"/Users/juniverse/opt/anaconda3/envs/veda/lib/python3.8/site-packages/setuptools/__init__.py\", line 107, in setup\n",
            "  \u001b[31m   \u001b[0m     return distutils.core.setup(**attrs)\n",
            "  \u001b[31m   \u001b[0m   File \"/Users/juniverse/opt/anaconda3/envs/veda/lib/python3.8/site-packages/setuptools/_distutils/core.py\", line 185, in setup\n",
            "  \u001b[31m   \u001b[0m     return run_commands(dist)\n",
            "  \u001b[31m   \u001b[0m   File \"/Users/juniverse/opt/anaconda3/envs/veda/lib/python3.8/site-packages/setuptools/_distutils/core.py\", line 201, in run_commands\n",
            "  \u001b[31m   \u001b[0m     dist.run_commands()\n",
            "  \u001b[31m   \u001b[0m   File \"/Users/juniverse/opt/anaconda3/envs/veda/lib/python3.8/site-packages/setuptools/_distutils/dist.py\", line 969, in run_commands\n",
            "  \u001b[31m   \u001b[0m     self.run_command(cmd)\n",
            "  \u001b[31m   \u001b[0m   File \"/Users/juniverse/opt/anaconda3/envs/veda/lib/python3.8/site-packages/setuptools/dist.py\", line 1234, in run_command\n",
            "  \u001b[31m   \u001b[0m     super().run_command(command)\n",
            "  \u001b[31m   \u001b[0m   File \"/Users/juniverse/opt/anaconda3/envs/veda/lib/python3.8/site-packages/setuptools/_distutils/dist.py\", line 988, in run_command\n",
            "  \u001b[31m   \u001b[0m     cmd_obj.run()\n",
            "  \u001b[31m   \u001b[0m   File \"/Users/juniverse/opt/anaconda3/envs/veda/lib/python3.8/site-packages/wheel/bdist_wheel.py\", line 325, in run\n",
            "  \u001b[31m   \u001b[0m     self.run_command(\"build\")\n",
            "  \u001b[31m   \u001b[0m   File \"/Users/juniverse/opt/anaconda3/envs/veda/lib/python3.8/site-packages/setuptools/_distutils/cmd.py\", line 318, in run_command\n",
            "  \u001b[31m   \u001b[0m     self.distribution.run_command(command)\n",
            "  \u001b[31m   \u001b[0m   File \"/Users/juniverse/opt/anaconda3/envs/veda/lib/python3.8/site-packages/setuptools/dist.py\", line 1234, in run_command\n",
            "  \u001b[31m   \u001b[0m     super().run_command(command)\n",
            "  \u001b[31m   \u001b[0m   File \"/Users/juniverse/opt/anaconda3/envs/veda/lib/python3.8/site-packages/setuptools/_distutils/dist.py\", line 988, in run_command\n",
            "  \u001b[31m   \u001b[0m     cmd_obj.run()\n",
            "  \u001b[31m   \u001b[0m   File \"/Users/juniverse/opt/anaconda3/envs/veda/lib/python3.8/site-packages/setuptools/_distutils/command/build.py\", line 131, in run\n",
            "  \u001b[31m   \u001b[0m     self.run_command(cmd_name)\n",
            "  \u001b[31m   \u001b[0m   File \"/Users/juniverse/opt/anaconda3/envs/veda/lib/python3.8/site-packages/setuptools/_distutils/cmd.py\", line 318, in run_command\n",
            "  \u001b[31m   \u001b[0m     self.distribution.run_command(command)\n",
            "  \u001b[31m   \u001b[0m   File \"/Users/juniverse/opt/anaconda3/envs/veda/lib/python3.8/site-packages/setuptools/dist.py\", line 1234, in run_command\n",
            "  \u001b[31m   \u001b[0m     super().run_command(command)\n",
            "  \u001b[31m   \u001b[0m   File \"/Users/juniverse/opt/anaconda3/envs/veda/lib/python3.8/site-packages/setuptools/_distutils/dist.py\", line 988, in run_command\n",
            "  \u001b[31m   \u001b[0m     cmd_obj.run()\n",
            "  \u001b[31m   \u001b[0m   File \"/Users/juniverse/opt/anaconda3/envs/veda/lib/python3.8/site-packages/setuptools/command/build_ext.py\", line 84, in run\n",
            "  \u001b[31m   \u001b[0m     _build_ext.run(self)\n",
            "  \u001b[31m   \u001b[0m   File \"/Users/juniverse/opt/anaconda3/envs/veda/lib/python3.8/site-packages/setuptools/_distutils/command/build_ext.py\", line 345, in run\n",
            "  \u001b[31m   \u001b[0m     self.build_extensions()\n",
            "  \u001b[31m   \u001b[0m   File \"/Users/juniverse/opt/anaconda3/envs/veda/lib/python3.8/site-packages/torch/utils/cpp_extension.py\", line 487, in build_extensions\n",
            "  \u001b[31m   \u001b[0m     compiler_name, compiler_version = self._check_abi()\n",
            "  \u001b[31m   \u001b[0m   File \"/Users/juniverse/opt/anaconda3/envs/veda/lib/python3.8/site-packages/torch/utils/cpp_extension.py\", line 874, in _check_abi\n",
            "  \u001b[31m   \u001b[0m     _, version = get_compiler_abi_compatibility_and_version(compiler)\n",
            "  \u001b[31m   \u001b[0m   File \"/Users/juniverse/opt/anaconda3/envs/veda/lib/python3.8/site-packages/torch/utils/cpp_extension.py\", line 338, in get_compiler_abi_compatibility_and_version\n",
            "  \u001b[31m   \u001b[0m     if not check_compiler_ok_for_platform(compiler):\n",
            "  \u001b[31m   \u001b[0m   File \"/Users/juniverse/opt/anaconda3/envs/veda/lib/python3.8/site-packages/torch/utils/cpp_extension.py\", line 301, in check_compiler_ok_for_platform\n",
            "  \u001b[31m   \u001b[0m     version_string = subprocess.check_output([compiler, '-v'], stderr=subprocess.STDOUT, env=env).decode(*SUBPROCESS_DECODE_ARGS)\n",
            "  \u001b[31m   \u001b[0m   File \"/Users/juniverse/opt/anaconda3/envs/veda/lib/python3.8/subprocess.py\", line 415, in check_output\n",
            "  \u001b[31m   \u001b[0m     return run(*popenargs, stdout=PIPE, timeout=timeout, check=True,\n",
            "  \u001b[31m   \u001b[0m   File \"/Users/juniverse/opt/anaconda3/envs/veda/lib/python3.8/subprocess.py\", line 516, in run\n",
            "  \u001b[31m   \u001b[0m     raise CalledProcessError(retcode, process.args,\n",
            "  \u001b[31m   \u001b[0m subprocess.CalledProcessError: Command '['g++', '-v']' returned non-zero exit status 1.\n",
            "  \u001b[31m   \u001b[0m \u001b[31m[end of output]\u001b[0m\n",
            "  \n",
            "  \u001b[1;35mnote\u001b[0m: This error originates from a subprocess, and is likely not a problem with pip.\n",
            "\u001b[31m  ERROR: Failed building wheel for torch-sparse\u001b[0m\u001b[31m\n",
            "\u001b[0m\u001b[31mERROR: Could not build wheels for torch-sparse, which is required to install pyproject.toml-based projects\u001b[0m\u001b[31m\n",
            "\u001b[0m"
          ]
        }
      ],
      "source": [
        "import os\n",
        "import torch\n",
        "os.environ['TORCH'] = torch.__version__\n",
        "print(torch.__version__)\n",
        "\n",
        "!pip install -q torch-scatter -f https://data.pyg.org/whl/torch-${TORCH}.html\n",
        "!pip install -q torch-sparse -f https://data.pyg.org/whl/torch-${TORCH}.html\n",
        "!pip install -q git+https://github.com/pyg-team/pytorch_geometric.git"
      ]
    },
    {
      "cell_type": "code",
      "execution_count": null,
      "metadata": {
        "id": "nt76HwM63HQE"
      },
      "outputs": [],
      "source": [
        "import torch_geometric\n",
        "from torch_geometric.datasets import Planetoid"
      ]
    },
    {
      "cell_type": "markdown",
      "metadata": {
        "id": "cnpdY7i3-jYJ"
      },
      "source": [
        "1️⃣  Data Handling of Graphs"
      ]
    },
    {
      "cell_type": "code",
      "execution_count": null,
      "metadata": {
        "id": "J3_5txeK3IJd"
      },
      "outputs": [],
      "source": [
        "use_cuda_if_available = False"
      ]
    },
    {
      "cell_type": "code",
      "execution_count": null,
      "metadata": {
        "id": "JwQZMfaqxd8p"
      },
      "outputs": [],
      "source": [
        "import torch\n",
        "from torch_geometric.data import Data\n",
        "\n",
        "edge_index = torch.tensor([[0,1,1,2],\n",
        "                           [1,0,2,1]], dtype = torch.long) # (2,4) 크기의 행렬 : 4개의 엣지\n",
        "\n",
        "x = torch.tensor([[-1],[0],[1]], dtype = torch.float) # (3,1) 크기의 행렬 : 3개의 노드\n",
        "\n",
        "data = Data(x=x, edge_index = edge_index)"
      ]
    },
    {
      "cell_type": "code",
      "execution_count": null,
      "metadata": {
        "colab": {
          "base_uri": "https://localhost:8080/"
        },
        "id": "UCXtbdbdxd51",
        "outputId": "94754667-b560-4d45-93a1-636d8ded8fa5"
      },
      "outputs": [
        {
          "data": {
            "text/plain": [
              "Data(x=[3, 1], edge_index=[2, 4])"
            ]
          },
          "execution_count": 6,
          "metadata": {},
          "output_type": "execute_result"
        }
      ],
      "source": [
        "data"
      ]
    },
    {
      "cell_type": "code",
      "execution_count": null,
      "metadata": {
        "colab": {
          "base_uri": "https://localhost:8080/"
        },
        "id": "HdC2xt6U4wXh",
        "outputId": "83aef0a1-2462-4473-aa91-222b75c6b97f"
      },
      "outputs": [
        {
          "data": {
            "text/plain": [
              "Data(x=[3, 1], edge_index=[2, 4])"
            ]
          },
          "execution_count": 7,
          "metadata": {},
          "output_type": "execute_result"
        }
      ],
      "source": [
        "# 엣지를 노드의 순서쌍으로 표현한 경우\n",
        "\n",
        "edge_index = torch.tensor([[0,1],\n",
        "                           [1,0],\n",
        "                           [1,2],\n",
        "                           [2,1]], dtype = torch.long) # 4개의 엣지\n",
        "\n",
        "x = torch.tensor([[-1],[0],[1]], dtype = torch.float)\n",
        "\n",
        "data = Data(x=x, edge_index = edge_index.t().contiguous())\n",
        "\n",
        "data"
      ]
    },
    {
      "cell_type": "code",
      "execution_count": null,
      "metadata": {
        "colab": {
          "base_uri": "https://localhost:8080/"
        },
        "id": "SqtDV2q14wVK",
        "outputId": "d602a82a-6197-48a7-cf98-1f86dbe1be37"
      },
      "outputs": [
        {
          "name": "stdout",
          "output_type": "stream",
          "text": [
            "['edge_index', 'x']\n"
          ]
        }
      ],
      "source": [
        "# 함수\n",
        "\n",
        "print(data.keys) # 해당 속성 이름"
      ]
    },
    {
      "cell_type": "code",
      "execution_count": null,
      "metadata": {
        "colab": {
          "base_uri": "https://localhost:8080/"
        },
        "id": "4cAnnBVD6rzu",
        "outputId": "48e05d4d-f1da-4154-ff39-9a77c301542d"
      },
      "outputs": [
        {
          "name": "stdout",
          "output_type": "stream",
          "text": [
            "tensor([[-1.],\n",
            "        [ 0.],\n",
            "        [ 1.]])\n"
          ]
        }
      ],
      "source": [
        "print(data['x'])"
      ]
    },
    {
      "cell_type": "code",
      "execution_count": null,
      "metadata": {
        "colab": {
          "base_uri": "https://localhost:8080/"
        },
        "id": "zsmWjYgu6rxO",
        "outputId": "0225d226-02af-47c3-aaf1-86b0acb4f9b1"
      },
      "outputs": [
        {
          "name": "stdout",
          "output_type": "stream",
          "text": [
            "x found in data\n",
            "tensor([[-1.],\n",
            "        [ 0.],\n",
            "        [ 1.]]) found in data\n",
            "\n",
            "edge_index found in data\n",
            "tensor([[0, 1, 1, 2],\n",
            "        [1, 0, 2, 1]]) found in data\n",
            "\n"
          ]
        }
      ],
      "source": [
        "for key, item in data :\n",
        "  print(f'{key} found in data')\n",
        "  print(f'{item} found in data')\n",
        "  print()"
      ]
    },
    {
      "cell_type": "code",
      "execution_count": null,
      "metadata": {
        "colab": {
          "base_uri": "https://localhost:8080/"
        },
        "id": "XyKGG0SA6ybf",
        "outputId": "8a08aede-70fa-40fd-b114-e0480763d4eb"
      },
      "outputs": [
        {
          "data": {
            "text/plain": [
              "False"
            ]
          },
          "execution_count": 13,
          "metadata": {},
          "output_type": "execute_result"
        }
      ],
      "source": [
        "'edge_attr' in data  # 엣지 특징 행렬이 있냐 - 없다."
      ]
    },
    {
      "cell_type": "code",
      "execution_count": null,
      "metadata": {
        "colab": {
          "base_uri": "https://localhost:8080/"
        },
        "id": "yvP5ZJ8r6yY_",
        "outputId": "4b6561b6-9b55-4549-835a-8c81b6e1afed"
      },
      "outputs": [
        {
          "data": {
            "text/plain": [
              "3"
            ]
          },
          "execution_count": 14,
          "metadata": {},
          "output_type": "execute_result"
        }
      ],
      "source": [
        "data.num_nodes # 노드의 개수"
      ]
    },
    {
      "cell_type": "code",
      "execution_count": null,
      "metadata": {
        "colab": {
          "base_uri": "https://localhost:8080/"
        },
        "id": "cgq6grTx6ruv",
        "outputId": "3ed02b47-2a3a-4111-9810-2b9736a0bca0"
      },
      "outputs": [
        {
          "data": {
            "text/plain": [
              "4"
            ]
          },
          "execution_count": 16,
          "metadata": {},
          "output_type": "execute_result"
        }
      ],
      "source": [
        "data.num_edges # 엣지의 개수"
      ]
    },
    {
      "cell_type": "code",
      "execution_count": null,
      "metadata": {
        "colab": {
          "base_uri": "https://localhost:8080/"
        },
        "id": "ffzEg8A14wSo",
        "outputId": "4f4c062d-f177-4e0d-f390-38520d963af0"
      },
      "outputs": [
        {
          "data": {
            "text/plain": [
              "1"
            ]
          },
          "execution_count": 17,
          "metadata": {},
          "output_type": "execute_result"
        }
      ],
      "source": [
        "data.num_node_features  # 노드 특성의 개수"
      ]
    },
    {
      "cell_type": "code",
      "execution_count": null,
      "metadata": {
        "colab": {
          "base_uri": "https://localhost:8080/"
        },
        "id": "zfNgCjnpxd3R",
        "outputId": "9a9c1469-ffdd-4ad1-9d44-15654345f959"
      },
      "outputs": [
        {
          "data": {
            "text/plain": [
              "False"
            ]
          },
          "execution_count": 18,
          "metadata": {},
          "output_type": "execute_result"
        }
      ],
      "source": [
        "data.has_isolated_nodes() # 고립 노드 있는지 여부"
      ]
    },
    {
      "cell_type": "code",
      "execution_count": null,
      "metadata": {
        "colab": {
          "base_uri": "https://localhost:8080/"
        },
        "id": "YLt6AP9x7U9E",
        "outputId": "71f3daa2-fb3f-427f-84eb-eef0b9d85a8b"
      },
      "outputs": [
        {
          "data": {
            "text/plain": [
              "False"
            ]
          },
          "execution_count": 19,
          "metadata": {},
          "output_type": "execute_result"
        }
      ],
      "source": [
        "data.has_self_loops() # 자기 자신으로 화살표가 돌아오는 노드가 있는지 여부"
      ]
    },
    {
      "cell_type": "code",
      "execution_count": null,
      "metadata": {
        "colab": {
          "base_uri": "https://localhost:8080/"
        },
        "id": "8UR1F8C37U63",
        "outputId": "61df0e32-0a1e-4e8d-cc58-8c37498a67c4"
      },
      "outputs": [
        {
          "data": {
            "text/plain": [
              "False"
            ]
          },
          "execution_count": 20,
          "metadata": {},
          "output_type": "execute_result"
        }
      ],
      "source": [
        "data.is_directed() # 단방향 그래프인지 여부"
      ]
    },
    {
      "cell_type": "code",
      "execution_count": null,
      "metadata": {
        "id": "bWbbNE197U4b"
      },
      "outputs": [],
      "source": [
        "# Transfer data object to GPU.\n",
        "device = torch.device('cuda')\n",
        "data = data.to(device) # GPU 사용으로 변경"
      ]
    },
    {
      "cell_type": "markdown",
      "metadata": {
        "id": "VgXiwKgL-kt2"
      },
      "source": [
        "2️⃣  Common Benchmark Datasets"
      ]
    },
    {
      "cell_type": "markdown",
      "metadata": {
        "id": "Hz-fEem2B7bh"
      },
      "source": [
        "* 효소 데이터셋 예제"
      ]
    },
    {
      "cell_type": "code",
      "execution_count": null,
      "metadata": {
        "colab": {
          "base_uri": "https://localhost:8080/"
        },
        "id": "Z1D8IptS7tls",
        "outputId": "afe30a69-8ae4-4b4d-c7fd-2a44edfde325"
      },
      "outputs": [
        {
          "name": "stderr",
          "output_type": "stream",
          "text": [
            "Downloading https://www.chrsmrrs.com/graphkerneldatasets/ENZYMES.zip\n",
            "Extracting /tmp/ENZYMES/ENZYMES/ENZYMES.zip\n",
            "Processing...\n",
            "Done!\n"
          ]
        },
        {
          "data": {
            "text/plain": [
              "ENZYMES(600)"
            ]
          },
          "execution_count": 22,
          "metadata": {},
          "output_type": "execute_result"
        }
      ],
      "source": [
        "from torch_geometric.datasets import TUDataset\n",
        "\n",
        "dataset = TUDataset(root = '/tmp/ENZYMES', name = 'ENZYMES')\n",
        "dataset"
      ]
    },
    {
      "cell_type": "code",
      "execution_count": null,
      "metadata": {
        "colab": {
          "base_uri": "https://localhost:8080/"
        },
        "id": "r_Fk-mva-v0E",
        "outputId": "c4e2834e-fed8-4dd8-a59f-41b75b2838db"
      },
      "outputs": [
        {
          "name": "stdout",
          "output_type": "stream",
          "text": [
            "600\n",
            "6\n",
            "3\n"
          ]
        }
      ],
      "source": [
        "print(len(dataset)) # 그래프 개수\n",
        "print(dataset.num_classes) # 그래프 클래스 수\n",
        "print(dataset.num_node_features) # 노드의 특징 수"
      ]
    },
    {
      "cell_type": "code",
      "execution_count": null,
      "metadata": {
        "colab": {
          "base_uri": "https://localhost:8080/"
        },
        "id": "gP7xT-f5-vwb",
        "outputId": "b5ab0e25-031d-487d-8744-930904de1653"
      },
      "outputs": [
        {
          "name": "stdout",
          "output_type": "stream",
          "text": [
            "Data(edge_index=[2, 168], x=[37, 3], y=[1])\n"
          ]
        }
      ],
      "source": [
        "data = dataset[0] # 인덱스 슬라이싱을 통해 데이터 확인하기\n",
        "print(data)\n",
        "\n",
        "# edge_index=[2, 168] : 84 개의 엣지 (2 : 양방향, 엣지 개수 : 84개)\n",
        "#  x=[37, 3]  : 37개의 노드와 3개의 노드 특성 (하나의 노드가 3개의 값을 가짐)\n",
        "#  y=[1]   : 그래프 레벨 타겟"
      ]
    },
    {
      "cell_type": "code",
      "execution_count": null,
      "metadata": {
        "colab": {
          "base_uri": "https://localhost:8080/"
        },
        "id": "tiTS9Xv77tjp",
        "outputId": "530b9c60-588d-4cb4-8060-bb2ab5a34e8d"
      },
      "outputs": [
        {
          "data": {
            "text/plain": [
              "True"
            ]
          },
          "execution_count": 26,
          "metadata": {},
          "output_type": "execute_result"
        }
      ],
      "source": [
        "data.is_undirected() # 양방향 그래프인가요 - 네"
      ]
    },
    {
      "cell_type": "code",
      "execution_count": null,
      "metadata": {
        "colab": {
          "base_uri": "https://localhost:8080/"
        },
        "id": "lTC6VJnL7U0v",
        "outputId": "ef18bf36-9b56-4094-dd89-074a9a1b2288"
      },
      "outputs": [
        {
          "name": "stdout",
          "output_type": "stream",
          "text": [
            "ENZYMES(540)\n",
            "ENZYMES(60)\n"
          ]
        }
      ],
      "source": [
        "train_dataset = dataset[:540]\n",
        "test_dataset = dataset[540:]\n",
        "\n",
        "print(train_dataset)\n",
        "print(test_dataset)\n",
        "\n"
      ]
    },
    {
      "cell_type": "code",
      "execution_count": null,
      "metadata": {
        "colab": {
          "base_uri": "https://localhost:8080/"
        },
        "id": "zVAjUAf8v0LL",
        "outputId": "1bc27018-d265-4aee-8da9-47cbad6e2fa9"
      },
      "outputs": [
        {
          "name": "stdout",
          "output_type": "stream",
          "text": [
            "ENZYMES(600)\n"
          ]
        }
      ],
      "source": [
        "dataset = dataset.shuffle() # 데이터셋 셔플\n",
        "print(dataset)"
      ]
    },
    {
      "cell_type": "markdown",
      "metadata": {
        "id": "deFoE5vOB-eP"
      },
      "source": [
        "* 논문 데이터셋 예제"
      ]
    },
    {
      "cell_type": "code",
      "execution_count": null,
      "metadata": {
        "id": "vYWG10bh_yCz"
      },
      "outputs": [],
      "source": [
        "from torch_geometric.datasets import Planetoid\n",
        "\n",
        "dataset = Planetoid(root = 'tmp/Cora', name = 'Cora')"
      ]
    },
    {
      "cell_type": "code",
      "execution_count": null,
      "metadata": {
        "colab": {
          "base_uri": "https://localhost:8080/"
        },
        "id": "wTt8iR2OB_rD",
        "outputId": "a7f4335c-fcbb-4ec6-d598-76e2d40565a4"
      },
      "outputs": [
        {
          "name": "stdout",
          "output_type": "stream",
          "text": [
            "1\n",
            "7\n",
            "1433\n"
          ]
        }
      ],
      "source": [
        "print(len(dataset)) # 데이터셋 전체가 하나의 그래프임\n",
        "\n",
        "print(dataset.num_classes)  # 7개의 클래스\n",
        "\n",
        "print(dataset.num_node_features) # 1433개의 노드 특성 (하나의 노드에 1433개의 값이 존재)"
      ]
    },
    {
      "cell_type": "code",
      "execution_count": null,
      "metadata": {
        "colab": {
          "base_uri": "https://localhost:8080/"
        },
        "id": "jt9Xd_A6_yA_",
        "outputId": "07504dd0-e9f6-4251-cb2e-1541ccd42f0e"
      },
      "outputs": [
        {
          "data": {
            "text/plain": [
              "Data(x=[2708, 1433], edge_index=[2, 10556], y=[2708], train_mask=[2708], val_mask=[2708], test_mask=[2708])"
            ]
          },
          "execution_count": 34,
          "metadata": {},
          "output_type": "execute_result"
        }
      ],
      "source": [
        "data = dataset[0]\n",
        "\n",
        "data"
      ]
    },
    {
      "cell_type": "code",
      "execution_count": null,
      "metadata": {
        "colab": {
          "base_uri": "https://localhost:8080/"
        },
        "id": "YjtwIZsp_x-3",
        "outputId": "a8fdd781-d6e1-45f6-ddf6-4781d3e01077"
      },
      "outputs": [
        {
          "name": "stdout",
          "output_type": "stream",
          "text": [
            "True\n"
          ]
        }
      ],
      "source": [
        "print(data.is_undirected())  # 양방향 그래프"
      ]
    },
    {
      "cell_type": "code",
      "execution_count": null,
      "metadata": {
        "colab": {
          "base_uri": "https://localhost:8080/"
        },
        "id": "SQXknJCbDdL4",
        "outputId": "6dbf7800-8ec0-400b-813d-489fe7a748ec"
      },
      "outputs": [
        {
          "data": {
            "text/plain": [
              "140"
            ]
          },
          "execution_count": 36,
          "metadata": {},
          "output_type": "execute_result"
        }
      ],
      "source": [
        "data.train_mask.sum().item() # 학습하기 위해 사용하는 노드"
      ]
    },
    {
      "cell_type": "code",
      "execution_count": null,
      "metadata": {
        "colab": {
          "base_uri": "https://localhost:8080/"
        },
        "id": "4j1MF8tBDdIq",
        "outputId": "dea2c95e-947c-4da7-8af4-6851393ee908"
      },
      "outputs": [
        {
          "data": {
            "text/plain": [
              "500"
            ]
          },
          "execution_count": 37,
          "metadata": {},
          "output_type": "execute_result"
        }
      ],
      "source": [
        "data.val_mask.sum().item() # 검증 시 사용하는 노드"
      ]
    },
    {
      "cell_type": "code",
      "execution_count": null,
      "metadata": {
        "colab": {
          "base_uri": "https://localhost:8080/"
        },
        "id": "kEyaY016DdGm",
        "outputId": "c621e769-6155-433a-de12-a7f5ba07c713"
      },
      "outputs": [
        {
          "data": {
            "text/plain": [
              "1000"
            ]
          },
          "execution_count": 38,
          "metadata": {},
          "output_type": "execute_result"
        }
      ],
      "source": [
        "data.test_mask.sum().item()  # 테스트 시 사용하는 노드"
      ]
    },
    {
      "cell_type": "markdown",
      "metadata": {
        "id": "3ikfcPZLFZgk"
      },
      "source": [
        "3️⃣ Mini-batches"
      ]
    },
    {
      "cell_type": "code",
      "execution_count": null,
      "metadata": {
        "colab": {
          "base_uri": "https://localhost:8080/"
        },
        "id": "NR7xAv2sDdD-",
        "outputId": "0f46a0ef-c491-4860-d177-a353a82baa1c"
      },
      "outputs": [
        {
          "name": "stdout",
          "output_type": "stream",
          "text": [
            "DataBatch(edge_index=[2, 3938], x=[984, 21], y=[32], batch=[984], ptr=[33])\n",
            "32\n",
            "DataBatch(edge_index=[2, 3480], x=[902, 21], y=[32], batch=[902], ptr=[33])\n",
            "32\n",
            "DataBatch(edge_index=[2, 4264], x=[1154, 21], y=[32], batch=[1154], ptr=[33])\n",
            "32\n",
            "DataBatch(edge_index=[2, 4162], x=[1128, 21], y=[32], batch=[1128], ptr=[33])\n",
            "32\n",
            "DataBatch(edge_index=[2, 3646], x=[1036, 21], y=[32], batch=[1036], ptr=[33])\n",
            "32\n",
            "DataBatch(edge_index=[2, 4030], x=[1043, 21], y=[32], batch=[1043], ptr=[33])\n",
            "32\n",
            "DataBatch(edge_index=[2, 4480], x=[1253, 21], y=[32], batch=[1253], ptr=[33])\n",
            "32\n",
            "DataBatch(edge_index=[2, 4240], x=[1141, 21], y=[32], batch=[1141], ptr=[33])\n",
            "32\n",
            "DataBatch(edge_index=[2, 3882], x=[958, 21], y=[32], batch=[958], ptr=[33])\n",
            "32\n",
            "DataBatch(edge_index=[2, 3550], x=[946, 21], y=[32], batch=[946], ptr=[33])\n",
            "32\n",
            "DataBatch(edge_index=[2, 4462], x=[1138, 21], y=[32], batch=[1138], ptr=[33])\n",
            "32\n",
            "DataBatch(edge_index=[2, 4546], x=[1258, 21], y=[32], batch=[1258], ptr=[33])\n",
            "32\n",
            "DataBatch(edge_index=[2, 4032], x=[1035, 21], y=[32], batch=[1035], ptr=[33])\n",
            "32\n",
            "DataBatch(edge_index=[2, 3690], x=[982, 21], y=[32], batch=[982], ptr=[33])\n",
            "32\n",
            "DataBatch(edge_index=[2, 4040], x=[1006, 21], y=[32], batch=[1006], ptr=[33])\n",
            "32\n",
            "DataBatch(edge_index=[2, 3872], x=[1020, 21], y=[32], batch=[1020], ptr=[33])\n",
            "32\n",
            "DataBatch(edge_index=[2, 3964], x=[988, 21], y=[32], batch=[988], ptr=[33])\n",
            "32\n",
            "DataBatch(edge_index=[2, 3478], x=[871, 21], y=[32], batch=[871], ptr=[33])\n",
            "32\n",
            "DataBatch(edge_index=[2, 2808], x=[737, 21], y=[24], batch=[737], ptr=[25])\n",
            "24\n"
          ]
        }
      ],
      "source": [
        "from torch_geometric.datasets import TUDataset\n",
        "from torch_geometric.data import DataLoader\n",
        "\n",
        "dataset = TUDataset(root = '/tmp/ENZYMES', name = 'ENZYMES',use_node_attr=True)\n",
        "\n",
        "loader = DataLoader(dataset, batch_size = 32, shuffle = True)\n",
        "\n",
        "for batch in loader :\n",
        "\n",
        "  print(batch)\n",
        "\n",
        "  print(batch.num_graphs)"
      ]
    },
    {
      "cell_type": "markdown",
      "metadata": {
        "id": "me1MAasfIJLT"
      },
      "source": [
        "4️⃣  Data Transforms"
      ]
    },
    {
      "cell_type": "markdown",
      "metadata": {
        "id": "9bZbCGJiIzG5"
      },
      "source": [
        "* ShapeNet dataset 예제"
      ]
    },
    {
      "cell_type": "code",
      "execution_count": null,
      "metadata": {
        "colab": {
          "base_uri": "https://localhost:8080/"
        },
        "id": "abrGbB5hIHW2",
        "outputId": "75362b7b-834c-467f-fa15-6cd3baa4f762"
      },
      "outputs": [
        {
          "name": "stderr",
          "output_type": "stream",
          "text": [
            "Downloading https://shapenet.cs.stanford.edu/media/shapenetcore_partanno_segmentation_benchmark_v0_normal.zip\n",
            "Extracting /tmp/ShapeNet/shapenetcore_partanno_segmentation_benchmark_v0_normal.zip\n",
            "Processing...\n",
            "Done!\n"
          ]
        },
        {
          "data": {
            "text/plain": [
              "Data(x=[2518, 3], y=[2518], pos=[2518, 3], category=[1])"
            ]
          },
          "execution_count": 41,
          "metadata": {},
          "output_type": "execute_result"
        }
      ],
      "source": [
        "from torch_geometric.datasets import ShapeNet\n",
        "\n",
        "dataset = ShapeNet(root = '/tmp/ShapeNet', categories = ['Airplane'])\n",
        "\n",
        "dataset[0]"
      ]
    },
    {
      "cell_type": "code",
      "execution_count": null,
      "metadata": {
        "id": "V-_2RF1CIHTw"
      },
      "outputs": [],
      "source": [
        "import torch_geometric.transforms as T\n",
        "from torch_geometric.datasets import ShapeNet\n",
        "\n",
        "# 그래프 변환\n",
        "\n",
        "dataset = ShapeNet(root = '/tmp/ShapeNet', categories = ['Airplane'],\n",
        "                   pre_transform = T.KNNGraph(k=6),\n",
        "                   transform = T.RandomTranslate(0.01))\n"
      ]
    },
    {
      "cell_type": "code",
      "execution_count": null,
      "metadata": {
        "colab": {
          "base_uri": "https://localhost:8080/"
        },
        "id": "AaXJY5WsIHRD",
        "outputId": "09f80e71-b284-48b1-f5c2-69fd770e27f8"
      },
      "outputs": [
        {
          "data": {
            "text/plain": [
              "Data(x=[2518, 3], y=[2518], pos=[2518, 3], category=[1])"
            ]
          },
          "execution_count": 45,
          "metadata": {},
          "output_type": "execute_result"
        }
      ],
      "source": [
        "dataset[0]"
      ]
    },
    {
      "cell_type": "markdown",
      "metadata": {
        "id": "y904jiTmJ2af"
      },
      "source": [
        "5️⃣  Learning Methods on Graphs"
      ]
    },
    {
      "cell_type": "code",
      "execution_count": null,
      "metadata": {
        "id": "BXOjV6Xy_x8U"
      },
      "outputs": [],
      "source": [
        "from torch_geometric.datasets import Planetoid\n",
        "\n",
        "dataset = Planetoid(root='/tmp/Cora', name='Cora')"
      ]
    },
    {
      "cell_type": "code",
      "execution_count": null,
      "metadata": {
        "id": "skiixi-eJ5CF"
      },
      "outputs": [],
      "source": [
        "import torch\n",
        "import torch.nn.functional as F\n",
        "from torch_geometric.nn import GCNConv\n",
        "\n",
        "class Net(torch.nn.Module) :\n",
        "  def __init__(self) :\n",
        "    super(Net, self).__init__()\n",
        "    self.conv1 = GCNConv(dataset.num_node_features, 16)\n",
        "    self.conv2 = GCNConv(16, dataset.num_classes)\n",
        "\n",
        "    # 2개의 GCNConv layer\n",
        "\n",
        "  def forward(self, data) :\n",
        "    x, edge_index = data.x, data.edge_index\n",
        "\n",
        "    x = self.conv1(x, edge_index)\n",
        "    x = F.relu(x)\n",
        "    x = F.dropout(x, training = self.training)\n",
        "    x = self.conv2(x, edge_index)\n",
        "\n",
        "    return F.log_softmax(x, dim=1)"
      ]
    },
    {
      "cell_type": "code",
      "execution_count": null,
      "metadata": {
        "id": "P7n7YLvuJ4_s"
      },
      "outputs": [],
      "source": [
        "# GPU 설정\n",
        "device = torch.device('cuda' if torch.cuda.is_available() else 'cpu')\n",
        "model = Net().to(device)\n",
        "data = dataset[0].to(device)\n",
        "\n",
        "# 옵티마이저 생성\n",
        "optimizer = torch.optim.Adam(model.parameters(), lr = 0.01, weight_decay = 5e-4)\n",
        "\n",
        "# 훈련\n",
        "\n",
        "model.train() # 학습 준비\n",
        "\n",
        "for epoch in range(200) :\n",
        "  optimizer.zero_grad() # 파라미터 초기화\n",
        "  out = model(data) # 예측값\n",
        "  loss = F.nll_loss(out[data.train_mask], data.y[data.train_mask]) # 손실함수 계산\n",
        "  loss.backward() # 역전파\n",
        "  optimizer.step() # 파라미터 업데이터\n"
      ]
    },
    {
      "cell_type": "code",
      "execution_count": null,
      "metadata": {
        "colab": {
          "base_uri": "https://localhost:8080/"
        },
        "id": "GLYSimjjJ49W",
        "outputId": "e0177b1a-1314-4936-ff73-92475dbdf0d4"
      },
      "outputs": [
        {
          "name": "stdout",
          "output_type": "stream",
          "text": [
            "정확도 : 0.8040\n"
          ]
        }
      ],
      "source": [
        "# 모델 평가\n",
        "\n",
        "model.eval()\n",
        "\n",
        "_, pred = model(data).max(dim=1)\n",
        "\n",
        "correct = float (pred[data.test_mask].eq(data.y[data.test_mask]).sum().item())\n",
        "acc = correct / data.test_mask.sum().item()\n",
        "\n",
        "print('정확도 : {:.4f}'.format(acc))"
      ]
    },
    {
      "cell_type": "code",
      "execution_count": null,
      "metadata": {
        "id": "4p5s8BkpJ38H"
      },
      "outputs": [],
      "source": []
    },
    {
      "cell_type": "code",
      "execution_count": null,
      "metadata": {
        "id": "ckfndBsP_x5_"
      },
      "outputs": [],
      "source": []
    }
  ],
  "metadata": {
    "colab": {
      "provenance": []
    },
    "kernelspec": {
      "display_name": "Python 3",
      "name": "python3"
    },
    "language_info": {
      "codemirror_mode": {
        "name": "ipython",
        "version": 3
      },
      "file_extension": ".py",
      "mimetype": "text/x-python",
      "name": "python",
      "nbconvert_exporter": "python",
      "pygments_lexer": "ipython3",
      "version": "3.8.17"
    }
  },
  "nbformat": 4,
  "nbformat_minor": 0
}
