{
 "cells": [
  {
   "cell_type": "code",
   "execution_count": 91,
   "metadata": {},
   "outputs": [],
   "source": [
    "# custom loss\n",
    "import torch\n",
    "import torch.nn as nn\n",
    "import torch.optim as optim\n",
    "import torch.nn.functional as F\n",
    "from torch.utils.data import Dataset,DataLoader,TensorDataset\n",
    "from transformers import AdamW\n",
    "\n",
    "\n",
    "def my_loss(output, target):\n",
    "    loss = torch.mean((output - target)**2)\n",
    "    return loss\n",
    "\n",
    "def my_cross_entropy(x, y):\n",
    "    log_prob = -1.0 * F.log_softmax(x, 1)\n",
    "    loss = log_prob.gather(1, y.unsqueeze(1))\n",
    "    loss = loss.mean()\n",
    "    return loss\n"
   ]
  },
  {
   "cell_type": "code",
   "execution_count": 98,
   "metadata": {},
   "outputs": [
    {
     "name": "stdout",
     "output_type": "stream",
     "text": [
      "torch.Size([256, 3, 224, 224]) torch.Size([256, 77])\n"
     ]
    }
   ],
   "source": [
    "import torch\n",
    "import torch.nn as nn\n",
    "import torch.optim as optim\n",
    "import torch.nn.functional as F\n",
    "from torch.utils.data import Dataset,DataLoader,TensorDataset\n",
    "from transformers import AdamW\n",
    "\n",
    "LEARNING_RATE = 0.2\n",
    "NUM_EPOCHS = 100\n",
    "BATCH_SIZE = 64\n",
    "\n",
    "# data\n",
    "x = torch.randn(1,3,224,224 )\n",
    "# x = torch.randn(1,2)\n",
    "X = torch.randn(0)\n",
    "for _ in range(BATCH_SIZE*4):\n",
    "    X = torch.concat((X,x),dim=0)\n",
    "    \n",
    "y = torch.randn(1, 77)\n",
    "# y = torch.randn(1, 2)\n",
    "Y = torch.randn(0)\n",
    "for _ in range(BATCH_SIZE*4):\n",
    "    Y = torch.concat((Y,y),dim=0)\n",
    "\n",
    "print(X.shape,Y.shape)\n",
    "# X = torch.arange(10 * 5, dtype=torch.float32).view(10, 5)\n",
    "# Y = torch.arange(10 * 5, dtype=torch.float32).view(10, 5)**2\n",
    "dataset = TensorDataset(X, Y)\n",
    "\n",
    "My_DataLoader = DataLoader(dataset,\n",
    "                        batch_size=BATCH_SIZE, \n",
    "                        shuffle=False\n",
    "                        )"
   ]
  },
  {
   "cell_type": "code",
   "execution_count": 103,
   "metadata": {},
   "outputs": [
    {
     "name": "stdout",
     "output_type": "stream",
     "text": [
      "prediction\n",
      "tensor([-1.,  1.], grad_fn=<SelectBackward0>)\n",
      "\n",
      "true value\n",
      "tensor([-0.1126,  0.0125], grad_fn=<SelectBackward0>)\n"
     ]
    }
   ],
   "source": [
    "model = nn.Sequential(\n",
    "    nn.Linear(3*224*224,2),\n",
    "    nn.Tanh(),\n",
    ")\n",
    "\n",
    "model2 = nn.Sequential(\n",
    "    nn.Linear(77,2),\n",
    "    nn.Tanh()\n",
    ")\n",
    "\n",
    "# optimizer\n",
    "optimizer = optim.SGD(model.parameters(),lr=LEARNING_RATE)\n",
    "optimizer2 = optim.SGD(model2.parameters(),lr=LEARNING_RATE)\n",
    "# optimizer = AdamW(model.parameters(), lr=1e-1)\n",
    "\n",
    "# loss\n",
    "criterion = nn.MSELoss()\n",
    "criterion = nn.CrossEntropyLoss()\n",
    "criterion = my_loss\n",
    "# criterion = my_cross_entropy\n",
    "\n",
    "\n",
    "model.train()\n",
    "for epoch in range(NUM_EPOCHS):\n",
    "    for x,y in My_DataLoader:\n",
    "        optimizer.zero_grad()\n",
    "        x = x.view(BATCH_SIZE,-1)\n",
    "        # y = y.view(BATCH_SIZE,-1)\n",
    "        \n",
    "        y_pred = model(x)\n",
    "        z_pred = model2(y)\n",
    "        loss = criterion(z_pred, y_pred)\n",
    "\n",
    "        loss.backward()\n",
    "        optimizer.step()\n",
    "        \n",
    "# print(model.weight.grad)\n",
    "\n",
    "# print(model.weight)\n",
    "\n",
    "print('prediction')\n",
    "print(y_pred[0])\n",
    "print()\n",
    "print('true value')\n",
    "print(z_pred[0])"
   ]
  },
  {
   "cell_type": "code",
   "execution_count": 105,
   "metadata": {},
   "outputs": [
    {
     "name": "stdout",
     "output_type": "stream",
     "text": [
      "tensor(0., grad_fn=<SubBackward0>)\n"
     ]
    }
   ],
   "source": [
    "# loss값이 얼마나 차이나는지 확인.\n",
    "\n",
    "def my_cross_entropy(x, y):\n",
    "    log_prob = -1.0 * F.log_softmax(x, 1)\n",
    "    loss = log_prob.gather(1, y.unsqueeze(1))\n",
    "    loss = loss.mean()\n",
    "    return loss\n",
    "\n",
    "criterion = nn.CrossEntropyLoss()\n",
    "\n",
    "batch_size = 5\n",
    "nb_classes = 10\n",
    "x = torch.randn(batch_size, nb_classes, requires_grad=True)\n",
    "y = torch.randint(0, nb_classes, (batch_size,))\n",
    "\n",
    "loss_reference = criterion(x, y)\n",
    "loss = my_cross_entropy(x, y)\n",
    "\n",
    "print(loss_reference - loss)"
   ]
  }
 ],
 "metadata": {
  "kernelspec": {
   "display_name": "veda",
   "language": "python",
   "name": "python3"
  },
  "language_info": {
   "codemirror_mode": {
    "name": "ipython",
    "version": 3
   },
   "file_extension": ".py",
   "mimetype": "text/x-python",
   "name": "python",
   "nbconvert_exporter": "python",
   "pygments_lexer": "ipython3",
   "version": "3.8.17"
  }
 },
 "nbformat": 4,
 "nbformat_minor": 2
}
