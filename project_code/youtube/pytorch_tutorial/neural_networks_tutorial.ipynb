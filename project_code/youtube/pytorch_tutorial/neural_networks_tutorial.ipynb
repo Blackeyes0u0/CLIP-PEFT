{
  "cells": [
    {
      "cell_type": "code",
      "execution_count": 165,
      "metadata": {
        "collapsed": false
      },
      "outputs": [],
      "source": [
        "# Google Colab에서 노트북을 실행하실 때에는 \n",
        "# https://tutorials.pytorch.kr/beginner/colab 를 참고하세요.\n",
        "%matplotlib inline"
      ]
    },
    {
      "cell_type": "markdown",
      "metadata": {},
      "source": [
        "\n",
        "# 신경망(Neural Networks)\n",
        "\n",
        "신경망은 ``torch.nn`` 패키지를 사용하여 생성할 수 있습니다.\n",
        "\n",
        "지금까지 ``autograd`` 를 살펴봤는데요, ``nn`` 은 모델을 정의하고 미분하는데\n",
        "``autograd`` 를 사용합니다.\n",
        "``nn.Module`` 은 계층(layer)과 ``output`` 을 반환하는 ``forward(input)``\n",
        "메서드를 포함하고 있습니다.\n",
        "\n",
        "숫자 이미지를 분류하는 신경망을 예제로 살펴보겠습니다:\n",
        "\n",
        ".. figure:: /_static/img/mnist.png\n",
        "   :alt: convnet\n",
        "\n",
        "   convnet\n",
        "\n",
        "이는 간단한 순전파 네트워크(Feed-forward network)입니다. 입력(input)을 받아\n",
        "여러 계층에 차례로 전달한 후, 최종 출력(output)을 제공합니다.\n",
        "\n",
        "신경망의 일반적인 학습 과정은 다음과 같습니다:\n",
        "\n",
        "- 학습 가능한 매개변수(또는 가중치(weight))를 갖는 신경망을 정의합니다.\n",
        "- 데이터셋(dataset) 입력을 반복합니다.\n",
        "- 입력을 신경망에서 전파(process)합니다.\n",
        "- 손실(loss; 출력이 정답으로부터 얼마나 떨어져 있는지)을 계산합니다.\n",
        "- 변화도(gradient)를 신경망의 매개변수들에 역으로 전파합니다.\n",
        "- 신경망의 가중치를 갱신합니다. 일반적으로 다음과 같은 간단한 규칙을 사용합니다:\n",
        "  ``새로운 가중치(weight) = 가중치(weight) - 학습률(learning rate) * 변화도(gradient)``\n",
        "\n",
        "## 신경망 정의하기\n",
        "\n",
        "이제 신경망을 정의해보겠습니다:\n"
      ]
    },
    {
      "cell_type": "code",
      "execution_count": 166,
      "metadata": {
        "collapsed": false
      },
      "outputs": [
        {
          "name": "stdout",
          "output_type": "stream",
          "text": [
            "Net(\n",
            "  (conv1): Conv2d(1, 6, kernel_size=(5, 5), stride=(1, 1))\n",
            "  (conv2): Conv2d(6, 16, kernel_size=(5, 5), stride=(1, 1))\n",
            "  (fc1): Linear(in_features=400, out_features=120, bias=True)\n",
            "  (fc2): Linear(in_features=120, out_features=84, bias=True)\n",
            "  (fc3): Linear(in_features=84, out_features=10, bias=True)\n",
            ")\n"
          ]
        }
      ],
      "source": [
        "import torch\n",
        "import torch.nn as nn\n",
        "import torch.nn.functional as F\n",
        "\n",
        "\n",
        "class Net(nn.Module):\n",
        "\n",
        "    def __init__(self):\n",
        "        super(Net, self).__init__()\n",
        "        # 입력 이미지 채널 1개, 출력 채널 6개, 5x5의 정사각 컨볼루션 행렬\n",
        "        # 컨볼루션 커널 정의\n",
        "        self.conv1 = nn.Conv2d(1, 6, 5)\n",
        "        self.conv2 = nn.Conv2d(6, 16, 5)\n",
        "        # 아핀(affine) 연산: y = Wx + b\n",
        "        self.fc1 = nn.Linear(16 * 5 * 5, 120)  # 5*5은 이미지 차원에 해당\n",
        "        self.fc2 = nn.Linear(120, 84)\n",
        "        self.fc3 = nn.Linear(84, 10)\n",
        "\n",
        "    def forward(self, x):\n",
        "        # (2, 2) 크기 윈도우에 대해 맥스 풀링(max pooling)\n",
        "        x = F.max_pool2d(F.relu(self.conv1(x)), (2, 2))\n",
        "        # 크기가 제곱수라면, 하나의 숫자만을 특정(specify)\n",
        "        x = F.max_pool2d(F.relu(self.conv2(x)), 2)\n",
        "        x = torch.flatten(x, 1) # 배치 차원을 제외한 모든 차원을 하나로 평탄화(flatten)\n",
        "        x = F.relu(self.fc1(x))\n",
        "        x = F.relu(self.fc2(x))\n",
        "        x = self.fc3(x)\n",
        "        return x\n",
        "\n",
        "\n",
        "net = Net()\n",
        "print(net)"
      ]
    },
    {
      "cell_type": "markdown",
      "metadata": {},
      "source": [
        "``forward`` 함수만 정의하고 나면, (변화도를 계산하는) ``backward`` 함수는\n",
        "``autograd`` 를 사용하여 자동으로 정의됩니다.\n",
        "``forward`` 함수에서는 어떠한 Tensor 연산을 사용해도 됩니다.\n",
        "\n",
        "모델의 학습 가능한 매개변수들은 ``net.parameters()`` 에 의해 반환됩니다.\n",
        "\n"
      ]
    },
    {
      "cell_type": "code",
      "execution_count": 167,
      "metadata": {
        "collapsed": false
      },
      "outputs": [
        {
          "name": "stdout",
          "output_type": "stream",
          "text": [
            "10\n",
            "torch.Size([6, 1, 5, 5])\n"
          ]
        }
      ],
      "source": [
        "params = list(net.parameters())\n",
        "print(len(params))\n",
        "print(params[0].size())  # conv1의 .weight"
      ]
    },
    {
      "cell_type": "markdown",
      "metadata": {},
      "source": [
        "임의의 32x32 입력값을 넣어보겠습니다.\n",
        "\n",
        "Note: 이 신경망(LeNet)의 예상되는 입력 크기는 32x32입니다. 이 신경망에 MNIST\n",
        "데이터셋을 사용하기 위해서는, 데이터셋의 이미지 크기를 32x32로 변경해야 합니다.\n",
        "\n"
      ]
    },
    {
      "cell_type": "code",
      "execution_count": 168,
      "metadata": {
        "collapsed": false
      },
      "outputs": [
        {
          "name": "stdout",
          "output_type": "stream",
          "text": [
            "tensor([[-0.0812, -0.0008, -0.0951, -0.0526, -0.0614,  0.0248,  0.0576, -0.0145,\n",
            "          0.0605,  0.0369]], grad_fn=<AddmmBackward0>)\n"
          ]
        }
      ],
      "source": [
        "input = torch.randn(1, 1, 32, 32)\n",
        "out = net(input)\n",
        "print(out)"
      ]
    },
    {
      "cell_type": "markdown",
      "metadata": {},
      "source": [
        "모든 매개변수의 변화도 버퍼(gradient buffer)를 0으로 설정하고, 무작위 값으로\n",
        "역전파를 합니다:\n",
        "\n"
      ]
    },
    {
      "cell_type": "code",
      "execution_count": 169,
      "metadata": {
        "collapsed": false
      },
      "outputs": [],
      "source": [
        "net.zero_grad()\n",
        "out.backward(torch.randn(1, 10))"
      ]
    },
    {
      "cell_type": "markdown",
      "metadata": {},
      "source": [
        "<div class=\"alert alert-info\"><h4>Note</h4><p>``torch.nn`` 은 미니배치(mini-batch)만 지원합니다. ``torch.nn`` 패키지\n",
        "    전체는 하나의 샘플이 아닌, 샘플들의 미니배치만을 입력으로 받습니다.\n",
        "\n",
        "    예를 들어, ``nnConv2D`` 는 ``nSamples x nChannels x Height x Width`` 의\n",
        "    4차원 Tensor를 입력으로 합니다.\n",
        "\n",
        "    만약 하나의 샘플만 있다면, ``input.unsqueeze(0)`` 을 사용해서 가상의 차원을\n",
        "    추가합니다.</p></div>\n",
        "\n",
        "계속 진행하기 전에, 지금까지 살펴봤던 것들을 다시 한번 요약해보겠습니다.\n",
        "\n",
        "**요약:**\n",
        "  -  ``torch.Tensor`` - ``backward()`` 같은 autograd 연산을 지원하는\n",
        "     *다차원 배열* 입니다. 또한 tensor에 대한 *변화도를 갖고* 있습니다.\n",
        "  -  ``nn.Module`` - 신경망 모듈. *매개변수를 캡슐화(encapsulation)하는 간편한\n",
        "     방법* 으로, GPU로 이동, 내보내기(exporting), 불러오기(loading) 등의 작업을\n",
        "     위한 헬퍼(helper)를 제공합니다.\n",
        "  -  ``nn.Parameter`` - Tensor의 한 종류로, ``Module`` *에 속성으로 할당될 때\n",
        "     자동으로 매개변수로 등록* 됩니다.\n",
        "  -  ``autograd.Function`` - *autograd 연산의 순방향과 역방향 정의* 를 구현합니다.\n",
        "     모든 ``Tensor`` 연산은 하나 이상의 ``Function`` 노드를 생성하며, 각 노드는\n",
        "     ``Tensor`` 를 생성하고 *이력(history)을 인코딩* 하는 함수들과 연결하고 있습니다.\n",
        "\n",
        "**지금까지 우리가 다룬 내용은 다음과 같습니다:**\n",
        "  -  신경망을 정의하는 것\n",
        "  -  입력을 처리하고 ``backward`` 를 호출하는 것\n",
        "\n",
        "**더 살펴볼 내용들은 다음과 같습니다:**\n",
        "  -  손실을 계산하는 것\n",
        "  -  신경망의 가중치를 갱신하는 것\n",
        "\n",
        "## 손실 함수 (Loss Function)\n",
        "손실 함수는 (output, target)을 한 쌍(pair)의 입력으로 받아, 출력(output)이\n",
        "정답(target)으로부터 얼마나 멀리 떨어져 있는지 추정하는 값을 계산합니다.\n",
        "\n",
        "nn 패키지에는 여러가지의 [손실 함수들](http://pytorch.org/docs/nn.html#loss-functions)\n",
        "이 존재합니다.\n",
        "간단한 손실 함수로는 출력과 대상간의 평균제곱오차(mean-squared error)를 계산하는\n",
        "``nn.MSEloss`` 가 있습니다.\n",
        "\n",
        "예를 들면:\n",
        "\n"
      ]
    },
    {
      "cell_type": "code",
      "execution_count": 170,
      "metadata": {
        "collapsed": false
      },
      "outputs": [
        {
          "name": "stdout",
          "output_type": "stream",
          "text": [
            "tensor(1.5463, grad_fn=<MseLossBackward0>)\n"
          ]
        }
      ],
      "source": [
        "output = net(input)\n",
        "target = torch.randn(10)  # 예시를 위한 임의의 정답\n",
        "target = target.view(1, -1)  # 출력과 같은 shape로 만듦\n",
        "criterion = nn.MSELoss()\n",
        "\n",
        "loss = criterion(output, target)\n",
        "print(loss)"
      ]
    },
    {
      "cell_type": "markdown",
      "metadata": {},
      "source": [
        "이제 ``.grad_fn`` 속성을 사용하여 ``loss`` 를 역방향에서 따라가다 보면,\n",
        "이러한 모습의 연산 그래프를 볼 수 있습니다:\n",
        "\n",
        "::\n",
        "\n",
        "    input -> conv2d -> relu -> maxpool2d -> conv2d -> relu -> maxpool2d\n",
        "          -> flatten -> linear -> relu -> linear -> relu -> linear\n",
        "          -> MSELoss\n",
        "          -> loss\n",
        "\n",
        "따라서 ``loss.backward()`` 를 실행할 때, 전체 그래프는 신경망의 매개변수에 대해\n",
        "미분되며, 그래프 내의 ``requires_grad=True`` 인 모든 Tensor는 변화도가\n",
        "누적된 ``.grad`` Tensor를 갖게 됩니다.\n",
        "\n",
        "설명을 위해, 역전파의 몇 단계를 따라가 보겠습니다:\n",
        "\n"
      ]
    },
    {
      "cell_type": "code",
      "execution_count": 171,
      "metadata": {
        "collapsed": false
      },
      "outputs": [
        {
          "name": "stdout",
          "output_type": "stream",
          "text": [
            "<MseLossBackward0 object at 0x7fce52a65af0>\n",
            "<AddmmBackward0 object at 0x7fce4e382d60>\n",
            "<AccumulateGrad object at 0x7fce4b764f40>\n"
          ]
        }
      ],
      "source": [
        "print(loss.grad_fn)  # MSELoss\n",
        "print(loss.grad_fn.next_functions[0][0])  # Linear\n",
        "print(loss.grad_fn.next_functions[0][0].next_functions[0][0])  # ReLU"
      ]
    },
    {
      "cell_type": "markdown",
      "metadata": {},
      "source": [
        "## 역전파(Backprop)\n",
        "오차(error)를 역전파하기 위해서는 ``loss.backward()`` 만 해주면 됩니다.\n",
        "기존에 계산된 변화도의 값을 누적 시키고 싶지 않다면 기존에 계산된 변화도를 0으로 만드는\n",
        "작업이 필요합니다.\n",
        "\n",
        "\n",
        "이제 ``loss.backward()`` 를 호출하여 역전파 전과 후에 conv1의 bias 변수의 변화도를\n",
        "살펴보겠습니다.\n",
        "\n"
      ]
    },
    {
      "cell_type": "code",
      "execution_count": 172,
      "metadata": {},
      "outputs": [
        {
          "name": "stdout",
          "output_type": "stream",
          "text": [
            "Parameter containing:\n",
            "tensor([-0.1341,  0.0475, -0.0267,  0.0298,  0.0120,  0.1387],\n",
            "       requires_grad=True)\n"
          ]
        }
      ],
      "source": [
        "import copy \n",
        "\n",
        "print(net.conv1.bias)\n"
      ]
    },
    {
      "cell_type": "code",
      "execution_count": 173,
      "metadata": {
        "collapsed": false
      },
      "outputs": [
        {
          "name": "stdout",
          "output_type": "stream",
          "text": [
            "conv1.bias.grad before backward\n",
            "tensor([0., 0., 0., 0., 0., 0.])\n",
            "conv1.bias.grad after backward\n",
            "tensor([-1.8429e-03, -4.0107e-03,  2.5470e-03, -9.8954e-03,  1.4266e-02,\n",
            "         6.0254e-05])\n"
          ]
        }
      ],
      "source": [
        "net.zero_grad()     # 모든 매개변수의 변화도 버퍼를 0으로 만듦\n",
        "\n",
        "print('conv1.bias.grad before backward')\n",
        "print(net.conv1.bias.grad)\n",
        "\n",
        "loss.backward()\n",
        "\n",
        "\n",
        "print('conv1.bias.grad after backward')\n",
        "print(net.conv1.bias.grad)"
      ]
    },
    {
      "cell_type": "markdown",
      "metadata": {},
      "source": [
        "지금까지 손실 함수를 어떻게 사용하는지를 살펴봤습니다.\n",
        "\n",
        "**더 읽어보기:**\n",
        "\n",
        "  신경망 패키지(nn package)에는 심층 신경망(deep neural network)을 구성하는\n",
        "  다양한 모듈과 손실 함수가 포함되어 있습니다.\n",
        "  전체 목록은 [이 문서](http://pytorch.org/docs/nn) 에 있습니다.\n",
        "\n",
        "**이제 더 살펴볼 내용은 다음과 같습니다:**\n",
        "\n",
        "  -  신경망의 가중치를 갱신하는 것\n",
        "\n",
        "## 가중치 갱신\n",
        "실제로 많이 사용되는 가장 단순한 갱신 규칙은 확률적 경사하강법(SGD; Stochastic\n",
        "Gradient Descent)입니다:\n",
        "\n",
        "\n",
        "간단한 Python 코드로 이를 구현해볼 수 있습니다:\n"
      ]
    },
    {
      "cell_type": "code",
      "execution_count": 174,
      "metadata": {},
      "outputs": [],
      "source": [
        "# 새로운 가중치 = 가중치 - 학습률 * 변화도\n",
        "# weight = weight - learning_rate * gradient\n"
      ]
    },
    {
      "cell_type": "markdown",
      "metadata": {},
      "source": [
        ".. Note::\n",
        "\n",
        "      ``optimizer.zero_grad()`` 를 사용하여 수동으로 변화도 버퍼를 0으로 설정하는\n",
        "      것에 유의하세요. 이는 `역전파(Backprop)`_ 섹션에서 설명한 것처럼 변화도가\n",
        "      누적되기 때문입니다.\n",
        "\n"
      ]
    },
    {
      "cell_type": "code",
      "execution_count": 175,
      "metadata": {},
      "outputs": [
        {
          "data": {
            "text/plain": [
              "Parameter containing:\n",
              "tensor([-0.1341,  0.0475, -0.0267,  0.0299,  0.0118,  0.1387],\n",
              "       requires_grad=True)"
            ]
          },
          "execution_count": 175,
          "metadata": {},
          "output_type": "execute_result"
        }
      ],
      "source": [
        "learning_rate = 0.01\n",
        "for f in net.parameters():\n",
        "    f.data.sub_(f.grad.data * learning_rate)\n",
        "    \n",
        "net.conv1.bias"
      ]
    },
    {
      "cell_type": "markdown",
      "metadata": {},
      "source": [
        "\n",
        "신경망을 구성할 때 SGD, Nesterov-SGD, Adam, RMSProp 등과 같은 다양한 갱신 규칙을\n",
        "사용하고 싶을 수 있습니다. 이를 위해서 ``torch.optim`` 라는 작은 패키지에 이러한\n",
        "방법들을 모두 구현해두었습니다. 사용법은 매우 간단합니다:\n"
      ]
    },
    {
      "cell_type": "code",
      "execution_count": 176,
      "metadata": {},
      "outputs": [],
      "source": [
        "import torch.optim as optim\n",
        "\n",
        "# Optimizer를 생성합니다.\n",
        "optimizer = optim.SGD(net.parameters(), lr=0.01)\n",
        "\n",
        "# 학습 과정(training loop)은 다음과 같습니다:\n",
        "optimizer.zero_grad()   # 변화도 버퍼를 0으로\n",
        "output = net(input)\n",
        "loss = criterion(output, target)\n",
        "loss.backward()\n",
        "optimizer.step()    # 업데이트 진행"
      ]
    },
    {
      "cell_type": "code",
      "execution_count": 177,
      "metadata": {},
      "outputs": [
        {
          "name": "stdout",
          "output_type": "stream",
          "text": [
            "Parameter containing:\n",
            "tensor([-0.1340,  0.0475, -0.0267,  0.0299,  0.0117,  0.1387],\n",
            "       requires_grad=True)\n"
          ]
        }
      ],
      "source": [
        "\n",
        "# now! see our bias\n",
        "print(net.conv1.bias)\n"
      ]
    },
    {
      "cell_type": "code",
      "execution_count": 178,
      "metadata": {},
      "outputs": [],
      "source": [
        "# 이전 bias값과 다름을 볼수있다."
      ]
    }
  ],
  "metadata": {
    "kernelspec": {
      "display_name": "Python 3",
      "language": "python",
      "name": "python3"
    },
    "language_info": {
      "codemirror_mode": {
        "name": "ipython",
        "version": 3
      },
      "file_extension": ".py",
      "mimetype": "text/x-python",
      "name": "python",
      "nbconvert_exporter": "python",
      "pygments_lexer": "ipython3",
      "version": "3.8.17"
    }
  },
  "nbformat": 4,
  "nbformat_minor": 0
}
