{
 "cells": [
  {
   "cell_type": "code",
   "execution_count": 1,
   "metadata": {},
   "outputs": [],
   "source": [
    "# Import Library\n",
    "import requests\n",
    "from bs4 import BeautifulSoup\n",
    "import time\n",
    "import urllib.request\n",
    "from selenium.webdriver import Chrome\n",
    "import re\n",
    "from selenium.webdriver.chrome.options import Options\n",
    "from selenium.webdriver.common.keys import Keys\n",
    "import datetime as dt\n",
    "from selenium.webdriver.common.by import By"
   ]
  },
  {
   "cell_type": "markdown",
   "metadata": {},
   "source": [
    "# youtube search and click"
   ]
  },
  {
   "cell_type": "code",
   "execution_count": 22,
   "metadata": {},
   "outputs": [
    {
     "name": "stdout",
     "output_type": "stream",
     "text": [
      "error\n"
     ]
    }
   ],
   "source": [
    "import time\n",
    "\n",
    "delay = 3\n",
    "browser = Chrome()\n",
    "browser.implicitly_wait(delay)\n",
    "\n",
    "start_url = \"https://www.youtube.com\"\n",
    "browser.get(start_url)\n",
    "# browser.maximize_window()\n",
    "\n",
    "try:\n",
    "    search =browser.find_element(By.ID,'search-input')\n",
    "    search = browser.find_element(By.NAME,'q')\n",
    "    print('no error')\n",
    "    search.send_keys('carving sword small pvp')#+Keys.ENTER)\n",
    "    search.send_keys(Keys.ENTER)\n",
    "\n",
    "except:\n",
    "    print('error')\n",
    "time.sleep(2)\n",
    "browser.find_element(By.ID,'search-icon-legacy').click()\n",
    "# <button id=\"search-icon-legacy\" class=\"style-scope ytd-searchbox\" aria-label=\"검색\">\n",
    "\n",
    "time.sleep(3)\n",
    "browser.quit()"
   ]
  },
  {
   "cell_type": "markdown",
   "metadata": {},
   "source": [
    "## google search"
   ]
  },
  {
   "cell_type": "code",
   "execution_count": 8,
   "metadata": {},
   "outputs": [],
   "source": [
    "from selenium import webdriver\n",
    "\n",
    "driver = webdriver.Chrome()\n",
    "url = 'https://www.google.com/'\n",
    "driver.get(url)\n",
    "\n",
    "# driver.find_element(By.NAME,'q').send_keys('webdriver'+Keys.ENTER)\n",
    "search = driver.find_element(By.NAME,'q')\n",
    "search.send_keys('webdriver')#+Keys.ENTER)\n",
    "search.send_keys(Keys.ENTER)\n",
    "\n",
    "time.sleep(5)\n",
    "driver.quit()"
   ]
  },
  {
   "cell_type": "markdown",
   "metadata": {},
   "source": [
    "## SElenium 기본 키"
   ]
  },
  {
   "cell_type": "code",
   "execution_count": 184,
   "metadata": {},
   "outputs": [
    {
     "name": "stdout",
     "output_type": "stream",
     "text": [
      "\n"
     ]
    }
   ],
   "source": [
    "###### Selenium elements \n",
    "\"\"\" \n",
    "from selenium.webdriver.common.by import By\n",
    "\n",
    "driver.find_element(By.XPATH, '//button[text()=\"Some text\"]')\n",
    "driver.find_element(By.XPATH, '//button')\n",
    "driver.find_element(By.ID, 'loginForm')\n",
    "driver.find_element(By.LINK_TEXT, 'Continue')\n",
    "driver.find_element(By.PARTIAL_LINK_TEXT, 'Conti')\n",
    "driver.find_element(By.NAME, 'username')\n",
    "driver.find_element(By.TAG_NAME, 'h1')\n",
    "driver.find_element(By.CLASS_NAME, 'content')\n",
    "driver.find_element(By.CSS_SELECTOR, 'p.content')\n",
    "\n",
    "driver.find_elements(By.ID, 'loginForm')\n",
    "driver.find_elements(By.CLASS_NAME, 'content')\n",
    "\"\"\"\n",
    "print()"
   ]
  },
  {
   "cell_type": "markdown",
   "metadata": {},
   "source": [
    "# scroll down"
   ]
  },
  {
   "cell_type": "code",
   "execution_count": 30,
   "metadata": {},
   "outputs": [
    {
     "name": "stdout",
     "output_type": "stream",
     "text": [
      "None None\n"
     ]
    }
   ],
   "source": [
    "from selenium.webdriver import Chrome\n",
    "url = 'https://www.youtube.com'\n",
    "driver = Chrome()\n",
    "driver.get(url)\n",
    "\n",
    "# web height transform\n",
    "scroll_pane_height = driver.execute_script('return document.documentElement.scrolheight')\n",
    "\n",
    "# scroll bar down.\n",
    "while True:\n",
    "    # 스크롤바를 높이만큼 이동.\n",
    "    driver.execute_script('window.scrollTo(0,document.documentElement.scrolHeight)')\n",
    "    # 밑에 붙일 내용을 요청해서 화면을 만들때 까지 시간차를 둔다.\n",
    "    time.sleep(0.5)\n",
    "    new_scroll_pane_height =driver.execute_script('return document.documentElement.scrolheight')\n",
    "    print(scroll_pane_height,new_scroll_pane_height)\n",
    "    if scroll_pane_height == new_scroll_pane_height:\n",
    "        break\n",
    "    scroll_pane_height = new_scroll_pane_height\n",
    "driver.quit()"
   ]
  },
  {
   "cell_type": "code",
   "execution_count": null,
   "metadata": {},
   "outputs": [],
   "source": []
  },
  {
   "cell_type": "markdown",
   "metadata": {},
   "source": [
    "# scroll down "
   ]
  },
  {
   "cell_type": "code",
   "execution_count": 9,
   "metadata": {},
   "outputs": [],
   "source": [
    "from selenium.webdriver.common.keys import Keys\n",
    "from selenium.webdriver.common.by import By\n",
    "import time\n",
    "\n",
    "driver = Chrome()\n",
    "\n",
    "url = 'https://www.youtube.com'\n",
    "driver.get(url)\n",
    "body = driver.find_element(By.CSS_SELECTOR, 'body')\n",
    "for _ in range(5):\n",
    "    for _ in range(7):\n",
    "        body.send_keys(Keys.PAGE_DOWN)\n",
    "    time.sleep(1)\n",
    "\n",
    "driver.quit()"
   ]
  },
  {
   "cell_type": "markdown",
   "metadata": {},
   "source": [
    "# only Selenium"
   ]
  },
  {
   "cell_type": "code",
   "execution_count": 10,
   "metadata": {},
   "outputs": [
    {
     "name": "stdout",
     "output_type": "stream",
     "text": [
      "김계란과 저주받은 몸뚱아리\n",
      "<span dir=\"auto\" class=\"style-scope yt-formatted-string\">김계란과 저주받은 몸뚱아리</span>\n",
      "김계란과 저주받은 몸뚱아리\n"
     ]
    }
   ],
   "source": [
    "from selenium.webdriver.common.keys import Keys\n",
    "from selenium.webdriver.common.by import By\n",
    "import time\n",
    "\n",
    "driver = Chrome()\n",
    "\n",
    "url = 'https://www.youtube.com'\n",
    "driver.get(url)\n",
    "\n",
    "titles = driver.find_element(By.ID,'video-title')\n",
    "print(titles.text)\n",
    "label = titles.get_attribute('innerHTML')\n",
    "print(label)\n",
    "label = titles.get_attribute('innerText')\n",
    "print(label)\n",
    "\n",
    "driver.quit()"
   ]
  },
  {
   "cell_type": "markdown",
   "metadata": {},
   "source": [
    "# URL and Title"
   ]
  },
  {
   "cell_type": "code",
   "execution_count": 11,
   "metadata": {},
   "outputs": [],
   "source": [
    "from bs4 import BeautifulSoup\n",
    "from urllib import parse\n",
    "\n",
    "driver = Chrome()\n",
    "url = 'https://www.youtube.com'\n",
    "driver.get(url)\n",
    "\n",
    "soup = BeautifulSoup(driver.page_source)\n",
    "a_list = soup.select('div#contents div#content a#video-title-link') # tag이름#ID이름\n",
    "result = []\n",
    "\n",
    "for a_tag in a_list:\n",
    "    link = parse.urljoin(url,a_tag.get('href'))\n",
    "    title = a_tag['aria-label']\n",
    "    result.append([link,title])\n",
    "    \n",
    "\n",
    "driver.quit()"
   ]
  },
  {
   "cell_type": "markdown",
   "metadata": {},
   "source": [
    "# Thumbnail"
   ]
  },
  {
   "cell_type": "code",
   "execution_count": 17,
   "metadata": {},
   "outputs": [
    {
     "name": "stdout",
     "output_type": "stream",
     "text": [
      "https://i1.ytimg.com/vi/9Tq-G-KSR0A/0.jpg\n",
      "https://i.ytimg.com/vi/sJ31tuK4s74/hq720.jpg\n",
      "https://i.ytimg.com/vi/MxetbHsYDEs/hq720.jpg\n",
      "https://i.ytimg.com/vi/vOOWvw5xIuw/hq720.jpg\n",
      "https://i.ytimg.com/vi/2YLs33C72zo/hq720.jpg\n",
      "https://i.ytimg.com/vi/Dk8eCoJ8w6c/hq720.jpg\n"
     ]
    }
   ],
   "source": [
    "from bs4 import BeautifulSoup\n",
    "from urllib import parse\n",
    "\n",
    "driver = Chrome()\n",
    "url = 'https://www.youtube.com'\n",
    "driver.get(url)\n",
    "\n",
    "# TODO: time delay.\n",
    "time.sleep(5)  # 여기에서 시간을 많이줘야 가져올 수 있음. #######@@@@@@@@@@@@@ IMPORTANT !!!!!!!! @@@@@@@@@#######\n",
    "\n",
    "\n",
    "soup = BeautifulSoup(driver.page_source)\n",
    "a_list = soup.select('div#contents div#content a#thumbnail') # tag이름#ID이름\n",
    "\n",
    "img_urls = []\n",
    "for img in a_list:\n",
    "    try:\n",
    "        xx =img.find('img')\n",
    "        print(xx['src'].split('?')[0])\n",
    "        img_urls.append(xx['src'].split('?')[0])\n",
    "    except:\n",
    "        # print('no img')\n",
    "        pass\n",
    "\n",
    "driver.quit()"
   ]
  },
  {
   "cell_type": "markdown",
   "metadata": {},
   "source": [
    "## 댓글 작성자, 내용 가져오기"
   ]
  },
  {
   "cell_type": "code",
   "execution_count": 194,
   "metadata": {},
   "outputs": [],
   "source": [
    "\n",
    "from selenium import webdriver\n",
    "import time\n",
    "# from openpyxl import Workbook\n",
    "import pandas as pd\n",
    "from selenium.webdriver.common.keys import Keys\n",
    "from bs4 import BeautifulSoup\n",
    "\n",
    "import warnings \n",
    "warnings.filterwarnings('ignore')\n",
    "\n",
    "driver = webdriver.Chrome()\n",
    "url = 'https://www.youtube.com/watch?v=3qHl_XGnI_4'\n",
    "# 서태지 : 너와 함께한 시간속에서.\n",
    "driver.get(url)\n",
    "driver.implicitly_wait(3)\n",
    "\n",
    "time.sleep(1.5)\n",
    "\n",
    "driver.execute_script(\"window.scrollTo(0, 800)\")\n",
    "time.sleep(3)\n",
    "\n",
    "\n",
    "# 유튜브 팝업 닫기.\n",
    "try:\n",
    "    driver.find_element(By.CSS_SELECTOR, \"#dismiss-button > a\").click()\n",
    "except:\n",
    "    pass"
   ]
  },
  {
   "cell_type": "code",
   "execution_count": 195,
   "metadata": {},
   "outputs": [],
   "source": [
    "# 웹페이지 끝까지 스크롤하기.\n",
    "last_height = driver.execute_script(\"return document.documentElement.scrollHeight\")\n",
    "\n",
    "while True:\n",
    "    driver.execute_script(\"window.scrollTo(0, document.documentElement.scrollHeight);\")\n",
    "    time.sleep(1.5)\n",
    "\n",
    "    new_height = driver.execute_script(\"return document.documentElement.scrollHeight\")\n",
    "    if new_height == last_height:\n",
    "        break\n",
    "    last_height = new_height\n",
    "\n",
    "time.sleep(1.5)"
   ]
  },
  {
   "cell_type": "code",
   "execution_count": 84,
   "metadata": {},
   "outputs": [],
   "source": [
    "# #대댓글 버튼 누르기\n",
    "# buttons = driver.find_element(By.CSS_SELECTOR,\"#more-replies > a\")\n",
    "# buttons = driver.find_elements(By.CLASS_NAME,\"yt-spec-touch-feedback-shape__fill\")\n",
    "\n",
    "# time.sleep(1.5)\n",
    "\n",
    "# for button in buttons:\n",
    "#     button.send_keys(Keys.ENTER)\n",
    "#     time.sleep(1.5)\n",
    "#     button.click()\n",
    "    "
   ]
  },
  {
   "cell_type": "code",
   "execution_count": 198,
   "metadata": {},
   "outputs": [],
   "source": [
    "html_source = driver.page_source\n",
    "soup = BeautifulSoup(html_source, 'html.parser')\n",
    "\n",
    "id_list = soup.select(\"div#header-author > h3 > #author-text > span\")\n",
    "comment_list = soup.select(\"yt-formatted-string#content-text\")\n",
    "\n",
    "id_final = []\n",
    "comment_final = []\n",
    "\n",
    "for i in range(len(comment_list)):\n",
    "    temp_id = id_list[i].text\n",
    "    temp_id = temp_id.replace('\\n', '')\n",
    "    temp_id = temp_id.replace('\\t', '')\n",
    "    temp_id = temp_id.replace('    ', '')\n",
    "    id_final.append(temp_id) # 댓글 작성자\n",
    "\n",
    "    temp_comment = comment_list[i].text\n",
    "    temp_comment = temp_comment.replace('\\n', '')\n",
    "    temp_comment = temp_comment.replace('\\t', '')\n",
    "    temp_comment = temp_comment.replace('    ', '')\n",
    "    comment_final.append(temp_comment) # 댓글 내용\n",
    "    \n",
    "\n",
    "pd_data = {\"아이디\" : id_final , \"댓글 내용\" : comment_final}\n",
    "youtube_pd = pd.DataFrame(pd_data)\n",
    "\n",
    "# youtube_pd.to_excel('result.xlsx')\n"
   ]
  },
  {
   "cell_type": "code",
   "execution_count": 199,
   "metadata": {},
   "outputs": [
    {
     "data": {
      "text/html": [
       "<div>\n",
       "<style scoped>\n",
       "    .dataframe tbody tr th:only-of-type {\n",
       "        vertical-align: middle;\n",
       "    }\n",
       "\n",
       "    .dataframe tbody tr th {\n",
       "        vertical-align: top;\n",
       "    }\n",
       "\n",
       "    .dataframe thead th {\n",
       "        text-align: right;\n",
       "    }\n",
       "</style>\n",
       "<table border=\"1\" class=\"dataframe\">\n",
       "  <thead>\n",
       "    <tr style=\"text-align: right;\">\n",
       "      <th></th>\n",
       "      <th>아이디</th>\n",
       "      <th>댓글 내용</th>\n",
       "    </tr>\n",
       "  </thead>\n",
       "  <tbody>\n",
       "    <tr>\n",
       "      <th>0</th>\n",
       "      <td>@seonghojeon4250</td>\n",
       "      <td>저 당시 공연장에 있었던 사람들이 너무 부럽다.. 지금도 가슴 뭉클한 엔딩...</td>\n",
       "    </tr>\n",
       "    <tr>\n",
       "      <th>1</th>\n",
       "      <td>@travelho</td>\n",
       "      <td>이 순간이 서태지 역사상 가장 감동적인 순간이 아닌가 싶다.</td>\n",
       "    </tr>\n",
       "    <tr>\n",
       "      <th>2</th>\n",
       "      <td>@fsutd11</td>\n",
       "      <td>마지막 박수 정말 소름돋네요팬들도 저런게 사라지는 서태지를 인정해주는. 존중해주는 ...</td>\n",
       "    </tr>\n",
       "    <tr>\n",
       "      <th>3</th>\n",
       "      <td>@user-yo6vu9dq8w</td>\n",
       "      <td>한국에 공연 잘하는 가수들 많지만이토록 극적이고 뭉클했던 엔딩은 여지껏본적이없다. ...</td>\n",
       "    </tr>\n",
       "    <tr>\n",
       "      <th>4</th>\n",
       "      <td>@user-id4vc3yi5c</td>\n",
       "      <td>와..진짜 지금 노래보다 훨씬 앞섰네 어떻게 20년 전에 대단하다 진짜! 이런 천재...</td>\n",
       "    </tr>\n",
       "    <tr>\n",
       "      <th>...</th>\n",
       "      <td>...</td>\n",
       "      <td>...</td>\n",
       "    </tr>\n",
       "    <tr>\n",
       "      <th>115</th>\n",
       "      <td>@jim8271</td>\n",
       "      <td>최고다 대장</td>\n",
       "    </tr>\n",
       "    <tr>\n",
       "      <th>116</th>\n",
       "      <td>@user-mv5io3mk2p</td>\n",
       "      <td>아련하고 그때가 그립다...</td>\n",
       "    </tr>\n",
       "    <tr>\n",
       "      <th>117</th>\n",
       "      <td>@Kastro1999</td>\n",
       "      <td>왜 어린시절이 그리워지는 건지 ..</td>\n",
       "    </tr>\n",
       "    <tr>\n",
       "      <th>118</th>\n",
       "      <td>@user-ly6jy4cc9v</td>\n",
       "      <td>쩐다</td>\n",
       "    </tr>\n",
       "    <tr>\n",
       "      <th>119</th>\n",
       "      <td>@six3593</td>\n",
       "      <td>다시 들으니 ...눈물나~깊어가는 가을에 이게 모야..ㅜㅜ 잠들기 다 글렀군</td>\n",
       "    </tr>\n",
       "  </tbody>\n",
       "</table>\n",
       "<p>120 rows × 2 columns</p>\n",
       "</div>"
      ],
      "text/plain": [
       "                    아이디                                              댓글 내용\n",
       "0      @seonghojeon4250       저 당시 공연장에 있었던 사람들이 너무 부럽다.. 지금도 가슴 뭉클한 엔딩...\n",
       "1             @travelho                  이 순간이 서태지 역사상 가장 감동적인 순간이 아닌가 싶다.\n",
       "2              @fsutd11  마지막 박수 정말 소름돋네요팬들도 저런게 사라지는 서태지를 인정해주는. 존중해주는 ...\n",
       "3      @user-yo6vu9dq8w  한국에 공연 잘하는 가수들 많지만이토록 극적이고 뭉클했던 엔딩은 여지껏본적이없다. ...\n",
       "4      @user-id4vc3yi5c  와..진짜 지금 노래보다 훨씬 앞섰네 어떻게 20년 전에 대단하다 진짜! 이런 천재...\n",
       "..                  ...                                                ...\n",
       "115            @jim8271                                             최고다 대장\n",
       "116    @user-mv5io3mk2p                                    아련하고 그때가 그립다...\n",
       "117         @Kastro1999                                왜 어린시절이 그리워지는 건지 ..\n",
       "118    @user-ly6jy4cc9v                                                 쩐다\n",
       "119            @six3593         다시 들으니 ...눈물나~깊어가는 가을에 이게 모야..ㅜㅜ 잠들기 다 글렀군\n",
       "\n",
       "[120 rows x 2 columns]"
      ]
     },
     "execution_count": 199,
     "metadata": {},
     "output_type": "execute_result"
    }
   ],
   "source": [
    "youtube_pd"
   ]
  },
  {
   "cell_type": "code",
   "execution_count": 200,
   "metadata": {},
   "outputs": [],
   "source": [
    "driver.quit()"
   ]
  }
 ],
 "metadata": {
  "kernelspec": {
   "display_name": "vision00",
   "language": "python",
   "name": "python3"
  },
  "language_info": {
   "codemirror_mode": {
    "name": "ipython",
    "version": 3
   },
   "file_extension": ".py",
   "mimetype": "text/x-python",
   "name": "python",
   "nbconvert_exporter": "python",
   "pygments_lexer": "ipython3",
   "version": "3.8.17"
  },
  "orig_nbformat": 4
 },
 "nbformat": 4,
 "nbformat_minor": 2
}
