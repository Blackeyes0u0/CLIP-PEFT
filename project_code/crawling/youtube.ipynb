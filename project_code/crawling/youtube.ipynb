{
 "cells": [
  {
   "cell_type": "code",
   "execution_count": null,
   "metadata": {},
   "outputs": [],
   "source": [
    "# Import Library\n",
    "import requests\n",
    "from bs4 import BeautifulSoup\n",
    "import time\n",
    "import urllib.request\n",
    "from selenium.webdriver import Chrome\n",
    "import re\n",
    "from selenium.webdriver.chrome.options import Options\n",
    "from selenium.webdriver.common.keys import Keys\n",
    "import datetime as dt\n",
    "from selenium.webdriver.common.by import By"
   ]
  },
  {
   "cell_type": "markdown",
   "metadata": {},
   "source": [
    "# youtube search and click"
   ]
  },
  {
   "cell_type": "code",
   "execution_count": 26,
   "metadata": {},
   "outputs": [
    {
     "name": "stdout",
     "output_type": "stream",
     "text": [
      "error\n"
     ]
    }
   ],
   "source": [
    "import time\n",
    "\n",
    "delay = 3\n",
    "browser = Chrome()\n",
    "browser.implicitly_wait(delay)\n",
    "\n",
    "start_url = \"https://www.youtube.com\"\n",
    "browser.get(start_url)\n",
    "# browser.maximize_window()\n",
    "\n",
    "try:\n",
    "    browser.find_element(By.ID,'search')\n",
    "    print('no error')\n",
    "except:\n",
    "    print('error')\n",
    "time.sleep(2)\n",
    "browser.find_element(By.ID,'search-icon-legacy').click()\n",
    "# <button id=\"search-icon-legacy\" class=\"style-scope ytd-searchbox\" aria-label=\"검색\">\n",
    "\n",
    "time.sleep(3)\n",
    "browser.quit()"
   ]
  },
  {
   "cell_type": "code",
   "execution_count": 23,
   "metadata": {},
   "outputs": [],
   "source": [
    "from selenium import webdriver\n",
    "\n",
    "driver = webdriver.Chrome()\n",
    "url = 'https://www.google.com/'\n",
    "driver.get(url)\n",
    "\n",
    "# driver.find_element(By.NAME,'q').send_keys('webdriver'+Keys.ENTER)\n",
    "driver.find_element(By.NAME,'q').send_keys('webdriver')#+Keys.ENTER)\n",
    "\n",
    "time.sleep(5)\n",
    "driver.quit()"
   ]
  },
  {
   "cell_type": "code",
   "execution_count": 184,
   "metadata": {},
   "outputs": [
    {
     "name": "stdout",
     "output_type": "stream",
     "text": [
      "\n"
     ]
    }
   ],
   "source": [
    "###### Selenium elements \n",
    "\"\"\" \n",
    "from selenium.webdriver.common.by import By\n",
    "\n",
    "driver.find_element(By.XPATH, '//button[text()=\"Some text\"]')\n",
    "driver.find_element(By.XPATH, '//button')\n",
    "driver.find_element(By.ID, 'loginForm')\n",
    "driver.find_element(By.LINK_TEXT, 'Continue')\n",
    "driver.find_element(By.PARTIAL_LINK_TEXT, 'Conti')\n",
    "driver.find_element(By.NAME, 'username')\n",
    "driver.find_element(By.TAG_NAME, 'h1')\n",
    "driver.find_element(By.CLASS_NAME, 'content')\n",
    "driver.find_element(By.CSS_SELECTOR, 'p.content')\n",
    "\n",
    "driver.find_elements(By.ID, 'loginForm')\n",
    "driver.find_elements(By.CLASS_NAME, 'content')\n",
    "\"\"\"\n",
    "print()"
   ]
  },
  {
   "cell_type": "markdown",
   "metadata": {},
   "source": [
    "# scroll down"
   ]
  },
  {
   "cell_type": "code",
   "execution_count": 30,
   "metadata": {},
   "outputs": [
    {
     "name": "stdout",
     "output_type": "stream",
     "text": [
      "None None\n"
     ]
    }
   ],
   "source": [
    "from selenium.webdriver import Chrome\n",
    "url = 'https://www.youtube.com'\n",
    "driver = Chrome()\n",
    "driver.get(url)\n",
    "\n",
    "# web height transform\n",
    "scroll_pane_height = driver.execute_script('return document.documentElement.scrolheight')\n",
    "\n",
    "# scroll bar down.\n",
    "while True:\n",
    "    # 스크롤바를 높이만큼 이동.\n",
    "    driver.execute_script('window.scrollTo(0,document.documentElement.scrolHeight)')\n",
    "    # 밑에 붙일 내용을 요청해서 화면을 만들때 까지 시간차를 둔다.\n",
    "    time.sleep(0.5)\n",
    "    new_scroll_pane_height =driver.execute_script('return document.documentElement.scrolheight')\n",
    "    print(scroll_pane_height,new_scroll_pane_height)\n",
    "    if scroll_pane_height == new_scroll_pane_height:\n",
    "        break\n",
    "    scroll_pane_height = new_scroll_pane_height\n",
    "driver.quit()"
   ]
  },
  {
   "cell_type": "code",
   "execution_count": null,
   "metadata": {},
   "outputs": [],
   "source": []
  },
  {
   "cell_type": "markdown",
   "metadata": {},
   "source": [
    "# scroll down "
   ]
  },
  {
   "cell_type": "code",
   "execution_count": 38,
   "metadata": {},
   "outputs": [
    {
     "name": "stdout",
     "output_type": "stream",
     "text": [
      "[LIVE] 대한민국 24시간 뉴스채널 YTN\n"
     ]
    }
   ],
   "source": [
    "from selenium.webdriver.common.keys import Keys\n",
    "from selenium.webdriver.common.by import By\n",
    "import time\n",
    "\n",
    "driver = Chrome()\n",
    "\n",
    "url = 'https://www.youtube.com'\n",
    "driver.get(url)\n",
    "body = driver.find_element(By.CSS_SELECTOR, 'body')\n",
    "for _ in range(5):\n",
    "    for _ in range(7):\n",
    "        body.send_keys(Keys.PAGE_DOWN)\n",
    "    time.sleep(1)\n",
    "\n",
    "driver.quit()"
   ]
  },
  {
   "cell_type": "markdown",
   "metadata": {},
   "source": [
    "# only Selenium"
   ]
  },
  {
   "cell_type": "code",
   "execution_count": 56,
   "metadata": {},
   "outputs": [
    {
     "name": "stdout",
     "output_type": "stream",
     "text": [
      "하루 종일 듣기 좋은 노래 🎶일할때 듣기좋은 발라드 추천 광고없는 노래모음🎵💖 김범수/ 임창정/ 박효신/성시경/ 백지영/ 더원/태연/박명수/에일리/찬열/ 펀치/ 다비치/로꼬/ 펀치\n",
      "하루 종일 듣기 좋은 노래 🎶일할때 듣기좋은 발라드 추천 광고없는 노래모음🎵💖 김범수/ 임창정/ 박효신/성시경/ 백지영/ 더원/태연/박명수/에일리/찬열/ 펀치/ 다비치/로꼬/ 펀치\n"
     ]
    }
   ],
   "source": [
    "from selenium.webdriver.common.keys import Keys\n",
    "from selenium.webdriver.common.by import By\n",
    "import time\n",
    "\n",
    "driver = Chrome()\n",
    "\n",
    "url = 'https://www.youtube.com'\n",
    "driver.get(url)\n",
    "\n",
    "titles = driver.find_element(By.ID,'video-title')\n",
    "print(titles.text)\n",
    "label = titles.get_attribute('innerHTML')\n",
    "print(label)\n",
    "label = titles.get_attribute('innerText')\n",
    "print(label)\n",
    "\n",
    "driver.quit()"
   ]
  },
  {
   "cell_type": "markdown",
   "metadata": {},
   "source": [
    "# URL and Title"
   ]
  },
  {
   "cell_type": "code",
   "execution_count": 128,
   "metadata": {},
   "outputs": [],
   "source": [
    "from bs4 import BeautifulSoup\n",
    "from urllib import parse\n",
    "\n",
    "driver = Chrome()\n",
    "url = 'https://www.youtube.com'\n",
    "driver.get(url)\n",
    "\n",
    "soup = BeautifulSoup(driver.page_source)\n",
    "a_list = soup.select('div#contents div#content a#video-title-link') # tag이름#ID이름\n",
    "result = []\n",
    "\n",
    "for a_tag in a_list:\n",
    "    link = parse.urljoin(url,a_tag.get('href'))\n",
    "    title = a_tag['aria-label']\n",
    "    result.append([link,title])\n",
    "    \n",
    "\n",
    "driver.quit()"
   ]
  },
  {
   "cell_type": "markdown",
   "metadata": {},
   "source": [
    "# Thumbnail"
   ]
  },
  {
   "cell_type": "code",
   "execution_count": 202,
   "metadata": {},
   "outputs": [
    {
     "name": "stdout",
     "output_type": "stream",
     "text": [
      "https://i.ytimg.com/vi/x6i3_LfeTjY/hq720.jpg\n",
      "https://i.ytimg.com/vi/UrIEuPew6Sg/hq720.jpg\n",
      "https://i.ytimg.com/vi/f67oiT6veWg/hq720.jpg\n",
      "https://i.ytimg.com/vi/7lj5C3DX_5g/hq720.jpg\n",
      "https://i.ytimg.com/vi/ScRcLYkDCMk/hq720.jpg\n",
      "https://i.ytimg.com/vi/sLh4UAR8YF0/hq720.jpg\n",
      "https://i.ytimg.com/vi/nbX1TLek1SM/oar2.jpg\n",
      "https://i.ytimg.com/vi/cfES5D7CbMA/hq720.jpg\n",
      "https://i.ytimg.com/vi/86NBaL_mDCQ/oar2.jpg\n",
      "https://i.ytimg.com/vi/If760-dA4kU/oar2.jpg\n",
      "https://i.ytimg.com/vi/c2liA35QqzU/hq720.jpg\n",
      "https://i.ytimg.com/vi/6wiXF4Rt4gI/hq720.jpg\n",
      "https://i.ytimg.com/vi/ip3nWpGbT14/hq720.jpg\n",
      "https://i.ytimg.com/vi/dytXLDCYbBA/hq720.jpg\n"
     ]
    }
   ],
   "source": [
    "from bs4 import BeautifulSoup\n",
    "from urllib import parse\n",
    "\n",
    "driver = Chrome()\n",
    "url = 'https://www.youtube.com'\n",
    "driver.get(url)\n",
    "\n",
    "# TODO: time delay.\n",
    "time.sleep(5)  # 여기에서 시간을 많이줘야 가져올 수 있음. #######@@@@@@@@@@@@@ IMPORTANT !!!!!!!! @@@@@@@@@#######\n",
    "\n",
    "\n",
    "soup = BeautifulSoup(driver.page_source)\n",
    "a_list = soup.select('div#contents div#content a#thumbnail') # tag이름#ID이름\n",
    "\n",
    "img_urls = []\n",
    "for img in a_list:\n",
    "    try:\n",
    "        xx =img.find('img')\n",
    "        print(xx['src'].split('?')[0])\n",
    "        img_urls.append(xx['src'].split('?')[0])\n",
    "    except:\n",
    "        # print('no img')\n",
    "        pass\n",
    "\n",
    "driver.quit()"
   ]
  },
  {
   "cell_type": "markdown",
   "metadata": {},
   "source": [
    "## 댓글 작성자, 내용 가져오기"
   ]
  },
  {
   "cell_type": "code",
   "execution_count": 6,
   "metadata": {},
   "outputs": [],
   "source": [
    "\n",
    "from selenium import webdriver\n",
    "import time\n",
    "# from openpyxl import Workbook\n",
    "import pandas as pd\n",
    "from selenium.webdriver.common.keys import Keys\n",
    "from bs4 import BeautifulSoup\n",
    "\n",
    "import warnings \n",
    "warnings.filterwarnings('ignore')\n",
    "\n",
    "driver = webdriver.Chrome()\n",
    "\n",
    "# FIXME: ### 시간을 줘야함 안그럼 오류뜸!!!!\n",
    "time.sleep(5) ### 시간을 줘야함 안그럼 오류뜸!!!!\n",
    "\n",
    "url = 'https://www.youtube.com/watch?v=3qHl_XGnI_4'\n",
    "# 서태지 : 너와 함께한 시간속에서.\n",
    "driver.get(url)\n",
    "driver.implicitly_wait(3)\n",
    "\n",
    "time.sleep(1.5)\n",
    "\n",
    "driver.execute_script(\"window.scrollTo(0, 800)\")\n",
    "time.sleep(3)\n",
    "\n",
    "\n",
    "# 유튜브 팝업 닫기.\n",
    "try:\n",
    "    driver.find_element(By.CSS_SELECTOR, \"#dismiss-button > a\").click()\n",
    "except:\n",
    "    pass"
   ]
  },
  {
   "cell_type": "code",
   "execution_count": 7,
   "metadata": {},
   "outputs": [],
   "source": [
    "# 웹페이지 끝까지 스크롤하기.\n",
    "last_height = driver.execute_script(\"return document.documentElement.scrollHeight\")\n",
    "\n",
    "while True:\n",
    "    driver.execute_script(\"window.scrollTo(0, document.documentElement.scrollHeight);\")\n",
    "    time.sleep(1.5)\n",
    "\n",
    "    new_height = driver.execute_script(\"return document.documentElement.scrollHeight\")\n",
    "    if new_height == last_height:\n",
    "        break\n",
    "    last_height = new_height\n",
    "\n",
    "time.sleep(1.5)"
   ]
  },
  {
   "cell_type": "code",
   "execution_count": 84,
   "metadata": {},
   "outputs": [],
   "source": [
    "# #대댓글 버튼 누르기\n",
    "# buttons = driver.find_element(By.CSS_SELECTOR,\"#more-replies > a\")\n",
    "# buttons = driver.find_elements(By.CLASS_NAME,\"yt-spec-touch-feedback-shape__fill\")\n",
    "\n",
    "# time.sleep(1.5)\n",
    "\n",
    "# for button in buttons:\n",
    "#     button.send_keys(Keys.ENTER)\n",
    "#     time.sleep(1.5)\n",
    "#     button.click()\n",
    "    "
   ]
  },
  {
   "cell_type": "code",
   "execution_count": 8,
   "metadata": {},
   "outputs": [],
   "source": [
    "html_source = driver.page_source\n",
    "soup = BeautifulSoup(html_source, 'html.parser')\n",
    "\n",
    "id_list = soup.select(\"div#header-author > h3 > #author-text > span\")\n",
    "comment_list = soup.select(\"yt-formatted-string#content-text\")\n",
    "\n",
    "id_final = []\n",
    "comment_final = []\n",
    "\n",
    "for i in range(len(comment_list)):\n",
    "    temp_id = id_list[i].text\n",
    "    temp_id = temp_id.replace('\\n', '')\n",
    "    temp_id = temp_id.replace('\\t', '')\n",
    "    temp_id = temp_id.replace('    ', '')\n",
    "    id_final.append(temp_id) # 댓글 작성자\n",
    "\n",
    "    temp_comment = comment_list[i].text\n",
    "    temp_comment = temp_comment.replace('\\n', '')\n",
    "    temp_comment = temp_comment.replace('\\t', '')\n",
    "    temp_comment = temp_comment.replace('    ', '')\n",
    "    comment_final.append(temp_comment) # 댓글 내용\n",
    "    \n",
    "\n",
    "pd_data = {\"아이디\" : id_final , \"댓글 내용\" : comment_final}\n",
    "youtube_pd = pd.DataFrame(pd_data)\n",
    "\n",
    "# youtube_pd.to_excel('result.xlsx')\n",
    "\n",
    "driver.quit()\n"
   ]
  },
  {
   "cell_type": "code",
   "execution_count": 9,
   "metadata": {},
   "outputs": [
    {
     "data": {
      "text/html": [
       "<div>\n",
       "<style scoped>\n",
       "    .dataframe tbody tr th:only-of-type {\n",
       "        vertical-align: middle;\n",
       "    }\n",
       "\n",
       "    .dataframe tbody tr th {\n",
       "        vertical-align: top;\n",
       "    }\n",
       "\n",
       "    .dataframe thead th {\n",
       "        text-align: right;\n",
       "    }\n",
       "</style>\n",
       "<table border=\"1\" class=\"dataframe\">\n",
       "  <thead>\n",
       "    <tr style=\"text-align: right;\">\n",
       "      <th></th>\n",
       "      <th>아이디</th>\n",
       "      <th>댓글 내용</th>\n",
       "    </tr>\n",
       "  </thead>\n",
       "  <tbody>\n",
       "  </tbody>\n",
       "</table>\n",
       "</div>"
      ],
      "text/plain": [
       "Empty DataFrame\n",
       "Columns: [아이디, 댓글 내용]\n",
       "Index: []"
      ]
     },
     "execution_count": 9,
     "metadata": {},
     "output_type": "execute_result"
    }
   ],
   "source": [
    "youtube_pd"
   ]
  },
  {
   "cell_type": "code",
   "execution_count": 10,
   "metadata": {},
   "outputs": [],
   "source": [
    "driver.quit()"
   ]
  }
 ],
 "metadata": {
  "kernelspec": {
   "display_name": "vision00",
   "language": "python",
   "name": "python3"
  },
  "language_info": {
   "codemirror_mode": {
    "name": "ipython",
    "version": 3
   },
   "file_extension": ".py",
   "mimetype": "text/x-python",
   "name": "python",
   "nbconvert_exporter": "python",
   "pygments_lexer": "ipython3",
   "version": "3.8.17"
  },
  "orig_nbformat": 4
 },
 "nbformat": 4,
 "nbformat_minor": 2
}
