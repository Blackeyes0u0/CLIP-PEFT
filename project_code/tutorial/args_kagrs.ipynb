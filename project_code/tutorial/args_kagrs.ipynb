{
 "cells": [
  {
   "cell_type": "code",
   "execution_count": 8,
   "metadata": {},
   "outputs": [
    {
     "name": "stdout",
     "output_type": "stream",
     "text": [
      "(1, 2, 3)\n"
     ]
    }
   ],
   "source": [
    "def add(*args): # *args : 가변인자\n",
    "    print(args)\n",
    "    \n",
    "add(1, 2, 3)"
   ]
  },
  {
   "cell_type": "code",
   "execution_count": 9,
   "metadata": {},
   "outputs": [
    {
     "name": "stdout",
     "output_type": "stream",
     "text": [
      "10\n"
     ]
    }
   ],
   "source": [
    "def add(x):\n",
    "    result = 0\n",
    "    for i in x:\n",
    "        result +=i\n",
    "    print(result)\n",
    "x = [1,2,3,4]\n",
    "add(x)"
   ]
  },
  {
   "cell_type": "code",
   "execution_count": 4,
   "metadata": {},
   "outputs": [
    {
     "name": "stdout",
     "output_type": "stream",
     "text": [
      "1313\n",
      "25\n",
      "5\n"
     ]
    }
   ],
   "source": [
    "def add(*args):\n",
    "    result = 0\n",
    "    for i in args:\n",
    "        result += i\n",
    "    print(result)\n",
    "    \n",
    "add(1, 10, 1302)\n",
    "add(1, 2, 3, 19)\n",
    "add(5)\n"
   ]
  },
  {
   "cell_type": "code",
   "execution_count": 10,
   "metadata": {},
   "outputs": [
    {
     "name": "stdout",
     "output_type": "stream",
     "text": [
      "{'name': '홍길동', 'age': '50'}\n"
     ]
    },
    {
     "data": {
      "text/plain": [
       "{'age': '50', 'name': '홍길동'}"
      ]
     },
     "execution_count": 10,
     "metadata": {},
     "output_type": "execute_result"
    }
   ],
   "source": [
    "def name_and_age(**kwargs):\n",
    "\tprint(kwargs)\n",
    "    \n",
    "name_and_age(name=\"홍길동\", age=\"50\")\n",
    "\n",
    "### 출력값 ###\n",
    "{'age': '50', 'name': '홍길동'}"
   ]
  },
  {
   "cell_type": "code",
   "execution_count": 12,
   "metadata": {},
   "outputs": [
    {
     "name": "stdout",
     "output_type": "stream",
     "text": [
      "(1, 2, 3) {'name': '홍길동'}\n"
     ]
    }
   ],
   "source": [
    "def number_and_name(*args, **kwargs):\n",
    "    print(args, kwargs)\n",
    "\n",
    "number_and_name(1, 2, 3, name=\"홍길동\")\n",
    "\n",
    "### 출력값 ###\n",
    "# (1, 2, 3) {'name': 'GilDong Hong'}"
   ]
  },
  {
   "cell_type": "code",
   "execution_count": null,
   "metadata": {},
   "outputs": [],
   "source": [
    "# args : 가변인자 튜플\n",
    "# kargs : 가변인자 딕셔너리"
   ]
  },
  {
   "cell_type": "code",
   "execution_count": null,
   "metadata": {},
   "outputs": [],
   "source": []
  }
 ],
 "metadata": {
  "kernelspec": {
   "display_name": "veda",
   "language": "python",
   "name": "python3"
  },
  "language_info": {
   "codemirror_mode": {
    "name": "ipython",
    "version": 3
   },
   "file_extension": ".py",
   "mimetype": "text/x-python",
   "name": "python",
   "nbconvert_exporter": "python",
   "pygments_lexer": "ipython3",
   "version": "3.8.17"
  }
 },
 "nbformat": 4,
 "nbformat_minor": 2
}
