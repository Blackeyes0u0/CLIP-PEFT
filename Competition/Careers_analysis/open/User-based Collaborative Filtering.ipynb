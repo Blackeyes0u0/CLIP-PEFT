{
 "cells": [
  {
   "cell_type": "markdown",
   "id": "b61f7f3a-5205-46d9-9f27-5612cfc68ca7",
   "metadata": {},
   "source": [
    "## Import"
   ]
  },
  {
   "cell_type": "code",
   "execution_count": 16,
   "id": "71c31dfc-ebb8-4af4-a036-597365c5d3ba",
   "metadata": {
    "tags": []
   },
   "outputs": [
    {
     "name": "stdout",
     "output_type": "stream",
     "text": [
      "/private/var/mobile/Containers/Data/Application/2CF9B4AA-DD1C-43D5-A660-EF7964DF8ECF/Documents\n",
      "['.config', '.ipython', '.ipynb_checkpoints', '.jupyter']\n",
      "['preboot', 'etc', 'var', 'xarts', 'system_data']\n"
     ]
    }
   ],
   "source": [
    "import pandas as pd\n",
    "import numpy as np\n",
    "# from sklearn.metrics.pairwise import cosine_similarity\n",
    "import os\n",
    "print(os.getcwd())\n",
    "\n",
    "print(os.listdir(os.getcwd()))\n",
    "# print(os.listdir('/private/var/mobile/Containers'))\n",
    "path = '/private'\n",
    "print(os.listdir(path))\n",
    "os.chdir('/private')"
   ]
  },
  {
   "cell_type": "markdown",
   "id": "f66ab440-f598-4dbe-89de-8bc863bab258",
   "metadata": {},
   "source": [
    "## Data Load"
   ]
  },
  {
   "cell_type": "code",
   "execution_count": 3,
   "id": "d9feb8a6-5717-4221-950e-893002009824",
   "metadata": {},
   "outputs": [
    {
     "data": {
      "text/html": [
       "<div>\n",
       "<style scoped>\n",
       "    .dataframe tbody tr th:only-of-type {\n",
       "        vertical-align: middle;\n",
       "    }\n",
       "\n",
       "    .dataframe tbody tr th {\n",
       "        vertical-align: top;\n",
       "    }\n",
       "\n",
       "    .dataframe thead th {\n",
       "        text-align: right;\n",
       "    }\n",
       "</style>\n",
       "<table border=\"1\" class=\"dataframe\">\n",
       "  <thead>\n",
       "    <tr style=\"text-align: right;\">\n",
       "      <th></th>\n",
       "      <th>resume_seq</th>\n",
       "      <th>recruitment_seq</th>\n",
       "    </tr>\n",
       "  </thead>\n",
       "  <tbody>\n",
       "    <tr>\n",
       "      <th>0</th>\n",
       "      <td>U05833</td>\n",
       "      <td>R03838</td>\n",
       "    </tr>\n",
       "    <tr>\n",
       "      <th>1</th>\n",
       "      <td>U06456</td>\n",
       "      <td>R02144</td>\n",
       "    </tr>\n",
       "    <tr>\n",
       "      <th>2</th>\n",
       "      <td>U07807</td>\n",
       "      <td>R01877</td>\n",
       "    </tr>\n",
       "    <tr>\n",
       "      <th>3</th>\n",
       "      <td>U04842</td>\n",
       "      <td>R02463</td>\n",
       "    </tr>\n",
       "    <tr>\n",
       "      <th>4</th>\n",
       "      <td>U08336</td>\n",
       "      <td>R00112</td>\n",
       "    </tr>\n",
       "    <tr>\n",
       "      <th>...</th>\n",
       "      <td>...</td>\n",
       "      <td>...</td>\n",
       "    </tr>\n",
       "    <tr>\n",
       "      <th>57941</th>\n",
       "      <td>U02270</td>\n",
       "      <td>R03430</td>\n",
       "    </tr>\n",
       "    <tr>\n",
       "      <th>57942</th>\n",
       "      <td>U02640</td>\n",
       "      <td>R04987</td>\n",
       "    </tr>\n",
       "    <tr>\n",
       "      <th>57943</th>\n",
       "      <td>U08238</td>\n",
       "      <td>R01342</td>\n",
       "    </tr>\n",
       "    <tr>\n",
       "      <th>57944</th>\n",
       "      <td>U01296</td>\n",
       "      <td>R06363</td>\n",
       "    </tr>\n",
       "    <tr>\n",
       "      <th>57945</th>\n",
       "      <td>U05748</td>\n",
       "      <td>R03090</td>\n",
       "    </tr>\n",
       "  </tbody>\n",
       "</table>\n",
       "<p>57946 rows × 2 columns</p>\n",
       "</div>"
      ],
      "text/plain": [
       "      resume_seq recruitment_seq\n",
       "0         U05833          R03838\n",
       "1         U06456          R02144\n",
       "2         U07807          R01877\n",
       "3         U04842          R02463\n",
       "4         U08336          R00112\n",
       "...          ...             ...\n",
       "57941     U02270          R03430\n",
       "57942     U02640          R04987\n",
       "57943     U08238          R01342\n",
       "57944     U01296          R06363\n",
       "57945     U05748          R03090\n",
       "\n",
       "[57946 rows x 2 columns]"
      ]
     },
     "execution_count": 3,
     "metadata": {},
     "output_type": "execute_result"
    }
   ],
   "source": [
    "apply_train_df = pd.read_csv('apply_train.csv')\n",
    "apply_train_df"
   ]
  },
  {
   "cell_type": "markdown",
   "id": "40ed2463-79c1-462e-835e-eed30beee9b9",
   "metadata": {},
   "source": [
    "## User-Item Matrix / Similarity / Score"
   ]
  },
  {
   "cell_type": "code",
   "execution_count": 13,
   "id": "d70bbbf1-ccbe-41d2-a44e-572be670f7b3",
   "metadata": {},
   "outputs": [
    {
     "name": "stdout",
     "output_type": "stream",
     "text": [
      "(8482, 6695)\n"
     ]
    }
   ],
   "source": [
    "# 사용자-아이템 행렬 생성: 구직자가 해당 채용 공고에 지원했으면 1, 아니면 0으로 설정\n",
    "user_item_matrix = apply_train_df.groupby(['resume_seq', 'recruitment_seq']).size().unstack(fill_value=0)\n",
    "user_item_matrix[user_item_matrix > 1] = 1\n",
    "\n",
    "print(user_item_matrix.shape)\n",
    "# 사용자 간의 유사성 계산\n",
    "user_similarity = cosine_similarity(user_item_matrix)\n",
    "\n",
    "# 추천 점수 계산\n",
    "user_predicted_scores = user_similarity.dot(user_item_matrix) / np.array([np.abs(user_similarity).sum(axis=1)]).T"
   ]
  },
  {
   "cell_type": "markdown",
   "id": "d26354ac-e4d1-45c8-9989-959ded47a495",
   "metadata": {},
   "source": [
    "## Prediction"
   ]
  },
  {
   "cell_type": "code",
   "execution_count": 4,
   "id": "d06ab32b-8d6f-4e60-b9ba-128fed459309",
   "metadata": {},
   "outputs": [],
   "source": [
    "# 이미 지원한 채용 공고 제외하고 추천\n",
    "recommendations = []\n",
    "for idx, user in enumerate(user_item_matrix.index):\n",
    "    # 해당 사용자가 지원한 채용 공고\n",
    "    applied_jobs = set(user_item_matrix.loc[user][user_item_matrix.loc[user] == 1].index)\n",
    "    \n",
    "    # 해당 사용자의 추천 점수 (높은 점수부터 정렬)\n",
    "    sorted_job_indices = user_predicted_scores[idx].argsort()[::-1]\n",
    "    recommended_jobs = [job for job in user_item_matrix.columns[sorted_job_indices] if job not in applied_jobs][:5]\n",
    "    \n",
    "    for job in recommended_jobs:\n",
    "        recommendations.append([user, job])"
   ]
  },
  {
   "cell_type": "markdown",
   "id": "40aa5ec7-6604-491f-973f-cd2c596cea32",
   "metadata": {},
   "source": [
    "## Submission"
   ]
  },
  {
   "cell_type": "code",
   "execution_count": 5,
   "id": "bb643208-457b-4a4f-a8f4-c74277338e05",
   "metadata": {},
   "outputs": [],
   "source": [
    "    # sample_submission.csv 형태로 DataFrame 생성\n",
    "top_recommendations = pd.DataFrame(recommendations, columns=['resume_seq', 'recruitment_seq'])\n",
    "\n",
    "top_recommendations.to_csv('./baseline_submit.csv', index=False)"
   ]
  },
  {
   "cell_type": "code",
   "execution_count": null,
   "id": "258d2915",
   "metadata": {},
   "outputs": [],
   "source": []
  }
 ],
 "metadata": {
  "kernelspec": {
   "display_name": "Python 3 (ipykernel)",
   "language": "python",
   "name": "python3"
  },
  "language_info": {
   "codemirror_mode": {
    "name": "ipython",
    "version": 3
   },
   "file_extension": ".py",
   "mimetype": "text/x-python",
   "name": "python",
   "nbconvert_exporter": "python",
   "pygments_lexer": "ipython3",
   "version": "3.11.0"
  }
 },
 "nbformat": 4,
 "nbformat_minor": 5
}
