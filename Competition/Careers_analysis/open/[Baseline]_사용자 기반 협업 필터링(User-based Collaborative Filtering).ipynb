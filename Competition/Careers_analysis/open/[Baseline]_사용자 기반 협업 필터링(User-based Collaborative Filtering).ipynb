{
 "cells": [
  {
   "cell_type": "markdown",
   "id": "b61f7f3a-5205-46d9-9f27-5612cfc68ca7",
   "metadata": {},
   "source": [
    "## Import"
   ]
  },
  {
   "cell_type": "code",
   "execution_count": 1,
   "id": "71c31dfc-ebb8-4af4-a036-597365c5d3ba",
   "metadata": {
    "tags": []
   },
   "outputs": [],
   "source": [
    "import pandas as pd\n",
    "import numpy as np\n",
    "from sklearn.metrics.pairwise import cosine_similarity"
   ]
  },
  {
   "cell_type": "code",
   "execution_count": 66,
   "id": "f9fe7c57",
   "metadata": {},
   "outputs": [],
   "source": [
    "data = [pd.read_csv('apply_train.csv'),\n",
    "pd.read_csv('company.csv'),\n",
    "pd.read_csv('recruitment.csv'),\n",
    "pd.read_csv('resume_certificate.csv'),\n",
    "pd.read_csv('resume_education.csv'),\n",
    "pd.read_csv('resume_language.csv'),\n",
    "pd.read_csv('resume.csv'),\n",
    "# pd.read_csv('sample_submission.csv'),\n",
    "]\n",
    "\n"
   ]
  },
  {
   "cell_type": "code",
   "execution_count": 62,
   "id": "def15ba0",
   "metadata": {},
   "outputs": [
    {
     "data": {
      "text/html": [
       "<div>\n",
       "<style scoped>\n",
       "    .dataframe tbody tr th:only-of-type {\n",
       "        vertical-align: middle;\n",
       "    }\n",
       "\n",
       "    .dataframe tbody tr th {\n",
       "        vertical-align: top;\n",
       "    }\n",
       "\n",
       "    .dataframe thead th {\n",
       "        text-align: right;\n",
       "    }\n",
       "</style>\n",
       "<table border=\"1\" class=\"dataframe\">\n",
       "  <thead>\n",
       "    <tr style=\"text-align: right;\">\n",
       "      <th></th>\n",
       "      <th>recruitment_seq</th>\n",
       "      <th>company_type_seq</th>\n",
       "      <th>supply_kind</th>\n",
       "      <th>employee</th>\n",
       "    </tr>\n",
       "  </thead>\n",
       "  <tbody>\n",
       "    <tr>\n",
       "      <th>0</th>\n",
       "      <td>R02073</td>\n",
       "      <td>2</td>\n",
       "      <td>514</td>\n",
       "      <td>20</td>\n",
       "    </tr>\n",
       "    <tr>\n",
       "      <th>1</th>\n",
       "      <td>R03274</td>\n",
       "      <td>2</td>\n",
       "      <td>402</td>\n",
       "      <td>90</td>\n",
       "    </tr>\n",
       "    <tr>\n",
       "      <th>2</th>\n",
       "      <td>R02195</td>\n",
       "      <td>2</td>\n",
       "      <td>514</td>\n",
       "      <td>20</td>\n",
       "    </tr>\n",
       "    <tr>\n",
       "      <th>3</th>\n",
       "      <td>R03372</td>\n",
       "      <td>4</td>\n",
       "      <td>100</td>\n",
       "      <td>60</td>\n",
       "    </tr>\n",
       "    <tr>\n",
       "      <th>4</th>\n",
       "      <td>R00867</td>\n",
       "      <td>2</td>\n",
       "      <td>402</td>\n",
       "      <td>590</td>\n",
       "    </tr>\n",
       "    <tr>\n",
       "      <th>...</th>\n",
       "      <td>...</td>\n",
       "      <td>...</td>\n",
       "      <td>...</td>\n",
       "      <td>...</td>\n",
       "    </tr>\n",
       "    <tr>\n",
       "      <th>2372</th>\n",
       "      <td>R01786</td>\n",
       "      <td>2</td>\n",
       "      <td>100</td>\n",
       "      <td>100</td>\n",
       "    </tr>\n",
       "    <tr>\n",
       "      <th>2373</th>\n",
       "      <td>R03415</td>\n",
       "      <td>2</td>\n",
       "      <td>100</td>\n",
       "      <td>270</td>\n",
       "    </tr>\n",
       "    <tr>\n",
       "      <th>2374</th>\n",
       "      <td>R04028</td>\n",
       "      <td>4</td>\n",
       "      <td>402</td>\n",
       "      <td>525</td>\n",
       "    </tr>\n",
       "    <tr>\n",
       "      <th>2375</th>\n",
       "      <td>R06508</td>\n",
       "      <td>2</td>\n",
       "      <td>402</td>\n",
       "      <td>70</td>\n",
       "    </tr>\n",
       "    <tr>\n",
       "      <th>2376</th>\n",
       "      <td>R00604</td>\n",
       "      <td>5</td>\n",
       "      <td>402</td>\n",
       "      <td>300</td>\n",
       "    </tr>\n",
       "  </tbody>\n",
       "</table>\n",
       "<p>2377 rows × 4 columns</p>\n",
       "</div>"
      ],
      "text/plain": [
       "     recruitment_seq  company_type_seq  supply_kind  employee\n",
       "0             R02073                 2          514        20\n",
       "1             R03274                 2          402        90\n",
       "2             R02195                 2          514        20\n",
       "3             R03372                 4          100        60\n",
       "4             R00867                 2          402       590\n",
       "...              ...               ...          ...       ...\n",
       "2372          R01786                 2          100       100\n",
       "2373          R03415                 2          100       270\n",
       "2374          R04028                 4          402       525\n",
       "2375          R06508                 2          402        70\n",
       "2376          R00604                 5          402       300\n",
       "\n",
       "[2377 rows x 4 columns]"
      ]
     },
     "execution_count": 62,
     "metadata": {},
     "output_type": "execute_result"
    }
   ],
   "source": [
    "df3[0]"
   ]
  },
  {
   "cell_type": "code",
   "execution_count": 68,
   "id": "2023061e",
   "metadata": {},
   "outputs": [
    {
     "name": "stdout",
     "output_type": "stream",
     "text": [
      "Index(['resume_seq', 'recruitment_seq'], dtype='object')\n",
      "Index(['recruitment_seq', 'company_type_seq', 'supply_kind', 'employee'], dtype='object')\n",
      "Index(['recruitment_seq', 'address_seq1', 'address_seq2', 'address_seq3',\n",
      "       'career_end', 'career_start', 'check_box_keyword', 'education',\n",
      "       'major_task', 'qualifications', 'text_keyword'],\n",
      "      dtype='object')\n",
      "Index(['resume_seq', 'certificate_contents'], dtype='object')\n",
      "Index(['resume_seq', 'hischool_type_seq', 'hischool_special_type',\n",
      "       'hischool_nation', 'hischool_gender', 'hischool_location_seq',\n",
      "       'univ_type_seq1', 'univ_type_seq2', 'univ_transfer', 'univ_location',\n",
      "       'univ_major', 'univ_sub_major', 'univ_major_type', 'univ_score'],\n",
      "      dtype='object')\n",
      "Index(['resume_seq', 'language', 'exam_name', 'score'], dtype='object')\n",
      "Index(['resume_seq', 'reg_date', 'updated_date', 'degree', 'graduate_date',\n",
      "       'hope_salary', 'last_salary', 'text_keyword', 'job_code_seq1',\n",
      "       'job_code_seq2', 'job_code_seq3', 'career_month', 'career_job_code'],\n",
      "      dtype='object')\n"
     ]
    }
   ],
   "source": [
    "# df1 = pd.DataFrame('apply_train.csv')\n",
    "df1 = pd.read_csv('apply_train.csv'),\n",
    "\n",
    "\n",
    "### recruit 관련\n",
    "df2 = pd.read_csv('company.csv'),\n",
    "df3 = pd.read_csv('recruitment.csv'),\n",
    "\n",
    "\n",
    "## resume 관련 \n",
    "df4 = pd.read_csv('resume_certificate.csv'),\n",
    "df5 = pd.read_csv('resume_education.csv'),\n",
    "df6 = pd.read_csv('resume_language.csv'),\n",
    "df7 = pd.read_csv('resume.csv'),\n",
    "\n",
    "# df8 = pd.read_csv('sample_submission.csv'),\n",
    "\n",
    "for df in data:\n",
    "    print(df.columns)\n",
    "    \n",
    "    \n",
    "\n"
   ]
  },
  {
   "cell_type": "code",
   "execution_count": 69,
   "id": "d534b0fe",
   "metadata": {},
   "outputs": [
    {
     "name": "stdout",
     "output_type": "stream",
     "text": [
      "{'\\ufeffresume_seq': 'U05833', 'recruitment_seq': 'R03838'}\n"
     ]
    }
   ],
   "source": [
    "import csv\n",
    "\n",
    "mydict = {}\n",
    "with open(\"apply_train.csv\", \"r\") as file:\n",
    "    reader = csv.reader(file)\n",
    "    attrs = []\n",
    "    result = []\n",
    "    for row in reader:\n",
    "        if len(attrs) < 1:\n",
    "            attrs = row\n",
    "            continue\n",
    "        temp_row_dict = dict()\n",
    "        for key, value in zip(attrs, row):\n",
    "            temp_row_dict[key] = value\n",
    "        result.append(temp_row_dict)\n",
    "\n",
    "\n",
    "for row in result:\n",
    "    print(row)\n",
    "    break"
   ]
  },
  {
   "cell_type": "markdown",
   "id": "f66ab440-f598-4dbe-89de-8bc863bab258",
   "metadata": {},
   "source": [
    "## Data Load"
   ]
  },
  {
   "cell_type": "code",
   "execution_count": 4,
   "id": "d9feb8a6-5717-4221-950e-893002009824",
   "metadata": {},
   "outputs": [
    {
     "data": {
      "text/html": [
       "<div>\n",
       "<style scoped>\n",
       "    .dataframe tbody tr th:only-of-type {\n",
       "        vertical-align: middle;\n",
       "    }\n",
       "\n",
       "    .dataframe tbody tr th {\n",
       "        vertical-align: top;\n",
       "    }\n",
       "\n",
       "    .dataframe thead th {\n",
       "        text-align: right;\n",
       "    }\n",
       "</style>\n",
       "<table border=\"1\" class=\"dataframe\">\n",
       "  <thead>\n",
       "    <tr style=\"text-align: right;\">\n",
       "      <th></th>\n",
       "      <th>resume_seq</th>\n",
       "      <th>recruitment_seq</th>\n",
       "    </tr>\n",
       "  </thead>\n",
       "  <tbody>\n",
       "    <tr>\n",
       "      <th>0</th>\n",
       "      <td>U05833</td>\n",
       "      <td>R03838</td>\n",
       "    </tr>\n",
       "    <tr>\n",
       "      <th>1</th>\n",
       "      <td>U06456</td>\n",
       "      <td>R02144</td>\n",
       "    </tr>\n",
       "    <tr>\n",
       "      <th>2</th>\n",
       "      <td>U07807</td>\n",
       "      <td>R01877</td>\n",
       "    </tr>\n",
       "    <tr>\n",
       "      <th>3</th>\n",
       "      <td>U04842</td>\n",
       "      <td>R02463</td>\n",
       "    </tr>\n",
       "    <tr>\n",
       "      <th>4</th>\n",
       "      <td>U08336</td>\n",
       "      <td>R00112</td>\n",
       "    </tr>\n",
       "    <tr>\n",
       "      <th>...</th>\n",
       "      <td>...</td>\n",
       "      <td>...</td>\n",
       "    </tr>\n",
       "    <tr>\n",
       "      <th>57941</th>\n",
       "      <td>U02270</td>\n",
       "      <td>R03430</td>\n",
       "    </tr>\n",
       "    <tr>\n",
       "      <th>57942</th>\n",
       "      <td>U02640</td>\n",
       "      <td>R04987</td>\n",
       "    </tr>\n",
       "    <tr>\n",
       "      <th>57943</th>\n",
       "      <td>U08238</td>\n",
       "      <td>R01342</td>\n",
       "    </tr>\n",
       "    <tr>\n",
       "      <th>57944</th>\n",
       "      <td>U01296</td>\n",
       "      <td>R06363</td>\n",
       "    </tr>\n",
       "    <tr>\n",
       "      <th>57945</th>\n",
       "      <td>U05748</td>\n",
       "      <td>R03090</td>\n",
       "    </tr>\n",
       "  </tbody>\n",
       "</table>\n",
       "<p>57946 rows × 2 columns</p>\n",
       "</div>"
      ],
      "text/plain": [
       "      resume_seq recruitment_seq\n",
       "0         U05833          R03838\n",
       "1         U06456          R02144\n",
       "2         U07807          R01877\n",
       "3         U04842          R02463\n",
       "4         U08336          R00112\n",
       "...          ...             ...\n",
       "57941     U02270          R03430\n",
       "57942     U02640          R04987\n",
       "57943     U08238          R01342\n",
       "57944     U01296          R06363\n",
       "57945     U05748          R03090\n",
       "\n",
       "[57946 rows x 2 columns]"
      ]
     },
     "execution_count": 4,
     "metadata": {},
     "output_type": "execute_result"
    }
   ],
   "source": [
    "apply_train_df = pd.read_csv('apply_train.csv')\n",
    "apply_train_df"
   ]
  },
  {
   "cell_type": "code",
   "execution_count": 5,
   "id": "31639d21",
   "metadata": {},
   "outputs": [
    {
     "data": {
      "text/html": [
       "<div>\n",
       "<style scoped>\n",
       "    .dataframe tbody tr th:only-of-type {\n",
       "        vertical-align: middle;\n",
       "    }\n",
       "\n",
       "    .dataframe tbody tr th {\n",
       "        vertical-align: top;\n",
       "    }\n",
       "\n",
       "    .dataframe thead th {\n",
       "        text-align: right;\n",
       "    }\n",
       "</style>\n",
       "<table border=\"1\" class=\"dataframe\">\n",
       "  <thead>\n",
       "    <tr style=\"text-align: right;\">\n",
       "      <th></th>\n",
       "      <th>0</th>\n",
       "      <th>1</th>\n",
       "      <th>2</th>\n",
       "    </tr>\n",
       "  </thead>\n",
       "  <tbody>\n",
       "    <tr>\n",
       "      <th>0</th>\n",
       "      <td>1</td>\n",
       "      <td>2</td>\n",
       "      <td>3</td>\n",
       "    </tr>\n",
       "    <tr>\n",
       "      <th>1</th>\n",
       "      <td>4</td>\n",
       "      <td>5</td>\n",
       "      <td>6</td>\n",
       "    </tr>\n",
       "  </tbody>\n",
       "</table>\n",
       "</div>"
      ],
      "text/plain": [
       "   0  1  2\n",
       "0  1  2  3\n",
       "1  4  5  6"
      ]
     },
     "metadata": {},
     "output_type": "display_data"
    },
    {
     "data": {
      "text/html": [
       "<div>\n",
       "<style scoped>\n",
       "    .dataframe tbody tr th:only-of-type {\n",
       "        vertical-align: middle;\n",
       "    }\n",
       "\n",
       "    .dataframe tbody tr th {\n",
       "        vertical-align: top;\n",
       "    }\n",
       "\n",
       "    .dataframe thead th {\n",
       "        text-align: right;\n",
       "    }\n",
       "</style>\n",
       "<table border=\"1\" class=\"dataframe\">\n",
       "  <thead>\n",
       "    <tr style=\"text-align: right;\">\n",
       "      <th></th>\n",
       "      <th>a</th>\n",
       "      <th>b</th>\n",
       "      <th>c</th>\n",
       "    </tr>\n",
       "  </thead>\n",
       "  <tbody>\n",
       "    <tr>\n",
       "      <th>0</th>\n",
       "      <td>1</td>\n",
       "      <td>1</td>\n",
       "      <td>2</td>\n",
       "    </tr>\n",
       "    <tr>\n",
       "      <th>1</th>\n",
       "      <td>3</td>\n",
       "      <td>2</td>\n",
       "      <td>4</td>\n",
       "    </tr>\n",
       "  </tbody>\n",
       "</table>\n",
       "</div>"
      ],
      "text/plain": [
       "   a  b  c\n",
       "0  1  1  2\n",
       "1  3  2  4"
      ]
     },
     "metadata": {},
     "output_type": "display_data"
    }
   ],
   "source": [
    "my_2darray = np.array([[1, 2, 3], [4, 5, 6]])\n",
    "display(pd.DataFrame(my_2darray))\n",
    "\n",
    "# Take a dictionary as input to your DataFrame \n",
    "my_dict = {\"a\": ['1', '3'], \"b\": ['1', '2'], \"c\": ['2', '4']}\n",
    "display(pd.DataFrame(my_dict))"
   ]
  },
  {
   "cell_type": "markdown",
   "id": "40ed2463-79c1-462e-835e-eed30beee9b9",
   "metadata": {},
   "source": [
    "## User-Item Matrix / Similarity / Score"
   ]
  },
  {
   "cell_type": "code",
   "execution_count": 104,
   "id": "511eb67f",
   "metadata": {},
   "outputs": [],
   "source": [
    "user = list(apply_train_df['resume_seq'].unique())\n",
    "company = list(apply_train_df['recruitment_seq'].unique())\n"
   ]
  },
  {
   "cell_type": "code",
   "execution_count": 6,
   "id": "d70bbbf1-ccbe-41d2-a44e-572be670f7b3",
   "metadata": {},
   "outputs": [
    {
     "name": "stdout",
     "output_type": "stream",
     "text": [
      "(8482, 6695)\n"
     ]
    }
   ],
   "source": [
    "# 사용자-아이템 행렬 생성: 구직자가 해당 채용 공고에 지원했으면 1, 아니면 0으로 설정\n",
    "user_item_matrix = apply_train_df.groupby(['resume_seq', 'recruitment_seq']).size().unstack(fill_value=0)\n",
    "aaa = np.array(user_item_matrix)\n",
    "print(sum(sum(aaa)))\n",
    "user_item_matrix[user_item_matrix > 1] = 1\n",
    "\n",
    "print(user_item_matrix.shape)\n",
    "# 사용자 간의 유사성 계산\n",
    "user_similarity = cosine_similarity(user_item_matrix)\n",
    "\n",
    "# 추천 점수 계산\n",
    "user_predicted_scores = user_similarity.dot(user_item_matrix) / np.array([np.abs(user_similarity).sum(axis=1)]).T"
   ]
  },
  {
   "cell_type": "code",
   "execution_count": 143,
   "id": "851ae338",
   "metadata": {},
   "outputs": [
    {
     "data": {
      "text/plain": [
       "(8482,)"
      ]
     },
     "execution_count": 143,
     "metadata": {},
     "output_type": "execute_result"
    }
   ],
   "source": [
    "np.abs(user_similarity).sum(axis=0).shape\n",
    "\n",
    "#user similarity 는 symmetric"
   ]
  },
  {
   "cell_type": "code",
   "execution_count": 128,
   "id": "afbeb57b",
   "metadata": {},
   "outputs": [
    {
     "data": {
      "text/plain": [
       "(8482, 6695)"
      ]
     },
     "execution_count": 128,
     "metadata": {},
     "output_type": "execute_result"
    }
   ],
   "source": [
    "aa = user_similarity.dot(user_item_matrix)\n",
    "aa.shape"
   ]
  },
  {
   "cell_type": "code",
   "execution_count": 127,
   "id": "657c1dae",
   "metadata": {},
   "outputs": [
    {
     "data": {
      "text/plain": [
       "(8482, 1)"
      ]
     },
     "execution_count": 127,
     "metadata": {},
     "output_type": "execute_result"
    }
   ],
   "source": [
    "bb =np.array([np.abs(user_similarity).sum(axis=1)]).T \n",
    "bb.shape"
   ]
  },
  {
   "cell_type": "markdown",
   "id": "d26354ac-e4d1-45c8-9989-959ded47a495",
   "metadata": {},
   "source": [
    "## Prediction"
   ]
  },
  {
   "cell_type": "code",
   "execution_count": 7,
   "id": "d06ab32b-8d6f-4e60-b9ba-128fed459309",
   "metadata": {},
   "outputs": [],
   "source": [
    "# 이미 지원한 채용 공고 제외하고 추천\n",
    "recommendations = []\n",
    "for idx, user in enumerate(user_item_matrix.index):\n",
    "    # 해당 사용자가 지원한 채용 공고\n",
    "    applied_jobs = set(user_item_matrix.loc[user][user_item_matrix.loc[user] == 1].index)\n",
    "    \n",
    "    # 해당 사용자의 추천 점수 (높은 점수부터 정렬)\n",
    "    sorted_job_indices = user_predicted_scores[idx].argsort()[::-1]\n",
    "    recommended_jobs = [job for job in user_item_matrix.columns[sorted_job_indices] if job not in applied_jobs][:5]\n",
    "    \n",
    "    for job in recommended_jobs:\n",
    "        recommendations.append([user, job])"
   ]
  },
  {
   "cell_type": "markdown",
   "id": "40aa5ec7-6604-491f-973f-cd2c596cea32",
   "metadata": {},
   "source": [
    "## Submission"
   ]
  },
  {
   "cell_type": "code",
   "execution_count": 8,
   "id": "bb643208-457b-4a4f-a8f4-c74277338e05",
   "metadata": {},
   "outputs": [],
   "source": [
    "    # sample_submission.csv 형태로 DataFrame 생성\n",
    "top_recommendations = pd.DataFrame(recommendations, columns=['resume_seq', 'recruitment_seq'])\n",
    "\n",
    "top_recommendations.to_csv('./baseline_submit.csv', index=False)"
   ]
  },
  {
   "cell_type": "code",
   "execution_count": null,
   "id": "258d2915",
   "metadata": {},
   "outputs": [],
   "source": []
  }
 ],
 "metadata": {
  "kernelspec": {
   "display_name": "PyTorch 1.14 (NGC 22.12/Python 3.8) on Backend.AI",
   "language": "python",
   "name": "python3"
  },
  "language_info": {
   "codemirror_mode": {
    "name": "ipython",
    "version": 3
   },
   "file_extension": ".py",
   "mimetype": "text/x-python",
   "name": "python",
   "nbconvert_exporter": "python",
   "pygments_lexer": "ipython3",
   "version": "3.8.17"
  }
 },
 "nbformat": 4,
 "nbformat_minor": 5
}
