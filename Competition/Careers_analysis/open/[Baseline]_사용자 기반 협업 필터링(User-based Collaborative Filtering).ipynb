{
 "cells": [
  {
   "cell_type": "markdown",
   "id": "b61f7f3a-5205-46d9-9f27-5612cfc68ca7",
   "metadata": {},
   "source": [
    "## Import"
   ]
  },
  {
   "cell_type": "code",
   "execution_count": 2,
   "id": "71c31dfc-ebb8-4af4-a036-597365c5d3ba",
   "metadata": {
    "tags": []
   },
   "outputs": [],
   "source": [
    "import pandas as pd\n",
    "import numpy as np\n",
    "from sklearn.metrics.pairwise import cosine_similarity"
   ]
  },
  {
   "cell_type": "code",
   "execution_count": 4,
   "id": "d534b0fe",
   "metadata": {},
   "outputs": [
    {
     "ename": "FileNotFoundError",
     "evalue": "[Errno 2] No such file or directory: 'apply_train.csv'",
     "output_type": "error",
     "traceback": [
      "\u001b[0;31m---------------------------------------------------------------------------\u001b[0m",
      "\u001b[0;31mFileNotFoundError\u001b[0m                         Traceback (most recent call last)",
      "\u001b[1;32m/Users/juniverse/Desktop/pointcloud/VectorUniverse/Competition/Careers_analysis/open/[Baseline]_사용자 기반 협업 필터링(User-based Collaborative Filtering).ipynb 셀 3\u001b[0m line \u001b[0;36m6\n\u001b[1;32m      <a href='vscode-notebook-cell:/Users/juniverse/Desktop/pointcloud/VectorUniverse/Competition/Careers_analysis/open/%5BBaseline%5D_%EC%82%AC%EC%9A%A9%EC%9E%90%20%EA%B8%B0%EB%B0%98%20%ED%98%91%EC%97%85%20%ED%95%84%ED%84%B0%EB%A7%81%28User-based%20Collaborative%20Filtering%29.ipynb#X15sZmlsZQ%3D%3D?line=0'>1</a>\u001b[0m \u001b[39mimport\u001b[39;00m \u001b[39mcsv\u001b[39;00m\n\u001b[1;32m      <a href='vscode-notebook-cell:/Users/juniverse/Desktop/pointcloud/VectorUniverse/Competition/Careers_analysis/open/%5BBaseline%5D_%EC%82%AC%EC%9A%A9%EC%9E%90%20%EA%B8%B0%EB%B0%98%20%ED%98%91%EC%97%85%20%ED%95%84%ED%84%B0%EB%A7%81%28User-based%20Collaborative%20Filtering%29.ipynb#X15sZmlsZQ%3D%3D?line=4'>5</a>\u001b[0m mydict \u001b[39m=\u001b[39m {}\n\u001b[0;32m----> <a href='vscode-notebook-cell:/Users/juniverse/Desktop/pointcloud/VectorUniverse/Competition/Careers_analysis/open/%5BBaseline%5D_%EC%82%AC%EC%9A%A9%EC%9E%90%20%EA%B8%B0%EB%B0%98%20%ED%98%91%EC%97%85%20%ED%95%84%ED%84%B0%EB%A7%81%28User-based%20Collaborative%20Filtering%29.ipynb#X15sZmlsZQ%3D%3D?line=5'>6</a>\u001b[0m \u001b[39mwith\u001b[39;00m \u001b[39mopen\u001b[39;49m(\u001b[39m\"\u001b[39;49m\u001b[39mapply_train.csv\u001b[39;49m\u001b[39m\"\u001b[39;49m, \u001b[39m\"\u001b[39;49m\u001b[39mr\u001b[39;49m\u001b[39m\"\u001b[39;49m) \u001b[39mas\u001b[39;00m file:\n\u001b[1;32m      <a href='vscode-notebook-cell:/Users/juniverse/Desktop/pointcloud/VectorUniverse/Competition/Careers_analysis/open/%5BBaseline%5D_%EC%82%AC%EC%9A%A9%EC%9E%90%20%EA%B8%B0%EB%B0%98%20%ED%98%91%EC%97%85%20%ED%95%84%ED%84%B0%EB%A7%81%28User-based%20Collaborative%20Filtering%29.ipynb#X15sZmlsZQ%3D%3D?line=6'>7</a>\u001b[0m     reader \u001b[39m=\u001b[39m csv\u001b[39m.\u001b[39mreader(file)\n\u001b[1;32m      <a href='vscode-notebook-cell:/Users/juniverse/Desktop/pointcloud/VectorUniverse/Competition/Careers_analysis/open/%5BBaseline%5D_%EC%82%AC%EC%9A%A9%EC%9E%90%20%EA%B8%B0%EB%B0%98%20%ED%98%91%EC%97%85%20%ED%95%84%ED%84%B0%EB%A7%81%28User-based%20Collaborative%20Filtering%29.ipynb#X15sZmlsZQ%3D%3D?line=7'>8</a>\u001b[0m     attrs \u001b[39m=\u001b[39m []\n",
      "File \u001b[0;32m~/opt/anaconda3/envs/veda/lib/python3.8/site-packages/IPython/core/interactiveshell.py:284\u001b[0m, in \u001b[0;36m_modified_open\u001b[0;34m(file, *args, **kwargs)\u001b[0m\n\u001b[1;32m    277\u001b[0m \u001b[39mif\u001b[39;00m file \u001b[39min\u001b[39;00m {\u001b[39m0\u001b[39m, \u001b[39m1\u001b[39m, \u001b[39m2\u001b[39m}:\n\u001b[1;32m    278\u001b[0m     \u001b[39mraise\u001b[39;00m \u001b[39mValueError\u001b[39;00m(\n\u001b[1;32m    279\u001b[0m         \u001b[39mf\u001b[39m\u001b[39m\"\u001b[39m\u001b[39mIPython won\u001b[39m\u001b[39m'\u001b[39m\u001b[39mt let you open fd=\u001b[39m\u001b[39m{\u001b[39;00mfile\u001b[39m}\u001b[39;00m\u001b[39m by default \u001b[39m\u001b[39m\"\u001b[39m\n\u001b[1;32m    280\u001b[0m         \u001b[39m\"\u001b[39m\u001b[39mas it is likely to crash IPython. If you know what you are doing, \u001b[39m\u001b[39m\"\u001b[39m\n\u001b[1;32m    281\u001b[0m         \u001b[39m\"\u001b[39m\u001b[39myou can use builtins\u001b[39m\u001b[39m'\u001b[39m\u001b[39m open.\u001b[39m\u001b[39m\"\u001b[39m\n\u001b[1;32m    282\u001b[0m     )\n\u001b[0;32m--> 284\u001b[0m \u001b[39mreturn\u001b[39;00m io_open(file, \u001b[39m*\u001b[39;49margs, \u001b[39m*\u001b[39;49m\u001b[39m*\u001b[39;49mkwargs)\n",
      "\u001b[0;31mFileNotFoundError\u001b[0m: [Errno 2] No such file or directory: 'apply_train.csv'"
     ]
    }
   ],
   "source": [
    "import csv\n",
    "\n",
    "\n",
    "\n",
    "mydict = {}\n",
    "with open(\"apply_train.csv\", \"r\") as file:\n",
    "    reader = csv.reader(file)\n",
    "    attrs = []\n",
    "    result = []\n",
    "    for row in reader:\n",
    "        if len(attrs) < 1:\n",
    "            attrs = row\n",
    "            continue\n",
    "        temp_row_dict = dict()\n",
    "        for key, value in zip(attrs, row):\n",
    "            temp_row_dict[key] = value\n",
    "        result.append(temp_row_dict)\n",
    "\n",
    "\n",
    "for row in result:\n",
    "    print(row)"
   ]
  },
  {
   "cell_type": "markdown",
   "id": "f66ab440-f598-4dbe-89de-8bc863bab258",
   "metadata": {},
   "source": [
    "## Data Load"
   ]
  },
  {
   "cell_type": "code",
   "execution_count": 1,
   "id": "d9feb8a6-5717-4221-950e-893002009824",
   "metadata": {},
   "outputs": [
    {
     "ename": "NameError",
     "evalue": "name 'pd' is not defined",
     "output_type": "error",
     "traceback": [
      "\u001b[0;31m---------------------------------------------------------------------------\u001b[0m",
      "\u001b[0;31mNameError\u001b[0m                                 Traceback (most recent call last)",
      "\u001b[1;32m/Users/juniverse/Desktop/pointcloud/VectorUniverse/Competition/Careers_analysis/open/[Baseline]_사용자 기반 협업 필터링(User-based Collaborative Filtering).ipynb 셀 4\u001b[0m line \u001b[0;36m1\n\u001b[0;32m----> <a href='vscode-notebook-cell:/Users/juniverse/Desktop/pointcloud/VectorUniverse/Competition/Careers_analysis/open/%5BBaseline%5D_%EC%82%AC%EC%9A%A9%EC%9E%90%20%EA%B8%B0%EB%B0%98%20%ED%98%91%EC%97%85%20%ED%95%84%ED%84%B0%EB%A7%81%28User-based%20Collaborative%20Filtering%29.ipynb#W3sZmlsZQ%3D%3D?line=0'>1</a>\u001b[0m apply_train_df \u001b[39m=\u001b[39m pd\u001b[39m.\u001b[39mread_csv(\u001b[39m'\u001b[39m\u001b[39mapply_train.csv\u001b[39m\u001b[39m'\u001b[39m)\n\u001b[1;32m      <a href='vscode-notebook-cell:/Users/juniverse/Desktop/pointcloud/VectorUniverse/Competition/Careers_analysis/open/%5BBaseline%5D_%EC%82%AC%EC%9A%A9%EC%9E%90%20%EA%B8%B0%EB%B0%98%20%ED%98%91%EC%97%85%20%ED%95%84%ED%84%B0%EB%A7%81%28User-based%20Collaborative%20Filtering%29.ipynb#W3sZmlsZQ%3D%3D?line=1'>2</a>\u001b[0m apply_train_df\n",
      "\u001b[0;31mNameError\u001b[0m: name 'pd' is not defined"
     ]
    }
   ],
   "source": [
    "apply_train_df = pd.read_csv('apply_train.csv')\n",
    "apply_train_df"
   ]
  },
  {
   "cell_type": "code",
   "execution_count": 16,
   "id": "31639d21",
   "metadata": {},
   "outputs": [
    {
     "data": {
      "text/html": [
       "<div>\n",
       "<style scoped>\n",
       "    .dataframe tbody tr th:only-of-type {\n",
       "        vertical-align: middle;\n",
       "    }\n",
       "\n",
       "    .dataframe tbody tr th {\n",
       "        vertical-align: top;\n",
       "    }\n",
       "\n",
       "    .dataframe thead th {\n",
       "        text-align: right;\n",
       "    }\n",
       "</style>\n",
       "<table border=\"1\" class=\"dataframe\">\n",
       "  <thead>\n",
       "    <tr style=\"text-align: right;\">\n",
       "      <th></th>\n",
       "      <th>0</th>\n",
       "      <th>1</th>\n",
       "      <th>2</th>\n",
       "    </tr>\n",
       "  </thead>\n",
       "  <tbody>\n",
       "    <tr>\n",
       "      <th>0</th>\n",
       "      <td>1</td>\n",
       "      <td>2</td>\n",
       "      <td>3</td>\n",
       "    </tr>\n",
       "    <tr>\n",
       "      <th>1</th>\n",
       "      <td>4</td>\n",
       "      <td>5</td>\n",
       "      <td>6</td>\n",
       "    </tr>\n",
       "  </tbody>\n",
       "</table>\n",
       "</div>"
      ],
      "text/plain": [
       "   0  1  2\n",
       "0  1  2  3\n",
       "1  4  5  6"
      ]
     },
     "metadata": {},
     "output_type": "display_data"
    },
    {
     "data": {
      "text/html": [
       "<div>\n",
       "<style scoped>\n",
       "    .dataframe tbody tr th:only-of-type {\n",
       "        vertical-align: middle;\n",
       "    }\n",
       "\n",
       "    .dataframe tbody tr th {\n",
       "        vertical-align: top;\n",
       "    }\n",
       "\n",
       "    .dataframe thead th {\n",
       "        text-align: right;\n",
       "    }\n",
       "</style>\n",
       "<table border=\"1\" class=\"dataframe\">\n",
       "  <thead>\n",
       "    <tr style=\"text-align: right;\">\n",
       "      <th></th>\n",
       "      <th>a</th>\n",
       "      <th>b</th>\n",
       "      <th>c</th>\n",
       "    </tr>\n",
       "  </thead>\n",
       "  <tbody>\n",
       "    <tr>\n",
       "      <th>0</th>\n",
       "      <td>1</td>\n",
       "      <td>1</td>\n",
       "      <td>2</td>\n",
       "    </tr>\n",
       "    <tr>\n",
       "      <th>1</th>\n",
       "      <td>3</td>\n",
       "      <td>2</td>\n",
       "      <td>4</td>\n",
       "    </tr>\n",
       "  </tbody>\n",
       "</table>\n",
       "</div>"
      ],
      "text/plain": [
       "   a  b  c\n",
       "0  1  1  2\n",
       "1  3  2  4"
      ]
     },
     "metadata": {},
     "output_type": "display_data"
    }
   ],
   "source": [
    "my_2darray = np.array([[1, 2, 3], [4, 5, 6]])\n",
    "display(pd.DataFrame(my_2darray))\n",
    "\n",
    "# Take a dictionary as input to your DataFrame \n",
    "my_dict = {\"a\": ['1', '3'], \"b\": ['1', '2'], \"c\": ['2', '4']}\n",
    "display(pd.DataFrame(my_dict))"
   ]
  },
  {
   "cell_type": "markdown",
   "id": "40ed2463-79c1-462e-835e-eed30beee9b9",
   "metadata": {},
   "source": [
    "## User-Item Matrix / Similarity / Score"
   ]
  },
  {
   "cell_type": "code",
   "execution_count": 13,
   "id": "d70bbbf1-ccbe-41d2-a44e-572be670f7b3",
   "metadata": {},
   "outputs": [
    {
     "name": "stdout",
     "output_type": "stream",
     "text": [
      "(8482, 6695)\n"
     ]
    }
   ],
   "source": [
    "# 사용자-아이템 행렬 생성: 구직자가 해당 채용 공고에 지원했으면 1, 아니면 0으로 설정\n",
    "user_item_matrix = apply_train_df.groupby(['resume_seq', 'recruitment_seq']).size().unstack(fill_value=0)\n",
    "user_item_matrix[user_item_matrix > 1] = 1\n",
    "\n",
    "print(user_item_matrix.shape)\n",
    "# 사용자 간의 유사성 계산\n",
    "user_similarity = cosine_similarity(user_item_matrix)\n",
    "\n",
    "# 추천 점수 계산\n",
    "user_predicted_scores = user_similarity.dot(user_item_matrix) / np.array([np.abs(user_similarity).sum(axis=1)]).T"
   ]
  },
  {
   "cell_type": "markdown",
   "id": "d26354ac-e4d1-45c8-9989-959ded47a495",
   "metadata": {},
   "source": [
    "## Prediction"
   ]
  },
  {
   "cell_type": "code",
   "execution_count": 4,
   "id": "d06ab32b-8d6f-4e60-b9ba-128fed459309",
   "metadata": {},
   "outputs": [],
   "source": [
    "# 이미 지원한 채용 공고 제외하고 추천\n",
    "recommendations = []\n",
    "for idx, user in enumerate(user_item_matrix.index):\n",
    "    # 해당 사용자가 지원한 채용 공고\n",
    "    applied_jobs = set(user_item_matrix.loc[user][user_item_matrix.loc[user] == 1].index)\n",
    "    \n",
    "    # 해당 사용자의 추천 점수 (높은 점수부터 정렬)\n",
    "    sorted_job_indices = user_predicted_scores[idx].argsort()[::-1]\n",
    "    recommended_jobs = [job for job in user_item_matrix.columns[sorted_job_indices] if job not in applied_jobs][:5]\n",
    "    \n",
    "    for job in recommended_jobs:\n",
    "        recommendations.append([user, job])"
   ]
  },
  {
   "cell_type": "markdown",
   "id": "40aa5ec7-6604-491f-973f-cd2c596cea32",
   "metadata": {},
   "source": [
    "## Submission"
   ]
  },
  {
   "cell_type": "code",
   "execution_count": 5,
   "id": "bb643208-457b-4a4f-a8f4-c74277338e05",
   "metadata": {},
   "outputs": [],
   "source": [
    "    # sample_submission.csv 형태로 DataFrame 생성\n",
    "top_recommendations = pd.DataFrame(recommendations, columns=['resume_seq', 'recruitment_seq'])\n",
    "\n",
    "top_recommendations.to_csv('./baseline_submit.csv', index=False)"
   ]
  },
  {
   "cell_type": "code",
   "execution_count": null,
   "id": "258d2915",
   "metadata": {},
   "outputs": [],
   "source": []
  }
 ],
 "metadata": {
  "kernelspec": {
   "display_name": "PyTorch 1.14 (NGC 22.12/Python 3.8) on Backend.AI",
   "language": "python",
   "name": "python3"
  },
  "language_info": {
   "codemirror_mode": {
    "name": "ipython",
    "version": 3
   },
   "file_extension": ".py",
   "mimetype": "text/x-python",
   "name": "python",
   "nbconvert_exporter": "python",
   "pygments_lexer": "ipython3",
   "version": "3.8.17"
  }
 },
 "nbformat": 4,
 "nbformat_minor": 5
}
