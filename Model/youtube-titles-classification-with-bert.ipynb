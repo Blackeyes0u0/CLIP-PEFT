{
 "cells": [
  {
   "cell_type": "markdown",
   "id": "6705d2c1",
   "metadata": {
    "cellId": "i2dytscqb3uisjpg05l1r",
    "papermill": {
     "duration": 0.024387,
     "end_time": "2022-05-17T15:02:18.737447",
     "exception": false,
     "start_time": "2022-05-17T15:02:18.713060",
     "status": "completed"
    },
    "tags": []
   },
   "source": [
    "I could reach 0.77 accuracy; further manipulation with hyperparameters does not lead to anything in particular. <br />\n",
    "For some reason kaggle cannot download the bert model from hugging face, so if you want to test it, you better do it in google colaboratory or on your machine"
   ]
  },
  {
   "cell_type": "markdown",
   "id": "9035489a",
   "metadata": {
    "cellId": "dx6do92o0vkprz11mhlixn",
    "papermill": {
     "duration": 0.022684,
     "end_time": "2022-05-17T15:02:18.783208",
     "exception": false,
     "start_time": "2022-05-17T15:02:18.760524",
     "status": "completed"
    },
    "tags": []
   },
   "source": [
    "## Imports"
   ]
  },
  {
   "cell_type": "code",
   "execution_count": 1,
   "id": "37683dd5",
   "metadata": {
    "cellId": "i8e7yxq42teaaas1a6is5",
    "execution": {
     "iopub.execute_input": "2022-05-17T15:02:18.839114Z",
     "iopub.status.busy": "2022-05-17T15:02:18.838487Z",
     "iopub.status.idle": "2022-05-17T15:02:27.200626Z",
     "shell.execute_reply": "2022-05-17T15:02:27.199323Z"
    },
    "papermill": {
     "duration": 8.397411,
     "end_time": "2022-05-17T15:02:27.204267",
     "exception": false,
     "start_time": "2022-05-17T15:02:18.806856",
     "status": "completed"
    },
    "tags": []
   },
   "outputs": [
    {
     "name": "stderr",
     "output_type": "stream",
     "text": [
      "/Users/juniverse/opt/anaconda3/envs/veda/lib/python3.8/site-packages/tqdm/auto.py:21: TqdmWarning: IProgress not found. Please update jupyter and ipywidgets. See https://ipywidgets.readthedocs.io/en/stable/user_install.html\n",
      "  from .autonotebook import tqdm as notebook_tqdm\n"
     ]
    },
    {
     "name": "stdout",
     "output_type": "stream",
     "text": [
      "No GPU available, using the CPU instead.\n"
     ]
    }
   ],
   "source": [
    "#!g1.1\n",
    "import pandas as pd\n",
    "import numpy as np\n",
    "import torch, transformers, time, datetime, random\n",
    "\n",
    "from transformers import BertTokenizer, BertForSequenceClassification, AdamW, BertConfig, get_linear_schedule_with_warmup\n",
    "from torch.utils.data import TensorDataset, random_split, DataLoader, RandomSampler, SequentialSampler\n",
    "\n",
    "if torch.cuda.is_available():    \n",
    "    device = torch.device(\"cuda\")\n",
    "    print('There are %d GPU(s) available.' % torch.cuda.device_count())\n",
    "    print('We will use the GPU:', torch.cuda.get_device_name(0))\n",
    "else:\n",
    "    print('No GPU available, using the CPU instead.')\n",
    "    device = torch.device(\"cpu\")"
   ]
  },
  {
   "cell_type": "markdown",
   "id": "5aac0be8",
   "metadata": {
    "cellId": "0igo6uj5b3c58uhn82vbp29",
    "papermill": {
     "duration": 0.022932,
     "end_time": "2022-05-17T15:02:27.252070",
     "exception": false,
     "start_time": "2022-05-17T15:02:27.229138",
     "status": "completed"
    },
    "tags": []
   },
   "source": [
    "## Prepare data"
   ]
  },
  {
   "cell_type": "code",
   "execution_count": 3,
   "id": "d07f8acb",
   "metadata": {
    "cellId": "haymj7hrfg8n8muuqkcv1",
    "execution": {
     "iopub.execute_input": "2022-05-17T15:02:27.301523Z",
     "iopub.status.busy": "2022-05-17T15:02:27.300562Z",
     "iopub.status.idle": "2022-05-17T15:02:27.334217Z",
     "shell.execute_reply": "2022-05-17T15:02:27.333369Z"
    },
    "papermill": {
     "duration": 0.061462,
     "end_time": "2022-05-17T15:02:27.337064",
     "exception": false,
     "start_time": "2022-05-17T15:02:27.275602",
     "status": "completed"
    },
    "tags": []
   },
   "outputs": [],
   "source": [
    "# data = pd.read_csv('../Data/Youtube_thumbnails/metadata.csv')\n",
    "data = pd.read_csv('/Users/juniverse/Desktop/pointcloud/VectorUniverse/Data/Youtube_thumbnails/metadata.csv')"
   ]
  },
  {
   "cell_type": "code",
   "execution_count": 10,
   "id": "038f82b7",
   "metadata": {},
   "outputs": [
    {
     "data": {
      "text/html": [
       "<div>\n",
       "<style scoped>\n",
       "    .dataframe tbody tr th:only-of-type {\n",
       "        vertical-align: middle;\n",
       "    }\n",
       "\n",
       "    .dataframe tbody tr th {\n",
       "        vertical-align: top;\n",
       "    }\n",
       "\n",
       "    .dataframe thead th {\n",
       "        text-align: right;\n",
       "    }\n",
       "</style>\n",
       "<table border=\"1\" class=\"dataframe\">\n",
       "  <thead>\n",
       "    <tr style=\"text-align: right;\">\n",
       "      <th></th>\n",
       "      <th>Id</th>\n",
       "      <th>Channel</th>\n",
       "      <th>Category</th>\n",
       "      <th>Title</th>\n",
       "    </tr>\n",
       "  </thead>\n",
       "  <tbody>\n",
       "    <tr>\n",
       "      <th>2513</th>\n",
       "      <td>DUg2SWWK18I</td>\n",
       "      <td>Web Dev Simplified</td>\n",
       "      <td>Tech</td>\n",
       "      <td>MVC Explained in 4 Minutes</td>\n",
       "    </tr>\n",
       "    <tr>\n",
       "      <th>2514</th>\n",
       "      <td>EumXak7TyQ0</td>\n",
       "      <td>Web Dev Simplified</td>\n",
       "      <td>Tech</td>\n",
       "      <td>Why I Don't Use Else When Programming</td>\n",
       "    </tr>\n",
       "  </tbody>\n",
       "</table>\n",
       "</div>"
      ],
      "text/plain": [
       "               Id             Channel Category  \\\n",
       "2513  DUg2SWWK18I  Web Dev Simplified     Tech   \n",
       "2514  EumXak7TyQ0  Web Dev Simplified     Tech   \n",
       "\n",
       "                                      Title  \n",
       "2513             MVC Explained in 4 Minutes  \n",
       "2514  Why I Don't Use Else When Programming  "
      ]
     },
     "execution_count": 10,
     "metadata": {},
     "output_type": "execute_result"
    }
   ],
   "source": [
    "data.tail(2)"
   ]
  },
  {
   "cell_type": "code",
   "execution_count": 4,
   "id": "0b5d6542",
   "metadata": {
    "cellId": "h3z8dvnl3ujpkr1tvf6kkf",
    "execution": {
     "iopub.execute_input": "2022-05-17T15:02:27.395013Z",
     "iopub.status.busy": "2022-05-17T15:02:27.394351Z",
     "iopub.status.idle": "2022-05-17T15:02:27.409895Z",
     "shell.execute_reply": "2022-05-17T15:02:27.408681Z"
    },
    "papermill": {
     "duration": 0.043751,
     "end_time": "2022-05-17T15:02:27.413121",
     "exception": false,
     "start_time": "2022-05-17T15:02:27.369370",
     "status": "completed"
    },
    "tags": []
   },
   "outputs": [
    {
     "name": "stdout",
     "output_type": "stream",
     "text": [
      "{'Science': 0, 'News': 1, 'Food': 2, 'Blog': 3, 'Tech': 4, 'Informative': 5, 'Comedy,Entertainment': 6, 'Entertainment': 7, 'Automobile': 8, 'Tech,Informative': 9, 'Automobile,Comedy': 10, 'VideoGames': 11, 'Food,Entertainment': 12, 'Blog,Comedy': 13, 'Comedy,Informative': 14, 'Tech,Comedy': 15, 'Comedy': 16, 'Blog,Science': 17, 'Blog,Entertainment': 18, 'Entertainment,Comedy': 19, 'Tech,News': 20, 'Entertainment,Blog': 21}\n"
     ]
    }
   ],
   "source": [
    "cat_map = {}\n",
    "cat_list = data[\"Category\"].unique().tolist()\n",
    "for i in range(len(cat_list)):\n",
    "    cat_map[cat_list[i]] = i\n",
    "\n",
    "print(cat_map)"
   ]
  },
  {
   "cell_type": "code",
   "execution_count": 12,
   "id": "0ce45825",
   "metadata": {
    "cellId": "c677o3dcgk66hl55duftln",
    "execution": {
     "iopub.execute_input": "2022-05-17T15:02:27.464470Z",
     "iopub.status.busy": "2022-05-17T15:02:27.463812Z",
     "iopub.status.idle": "2022-05-17T15:02:27.481163Z",
     "shell.execute_reply": "2022-05-17T15:02:27.480322Z"
    },
    "papermill": {
     "duration": 0.045268,
     "end_time": "2022-05-17T15:02:27.483352",
     "exception": false,
     "start_time": "2022-05-17T15:02:27.438084",
     "status": "completed"
    },
    "tags": []
   },
   "outputs": [
    {
     "data": {
      "text/plain": [
       "0       0\n",
       "1       0\n",
       "2       0\n",
       "3       0\n",
       "4       0\n",
       "       ..\n",
       "2510    4\n",
       "2511    4\n",
       "2512    4\n",
       "2513    4\n",
       "2514    4\n",
       "Name: cat_code, Length: 2515, dtype: int64"
      ]
     },
     "execution_count": 12,
     "metadata": {},
     "output_type": "execute_result"
    }
   ],
   "source": [
    "data[\"cat_code\"] = data[\"Category\"].apply(lambda x: cat_map[x])\n",
    "\n",
    "data.cat_code"
   ]
  },
  {
   "cell_type": "code",
   "execution_count": 13,
   "id": "cdc5dd1e",
   "metadata": {
    "cellId": "d67urlu92hpf9xxnb0wa3f",
    "execution": {
     "iopub.execute_input": "2022-05-17T15:02:27.536825Z",
     "iopub.status.busy": "2022-05-17T15:02:27.536116Z",
     "iopub.status.idle": "2022-05-17T15:02:27.544998Z",
     "shell.execute_reply": "2022-05-17T15:02:27.544232Z"
    },
    "papermill": {
     "duration": 0.037498,
     "end_time": "2022-05-17T15:02:27.547034",
     "exception": false,
     "start_time": "2022-05-17T15:02:27.509536",
     "status": "completed"
    },
    "tags": []
   },
   "outputs": [
    {
     "data": {
      "text/plain": [
       "0                 The hardest problem on the hardest test\n",
       "1       But what is a Fourier series? From heat flow t...\n",
       "2                     But how does bitcoin actually work?\n",
       "3       But what is a neural network? | Chapter 1, Dee...\n",
       "4         The most unexpected answer to a counting puzzle\n",
       "                              ...                        \n",
       "2510                           JavaScript Form Validation\n",
       "2511                 Learn DOM Manipulation In 18 Minutes\n",
       "2512    Learn useState In 15 Minutes - React Hooks Exp...\n",
       "2513                           MVC Explained in 4 Minutes\n",
       "2514                Why I Don't Use Else When Programming\n",
       "Name: Title, Length: 2515, dtype: object"
      ]
     },
     "execution_count": 13,
     "metadata": {},
     "output_type": "execute_result"
    }
   ],
   "source": [
    "data.Title"
   ]
  },
  {
   "cell_type": "code",
   "execution_count": 14,
   "id": "f5434f8a",
   "metadata": {
    "cellId": "1d71xsjbbqlnhxmor7l26",
    "execution": {
     "iopub.execute_input": "2022-05-17T15:02:27.602925Z",
     "iopub.status.busy": "2022-05-17T15:02:27.602406Z",
     "iopub.status.idle": "2022-05-17T15:02:27.611339Z",
     "shell.execute_reply": "2022-05-17T15:02:27.610615Z"
    },
    "papermill": {
     "duration": 0.038917,
     "end_time": "2022-05-17T15:02:27.613366",
     "exception": false,
     "start_time": "2022-05-17T15:02:27.574449",
     "status": "completed"
    },
    "tags": []
   },
   "outputs": [
    {
     "data": {
      "text/plain": [
       "Category\n",
       "Science                 323\n",
       "Food                    281\n",
       "VideoGames              265\n",
       "Informative             218\n",
       "News                    218\n",
       "Automobile              197\n",
       "Tech                    193\n",
       "Blog                    160\n",
       "Comedy,Entertainment     88\n",
       "Entertainment,Comedy     88\n",
       "Automobile,Comedy        85\n",
       "Blog,Comedy              56\n",
       "Comedy,Informative       56\n",
       "Entertainment            55\n",
       "Comedy                   30\n",
       "Entertainment,Blog       30\n",
       "Tech,Comedy              29\n",
       "Blog,Entertainment       29\n",
       "Tech,Informative         29\n",
       "Tech,News                29\n",
       "Blog,Science             28\n",
       "Food,Entertainment       28\n",
       "Name: count, dtype: int64"
      ]
     },
     "execution_count": 14,
     "metadata": {},
     "output_type": "execute_result"
    }
   ],
   "source": [
    "data.Category.value_counts()"
   ]
  },
  {
   "cell_type": "code",
   "execution_count": 15,
   "id": "8c603e3b",
   "metadata": {
    "cellId": "irfjongz24bj5c4ulbm3a",
    "execution": {
     "iopub.execute_input": "2022-05-17T15:02:27.666783Z",
     "iopub.status.busy": "2022-05-17T15:02:27.666173Z",
     "iopub.status.idle": "2022-05-17T15:02:27.688601Z",
     "shell.execute_reply": "2022-05-17T15:02:27.687858Z"
    },
    "papermill": {
     "duration": 0.051462,
     "end_time": "2022-05-17T15:02:27.690535",
     "exception": false,
     "start_time": "2022-05-17T15:02:27.639073",
     "status": "completed"
    },
    "tags": []
   },
   "outputs": [
    {
     "data": {
      "text/html": [
       "<div>\n",
       "<style scoped>\n",
       "    .dataframe tbody tr th:only-of-type {\n",
       "        vertical-align: middle;\n",
       "    }\n",
       "\n",
       "    .dataframe tbody tr th {\n",
       "        vertical-align: top;\n",
       "    }\n",
       "\n",
       "    .dataframe thead th {\n",
       "        text-align: right;\n",
       "    }\n",
       "</style>\n",
       "<table border=\"1\" class=\"dataframe\">\n",
       "  <thead>\n",
       "    <tr style=\"text-align: right;\">\n",
       "      <th></th>\n",
       "      <th>Id</th>\n",
       "      <th>Channel</th>\n",
       "      <th>Category</th>\n",
       "      <th>Title</th>\n",
       "      <th>cat_code</th>\n",
       "    </tr>\n",
       "  </thead>\n",
       "  <tbody>\n",
       "    <tr>\n",
       "      <th>718</th>\n",
       "      <td>9vrqKAiRDcM</td>\n",
       "      <td>EpicNameBro</td>\n",
       "      <td>VideoGames</td>\n",
       "      <td>Dark Souls - Armor Guide: Special Armors</td>\n",
       "      <td>11</td>\n",
       "    </tr>\n",
       "    <tr>\n",
       "      <th>719</th>\n",
       "      <td>JyfeBHAfpZQ</td>\n",
       "      <td>EpicNameBro</td>\n",
       "      <td>VideoGames</td>\n",
       "      <td>Bloodborne with ENB - 001 - Central Yharnam</td>\n",
       "      <td>11</td>\n",
       "    </tr>\n",
       "    <tr>\n",
       "      <th>720</th>\n",
       "      <td>KUqg8XtAHnc</td>\n",
       "      <td>EpicNameBro</td>\n",
       "      <td>VideoGames</td>\n",
       "      <td>Let's Play Dark Souls 1: From the Dark part 1</td>\n",
       "      <td>11</td>\n",
       "    </tr>\n",
       "    <tr>\n",
       "      <th>721</th>\n",
       "      <td>QrdwpKzNge0</td>\n",
       "      <td>EpicNameBro</td>\n",
       "      <td>VideoGames</td>\n",
       "      <td>Bloodborne with ENB - 003 - Iosefka Dialogue, ...</td>\n",
       "      <td>11</td>\n",
       "    </tr>\n",
       "    <tr>\n",
       "      <th>722</th>\n",
       "      <td>A4g2pdjxnY8</td>\n",
       "      <td>EpicNameBro</td>\n",
       "      <td>VideoGames</td>\n",
       "      <td>Dark Souls - Armor Guide: Light Sets 1/2</td>\n",
       "      <td>11</td>\n",
       "    </tr>\n",
       "    <tr>\n",
       "      <th>...</th>\n",
       "      <td>...</td>\n",
       "      <td>...</td>\n",
       "      <td>...</td>\n",
       "      <td>...</td>\n",
       "      <td>...</td>\n",
       "    </tr>\n",
       "    <tr>\n",
       "      <th>2428</th>\n",
       "      <td>dDagv6SA8nw</td>\n",
       "      <td>videogamedunkey</td>\n",
       "      <td>VideoGames</td>\n",
       "      <td>Knack 2 (dunkview)</td>\n",
       "      <td>11</td>\n",
       "    </tr>\n",
       "    <tr>\n",
       "      <th>2429</th>\n",
       "      <td>CCkPhYiKbJU</td>\n",
       "      <td>videogamedunkey</td>\n",
       "      <td>VideoGames</td>\n",
       "      <td>Old Dunkey and Cuphead</td>\n",
       "      <td>11</td>\n",
       "    </tr>\n",
       "    <tr>\n",
       "      <th>2430</th>\n",
       "      <td>6rjYXEYpuDo</td>\n",
       "      <td>videogamedunkey</td>\n",
       "      <td>VideoGames</td>\n",
       "      <td>Assassin's Creed : EA Origins</td>\n",
       "      <td>11</td>\n",
       "    </tr>\n",
       "    <tr>\n",
       "      <th>2431</th>\n",
       "      <td>pMPomCWUraQ</td>\n",
       "      <td>videogamedunkey</td>\n",
       "      <td>VideoGames</td>\n",
       "      <td>Metal Gear Dies</td>\n",
       "      <td>11</td>\n",
       "    </tr>\n",
       "    <tr>\n",
       "      <th>2432</th>\n",
       "      <td>_8Nb_zgWZZ4</td>\n",
       "      <td>videogamedunkey</td>\n",
       "      <td>VideoGames</td>\n",
       "      <td>CS GO : Source</td>\n",
       "      <td>11</td>\n",
       "    </tr>\n",
       "  </tbody>\n",
       "</table>\n",
       "<p>265 rows × 5 columns</p>\n",
       "</div>"
      ],
      "text/plain": [
       "               Id          Channel    Category  \\\n",
       "718   9vrqKAiRDcM      EpicNameBro  VideoGames   \n",
       "719   JyfeBHAfpZQ      EpicNameBro  VideoGames   \n",
       "720   KUqg8XtAHnc      EpicNameBro  VideoGames   \n",
       "721   QrdwpKzNge0      EpicNameBro  VideoGames   \n",
       "722   A4g2pdjxnY8      EpicNameBro  VideoGames   \n",
       "...           ...              ...         ...   \n",
       "2428  dDagv6SA8nw  videogamedunkey  VideoGames   \n",
       "2429  CCkPhYiKbJU  videogamedunkey  VideoGames   \n",
       "2430  6rjYXEYpuDo  videogamedunkey  VideoGames   \n",
       "2431  pMPomCWUraQ  videogamedunkey  VideoGames   \n",
       "2432  _8Nb_zgWZZ4  videogamedunkey  VideoGames   \n",
       "\n",
       "                                                  Title  cat_code  \n",
       "718            Dark Souls - Armor Guide: Special Armors        11  \n",
       "719         Bloodborne with ENB - 001 - Central Yharnam        11  \n",
       "720       Let's Play Dark Souls 1: From the Dark part 1        11  \n",
       "721   Bloodborne with ENB - 003 - Iosefka Dialogue, ...        11  \n",
       "722            Dark Souls - Armor Guide: Light Sets 1/2        11  \n",
       "...                                                 ...       ...  \n",
       "2428                                 Knack 2 (dunkview)        11  \n",
       "2429                             Old Dunkey and Cuphead        11  \n",
       "2430                      Assassin's Creed : EA Origins        11  \n",
       "2431                                    Metal Gear Dies        11  \n",
       "2432                                     CS GO : Source        11  \n",
       "\n",
       "[265 rows x 5 columns]"
      ]
     },
     "execution_count": 15,
     "metadata": {},
     "output_type": "execute_result"
    }
   ],
   "source": [
    "data[data[\"Category\"] == \"VideoGames\"]"
   ]
  },
  {
   "cell_type": "code",
   "execution_count": 27,
   "id": "10cc182f",
   "metadata": {
    "cellId": "he6jl4u8hwotphbuluaq4g",
    "execution": {
     "iopub.execute_input": "2022-05-17T15:02:27.746061Z",
     "iopub.status.busy": "2022-05-17T15:02:27.745397Z",
     "iopub.status.idle": "2022-05-17T15:02:27.766983Z",
     "shell.execute_reply": "2022-05-17T15:02:27.766335Z"
    },
    "papermill": {
     "duration": 0.052177,
     "end_time": "2022-05-17T15:02:27.769419",
     "exception": false,
     "start_time": "2022-05-17T15:02:27.717242",
     "status": "completed"
    },
    "tags": []
   },
   "outputs": [],
   "source": [
    "X = data.Title.apply(lambda x: ''.join([i for i in x if not i.isdigit()])).tolist() # no numbers\n",
    "y = data.cat_code.tolist()"
   ]
  },
  {
   "cell_type": "code",
   "execution_count": 30,
   "id": "8321ecac",
   "metadata": {},
   "outputs": [
    {
     "name": "stdout",
     "output_type": "stream",
     "text": [
      "yes\n",
      "no\n",
      "yes\n",
      "no\n",
      "yes\n",
      "yes\n",
      "yes\n",
      "yes\n",
      "yes\n",
      "no\n"
     ]
    }
   ],
   "source": [
    "testxxx = list(data.Title)\n",
    "for i in range(10): \n",
    "    if X[i]==testxxx[i]:\n",
    "        print('yes')\n",
    "    else:\n",
    "        print('no')\n",
    "        # print(X[i])\n",
    "        # print()\n",
    "        # print(list(testxxx)[i])\n"
   ]
  },
  {
   "cell_type": "code",
   "execution_count": 31,
   "id": "a6aedb11",
   "metadata": {
    "cellId": "3od775rax18yiefu1vyu9g",
    "execution": {
     "iopub.execute_input": "2022-05-17T15:02:27.824683Z",
     "iopub.status.busy": "2022-05-17T15:02:27.824138Z",
     "iopub.status.idle": "2022-05-17T15:03:48.237312Z",
     "shell.execute_reply": "2022-05-17T15:03:48.236035Z"
    },
    "papermill": {
     "duration": 80.47102,
     "end_time": "2022-05-17T15:03:48.267133",
     "exception": true,
     "start_time": "2022-05-17T15:02:27.796113",
     "status": "failed"
    },
    "tags": []
   },
   "outputs": [
    {
     "name": "stdout",
     "output_type": "stream",
     "text": [
      "Loading BERT tokenizer...\n"
     ]
    },
    {
     "name": "stderr",
     "output_type": "stream",
     "text": [
      "Downloading (…)solve/main/vocab.txt: 100%|██████████| 232k/232k [00:00<00:00, 810kB/s]\n",
      "Downloading (…)okenizer_config.json: 100%|██████████| 28.0/28.0 [00:00<00:00, 11.0kB/s]\n",
      "Downloading (…)lve/main/config.json: 100%|██████████| 570/570 [00:00<00:00, 405kB/s]\n"
     ]
    }
   ],
   "source": [
    "#!g1.1\n",
    "print('Loading BERT tokenizer...')\n",
    "tokenizer = BertTokenizer.from_pretrained('bert-base-uncased')"
   ]
  },
  {
   "cell_type": "code",
   "execution_count": 53,
   "id": "43c03a01",
   "metadata": {
    "cellId": "gy2g9o1ksuntbnrb47dyur",
    "papermill": {
     "duration": null,
     "end_time": null,
     "exception": null,
     "start_time": null,
     "status": "pending"
    },
    "tags": []
   },
   "outputs": [],
   "source": [
    "#!g1.1\n",
    "encoded_dict = tokenizer(\n",
    "                    X,\n",
    "                    add_special_tokens=True,\n",
    "                    max_length=64,\n",
    "                    truncation=True,\n",
    "                    padding=True,\n",
    "                    return_tensors='pt'\n",
    "               )\n",
    "\n",
    "input_ids = [encoded_dict['input_ids']]\n",
    "attention_masks = [encoded_dict['attention_mask']]\n",
    "\n",
    "input_ids = torch.cat(input_ids, dim=0)\n",
    "attention_masks = torch.cat(attention_masks, dim=0)\n",
    "labels = torch.tensor(y)"
   ]
  },
  {
   "cell_type": "code",
   "execution_count": 57,
   "id": "31c23884",
   "metadata": {},
   "outputs": [
    {
     "data": {
      "text/plain": [
       "{'input_ids': tensor([[  101,  1996, 18263,  ...,     0,     0,     0],\n",
       "        [  101,  2021,  2054,  ...,     0,     0,     0],\n",
       "        [  101,  2021,  2129,  ...,     0,     0,     0],\n",
       "        ...,\n",
       "        [  101,  4553,  3594,  ...,     0,     0,     0],\n",
       "        [  101, 19842,  2278,  ...,     0,     0,     0],\n",
       "        [  101,  2339,  1045,  ...,     0,     0,     0]]), 'token_type_ids': tensor([[0, 0, 0,  ..., 0, 0, 0],\n",
       "        [0, 0, 0,  ..., 0, 0, 0],\n",
       "        [0, 0, 0,  ..., 0, 0, 0],\n",
       "        ...,\n",
       "        [0, 0, 0,  ..., 0, 0, 0],\n",
       "        [0, 0, 0,  ..., 0, 0, 0],\n",
       "        [0, 0, 0,  ..., 0, 0, 0]]), 'attention_mask': tensor([[1, 1, 1,  ..., 0, 0, 0],\n",
       "        [1, 1, 1,  ..., 0, 0, 0],\n",
       "        [1, 1, 1,  ..., 0, 0, 0],\n",
       "        ...,\n",
       "        [1, 1, 1,  ..., 0, 0, 0],\n",
       "        [1, 1, 1,  ..., 0, 0, 0],\n",
       "        [1, 1, 1,  ..., 0, 0, 0]])}"
      ]
     },
     "execution_count": 57,
     "metadata": {},
     "output_type": "execute_result"
    }
   ],
   "source": [
    "encoded_dict"
   ]
  },
  {
   "cell_type": "code",
   "execution_count": 55,
   "id": "09c6b80d",
   "metadata": {
    "cellId": "ngq6hrcnnhairxrcmgxmt",
    "papermill": {
     "duration": null,
     "end_time": null,
     "exception": null,
     "start_time": null,
     "status": "pending"
    },
    "tags": []
   },
   "outputs": [
    {
     "data": {
      "text/plain": [
       "(torch.Size([2515, 29]), torch.Size([2515, 29]), torch.Size([2515]))"
      ]
     },
     "execution_count": 55,
     "metadata": {},
     "output_type": "execute_result"
    }
   ],
   "source": [
    "input_ids.size(), attention_masks.size(), labels.size()"
   ]
  },
  {
   "cell_type": "code",
   "execution_count": 58,
   "id": "53234666",
   "metadata": {
    "cellId": "rf2k7330zlqgdwmvfcwh8h",
    "papermill": {
     "duration": null,
     "end_time": null,
     "exception": null,
     "start_time": null,
     "status": "pending"
    },
    "tags": []
   },
   "outputs": [
    {
     "name": "stdout",
     "output_type": "stream",
     "text": [
      "2,012 training samples\n",
      "  503 validation samples\n"
     ]
    }
   ],
   "source": [
    "#!g1.1\n",
    "dataset = TensorDataset(input_ids, attention_masks, labels)\n",
    "\n",
    "train_size = int(0.8 * len(dataset)) # 0.67\n",
    "val_size = len(dataset) - train_size\n",
    "\n",
    "train_dataset, val_dataset = random_split(dataset, [train_size, val_size])\n",
    "\n",
    "print('{:>5,} training samples'.format(train_size))\n",
    "print('{:>5,} validation samples'.format(val_size))"
   ]
  },
  {
   "cell_type": "code",
   "execution_count": 69,
   "id": "9ec32536",
   "metadata": {},
   "outputs": [
    {
     "name": "stdout",
     "output_type": "stream",
     "text": [
      "torch.Size([29]) torch.Size([29]) tensor(0)\n"
     ]
    }
   ],
   "source": [
    "for x,y,c in dataset:\n",
    "    print(x.shape,y.shape,c)\n",
    "    break"
   ]
  },
  {
   "cell_type": "code",
   "execution_count": 71,
   "id": "f5bfd165",
   "metadata": {
    "cellId": "gx9ajrajk8p8igkr9241gu",
    "papermill": {
     "duration": null,
     "end_time": null,
     "exception": null,
     "start_time": null,
     "status": "pending"
    },
    "tags": []
   },
   "outputs": [],
   "source": [
    "#!g1.1\n",
    "batch_size = 16 # 4 - 32\n",
    "\n",
    "train_dataloader = DataLoader(\n",
    "            train_dataset,\n",
    "            sampler = RandomSampler(train_dataset),\n",
    "            batch_size = batch_size\n",
    "        )\n",
    "\n",
    "validation_dataloader = DataLoader(\n",
    "            val_dataset,\n",
    "            sampler = SequentialSampler(val_dataset),\n",
    "            batch_size = batch_size\n",
    "        )"
   ]
  },
  {
   "cell_type": "markdown",
   "id": "e3142524",
   "metadata": {
    "cellId": "r2nmza9lc3dpxf5chix1qf",
    "papermill": {
     "duration": null,
     "end_time": null,
     "exception": null,
     "start_time": null,
     "status": "pending"
    },
    "tags": []
   },
   "source": [
    "## Prepare model"
   ]
  },
  {
   "cell_type": "code",
   "execution_count": 72,
   "id": "61b3b1a6",
   "metadata": {
    "cellId": "xpdyecun54akgu7ue33gne",
    "papermill": {
     "duration": null,
     "end_time": null,
     "exception": null,
     "start_time": null,
     "status": "pending"
    },
    "tags": []
   },
   "outputs": [
    {
     "name": "stderr",
     "output_type": "stream",
     "text": [
      "Downloading model.safetensors: 100%|██████████| 440M/440M [00:13<00:00, 33.9MB/s] \n",
      "Some weights of BertForSequenceClassification were not initialized from the model checkpoint at bert-base-uncased and are newly initialized: ['classifier.bias', 'classifier.weight']\n",
      "You should probably TRAIN this model on a down-stream task to be able to use it for predictions and inference.\n"
     ]
    },
    {
     "data": {
      "text/plain": [
       "BertForSequenceClassification(\n",
       "  (bert): BertModel(\n",
       "    (embeddings): BertEmbeddings(\n",
       "      (word_embeddings): Embedding(30522, 768, padding_idx=0)\n",
       "      (position_embeddings): Embedding(512, 768)\n",
       "      (token_type_embeddings): Embedding(2, 768)\n",
       "      (LayerNorm): LayerNorm((768,), eps=1e-12, elementwise_affine=True)\n",
       "      (dropout): Dropout(p=0.1, inplace=False)\n",
       "    )\n",
       "    (encoder): BertEncoder(\n",
       "      (layer): ModuleList(\n",
       "        (0): BertLayer(\n",
       "          (attention): BertAttention(\n",
       "            (self): BertSelfAttention(\n",
       "              (query): Linear(in_features=768, out_features=768, bias=True)\n",
       "              (key): Linear(in_features=768, out_features=768, bias=True)\n",
       "              (value): Linear(in_features=768, out_features=768, bias=True)\n",
       "              (dropout): Dropout(p=0.1, inplace=False)\n",
       "            )\n",
       "            (output): BertSelfOutput(\n",
       "              (dense): Linear(in_features=768, out_features=768, bias=True)\n",
       "              (LayerNorm): LayerNorm((768,), eps=1e-12, elementwise_affine=True)\n",
       "              (dropout): Dropout(p=0.1, inplace=False)\n",
       "            )\n",
       "          )\n",
       "          (intermediate): BertIntermediate(\n",
       "            (dense): Linear(in_features=768, out_features=3072, bias=True)\n",
       "            (intermediate_act_fn): GELUActivation()\n",
       "          )\n",
       "          (output): BertOutput(\n",
       "            (dense): Linear(in_features=3072, out_features=768, bias=True)\n",
       "            (LayerNorm): LayerNorm((768,), eps=1e-12, elementwise_affine=True)\n",
       "            (dropout): Dropout(p=0.1, inplace=False)\n",
       "          )\n",
       "        )\n",
       "        (1): BertLayer(\n",
       "          (attention): BertAttention(\n",
       "            (self): BertSelfAttention(\n",
       "              (query): Linear(in_features=768, out_features=768, bias=True)\n",
       "              (key): Linear(in_features=768, out_features=768, bias=True)\n",
       "              (value): Linear(in_features=768, out_features=768, bias=True)\n",
       "              (dropout): Dropout(p=0.1, inplace=False)\n",
       "            )\n",
       "            (output): BertSelfOutput(\n",
       "              (dense): Linear(in_features=768, out_features=768, bias=True)\n",
       "              (LayerNorm): LayerNorm((768,), eps=1e-12, elementwise_affine=True)\n",
       "              (dropout): Dropout(p=0.1, inplace=False)\n",
       "            )\n",
       "          )\n",
       "          (intermediate): BertIntermediate(\n",
       "            (dense): Linear(in_features=768, out_features=3072, bias=True)\n",
       "            (intermediate_act_fn): GELUActivation()\n",
       "          )\n",
       "          (output): BertOutput(\n",
       "            (dense): Linear(in_features=3072, out_features=768, bias=True)\n",
       "            (LayerNorm): LayerNorm((768,), eps=1e-12, elementwise_affine=True)\n",
       "            (dropout): Dropout(p=0.1, inplace=False)\n",
       "          )\n",
       "        )\n",
       "        (2): BertLayer(\n",
       "          (attention): BertAttention(\n",
       "            (self): BertSelfAttention(\n",
       "              (query): Linear(in_features=768, out_features=768, bias=True)\n",
       "              (key): Linear(in_features=768, out_features=768, bias=True)\n",
       "              (value): Linear(in_features=768, out_features=768, bias=True)\n",
       "              (dropout): Dropout(p=0.1, inplace=False)\n",
       "            )\n",
       "            (output): BertSelfOutput(\n",
       "              (dense): Linear(in_features=768, out_features=768, bias=True)\n",
       "              (LayerNorm): LayerNorm((768,), eps=1e-12, elementwise_affine=True)\n",
       "              (dropout): Dropout(p=0.1, inplace=False)\n",
       "            )\n",
       "          )\n",
       "          (intermediate): BertIntermediate(\n",
       "            (dense): Linear(in_features=768, out_features=3072, bias=True)\n",
       "            (intermediate_act_fn): GELUActivation()\n",
       "          )\n",
       "          (output): BertOutput(\n",
       "            (dense): Linear(in_features=3072, out_features=768, bias=True)\n",
       "            (LayerNorm): LayerNorm((768,), eps=1e-12, elementwise_affine=True)\n",
       "            (dropout): Dropout(p=0.1, inplace=False)\n",
       "          )\n",
       "        )\n",
       "        (3): BertLayer(\n",
       "          (attention): BertAttention(\n",
       "            (self): BertSelfAttention(\n",
       "              (query): Linear(in_features=768, out_features=768, bias=True)\n",
       "              (key): Linear(in_features=768, out_features=768, bias=True)\n",
       "              (value): Linear(in_features=768, out_features=768, bias=True)\n",
       "              (dropout): Dropout(p=0.1, inplace=False)\n",
       "            )\n",
       "            (output): BertSelfOutput(\n",
       "              (dense): Linear(in_features=768, out_features=768, bias=True)\n",
       "              (LayerNorm): LayerNorm((768,), eps=1e-12, elementwise_affine=True)\n",
       "              (dropout): Dropout(p=0.1, inplace=False)\n",
       "            )\n",
       "          )\n",
       "          (intermediate): BertIntermediate(\n",
       "            (dense): Linear(in_features=768, out_features=3072, bias=True)\n",
       "            (intermediate_act_fn): GELUActivation()\n",
       "          )\n",
       "          (output): BertOutput(\n",
       "            (dense): Linear(in_features=3072, out_features=768, bias=True)\n",
       "            (LayerNorm): LayerNorm((768,), eps=1e-12, elementwise_affine=True)\n",
       "            (dropout): Dropout(p=0.1, inplace=False)\n",
       "          )\n",
       "        )\n",
       "        (4): BertLayer(\n",
       "          (attention): BertAttention(\n",
       "            (self): BertSelfAttention(\n",
       "              (query): Linear(in_features=768, out_features=768, bias=True)\n",
       "              (key): Linear(in_features=768, out_features=768, bias=True)\n",
       "              (value): Linear(in_features=768, out_features=768, bias=True)\n",
       "              (dropout): Dropout(p=0.1, inplace=False)\n",
       "            )\n",
       "            (output): BertSelfOutput(\n",
       "              (dense): Linear(in_features=768, out_features=768, bias=True)\n",
       "              (LayerNorm): LayerNorm((768,), eps=1e-12, elementwise_affine=True)\n",
       "              (dropout): Dropout(p=0.1, inplace=False)\n",
       "            )\n",
       "          )\n",
       "          (intermediate): BertIntermediate(\n",
       "            (dense): Linear(in_features=768, out_features=3072, bias=True)\n",
       "            (intermediate_act_fn): GELUActivation()\n",
       "          )\n",
       "          (output): BertOutput(\n",
       "            (dense): Linear(in_features=3072, out_features=768, bias=True)\n",
       "            (LayerNorm): LayerNorm((768,), eps=1e-12, elementwise_affine=True)\n",
       "            (dropout): Dropout(p=0.1, inplace=False)\n",
       "          )\n",
       "        )\n",
       "        (5): BertLayer(\n",
       "          (attention): BertAttention(\n",
       "            (self): BertSelfAttention(\n",
       "              (query): Linear(in_features=768, out_features=768, bias=True)\n",
       "              (key): Linear(in_features=768, out_features=768, bias=True)\n",
       "              (value): Linear(in_features=768, out_features=768, bias=True)\n",
       "              (dropout): Dropout(p=0.1, inplace=False)\n",
       "            )\n",
       "            (output): BertSelfOutput(\n",
       "              (dense): Linear(in_features=768, out_features=768, bias=True)\n",
       "              (LayerNorm): LayerNorm((768,), eps=1e-12, elementwise_affine=True)\n",
       "              (dropout): Dropout(p=0.1, inplace=False)\n",
       "            )\n",
       "          )\n",
       "          (intermediate): BertIntermediate(\n",
       "            (dense): Linear(in_features=768, out_features=3072, bias=True)\n",
       "            (intermediate_act_fn): GELUActivation()\n",
       "          )\n",
       "          (output): BertOutput(\n",
       "            (dense): Linear(in_features=3072, out_features=768, bias=True)\n",
       "            (LayerNorm): LayerNorm((768,), eps=1e-12, elementwise_affine=True)\n",
       "            (dropout): Dropout(p=0.1, inplace=False)\n",
       "          )\n",
       "        )\n",
       "        (6): BertLayer(\n",
       "          (attention): BertAttention(\n",
       "            (self): BertSelfAttention(\n",
       "              (query): Linear(in_features=768, out_features=768, bias=True)\n",
       "              (key): Linear(in_features=768, out_features=768, bias=True)\n",
       "              (value): Linear(in_features=768, out_features=768, bias=True)\n",
       "              (dropout): Dropout(p=0.1, inplace=False)\n",
       "            )\n",
       "            (output): BertSelfOutput(\n",
       "              (dense): Linear(in_features=768, out_features=768, bias=True)\n",
       "              (LayerNorm): LayerNorm((768,), eps=1e-12, elementwise_affine=True)\n",
       "              (dropout): Dropout(p=0.1, inplace=False)\n",
       "            )\n",
       "          )\n",
       "          (intermediate): BertIntermediate(\n",
       "            (dense): Linear(in_features=768, out_features=3072, bias=True)\n",
       "            (intermediate_act_fn): GELUActivation()\n",
       "          )\n",
       "          (output): BertOutput(\n",
       "            (dense): Linear(in_features=3072, out_features=768, bias=True)\n",
       "            (LayerNorm): LayerNorm((768,), eps=1e-12, elementwise_affine=True)\n",
       "            (dropout): Dropout(p=0.1, inplace=False)\n",
       "          )\n",
       "        )\n",
       "        (7): BertLayer(\n",
       "          (attention): BertAttention(\n",
       "            (self): BertSelfAttention(\n",
       "              (query): Linear(in_features=768, out_features=768, bias=True)\n",
       "              (key): Linear(in_features=768, out_features=768, bias=True)\n",
       "              (value): Linear(in_features=768, out_features=768, bias=True)\n",
       "              (dropout): Dropout(p=0.1, inplace=False)\n",
       "            )\n",
       "            (output): BertSelfOutput(\n",
       "              (dense): Linear(in_features=768, out_features=768, bias=True)\n",
       "              (LayerNorm): LayerNorm((768,), eps=1e-12, elementwise_affine=True)\n",
       "              (dropout): Dropout(p=0.1, inplace=False)\n",
       "            )\n",
       "          )\n",
       "          (intermediate): BertIntermediate(\n",
       "            (dense): Linear(in_features=768, out_features=3072, bias=True)\n",
       "            (intermediate_act_fn): GELUActivation()\n",
       "          )\n",
       "          (output): BertOutput(\n",
       "            (dense): Linear(in_features=3072, out_features=768, bias=True)\n",
       "            (LayerNorm): LayerNorm((768,), eps=1e-12, elementwise_affine=True)\n",
       "            (dropout): Dropout(p=0.1, inplace=False)\n",
       "          )\n",
       "        )\n",
       "        (8): BertLayer(\n",
       "          (attention): BertAttention(\n",
       "            (self): BertSelfAttention(\n",
       "              (query): Linear(in_features=768, out_features=768, bias=True)\n",
       "              (key): Linear(in_features=768, out_features=768, bias=True)\n",
       "              (value): Linear(in_features=768, out_features=768, bias=True)\n",
       "              (dropout): Dropout(p=0.1, inplace=False)\n",
       "            )\n",
       "            (output): BertSelfOutput(\n",
       "              (dense): Linear(in_features=768, out_features=768, bias=True)\n",
       "              (LayerNorm): LayerNorm((768,), eps=1e-12, elementwise_affine=True)\n",
       "              (dropout): Dropout(p=0.1, inplace=False)\n",
       "            )\n",
       "          )\n",
       "          (intermediate): BertIntermediate(\n",
       "            (dense): Linear(in_features=768, out_features=3072, bias=True)\n",
       "            (intermediate_act_fn): GELUActivation()\n",
       "          )\n",
       "          (output): BertOutput(\n",
       "            (dense): Linear(in_features=3072, out_features=768, bias=True)\n",
       "            (LayerNorm): LayerNorm((768,), eps=1e-12, elementwise_affine=True)\n",
       "            (dropout): Dropout(p=0.1, inplace=False)\n",
       "          )\n",
       "        )\n",
       "        (9): BertLayer(\n",
       "          (attention): BertAttention(\n",
       "            (self): BertSelfAttention(\n",
       "              (query): Linear(in_features=768, out_features=768, bias=True)\n",
       "              (key): Linear(in_features=768, out_features=768, bias=True)\n",
       "              (value): Linear(in_features=768, out_features=768, bias=True)\n",
       "              (dropout): Dropout(p=0.1, inplace=False)\n",
       "            )\n",
       "            (output): BertSelfOutput(\n",
       "              (dense): Linear(in_features=768, out_features=768, bias=True)\n",
       "              (LayerNorm): LayerNorm((768,), eps=1e-12, elementwise_affine=True)\n",
       "              (dropout): Dropout(p=0.1, inplace=False)\n",
       "            )\n",
       "          )\n",
       "          (intermediate): BertIntermediate(\n",
       "            (dense): Linear(in_features=768, out_features=3072, bias=True)\n",
       "            (intermediate_act_fn): GELUActivation()\n",
       "          )\n",
       "          (output): BertOutput(\n",
       "            (dense): Linear(in_features=3072, out_features=768, bias=True)\n",
       "            (LayerNorm): LayerNorm((768,), eps=1e-12, elementwise_affine=True)\n",
       "            (dropout): Dropout(p=0.1, inplace=False)\n",
       "          )\n",
       "        )\n",
       "        (10): BertLayer(\n",
       "          (attention): BertAttention(\n",
       "            (self): BertSelfAttention(\n",
       "              (query): Linear(in_features=768, out_features=768, bias=True)\n",
       "              (key): Linear(in_features=768, out_features=768, bias=True)\n",
       "              (value): Linear(in_features=768, out_features=768, bias=True)\n",
       "              (dropout): Dropout(p=0.1, inplace=False)\n",
       "            )\n",
       "            (output): BertSelfOutput(\n",
       "              (dense): Linear(in_features=768, out_features=768, bias=True)\n",
       "              (LayerNorm): LayerNorm((768,), eps=1e-12, elementwise_affine=True)\n",
       "              (dropout): Dropout(p=0.1, inplace=False)\n",
       "            )\n",
       "          )\n",
       "          (intermediate): BertIntermediate(\n",
       "            (dense): Linear(in_features=768, out_features=3072, bias=True)\n",
       "            (intermediate_act_fn): GELUActivation()\n",
       "          )\n",
       "          (output): BertOutput(\n",
       "            (dense): Linear(in_features=3072, out_features=768, bias=True)\n",
       "            (LayerNorm): LayerNorm((768,), eps=1e-12, elementwise_affine=True)\n",
       "            (dropout): Dropout(p=0.1, inplace=False)\n",
       "          )\n",
       "        )\n",
       "        (11): BertLayer(\n",
       "          (attention): BertAttention(\n",
       "            (self): BertSelfAttention(\n",
       "              (query): Linear(in_features=768, out_features=768, bias=True)\n",
       "              (key): Linear(in_features=768, out_features=768, bias=True)\n",
       "              (value): Linear(in_features=768, out_features=768, bias=True)\n",
       "              (dropout): Dropout(p=0.1, inplace=False)\n",
       "            )\n",
       "            (output): BertSelfOutput(\n",
       "              (dense): Linear(in_features=768, out_features=768, bias=True)\n",
       "              (LayerNorm): LayerNorm((768,), eps=1e-12, elementwise_affine=True)\n",
       "              (dropout): Dropout(p=0.1, inplace=False)\n",
       "            )\n",
       "          )\n",
       "          (intermediate): BertIntermediate(\n",
       "            (dense): Linear(in_features=768, out_features=3072, bias=True)\n",
       "            (intermediate_act_fn): GELUActivation()\n",
       "          )\n",
       "          (output): BertOutput(\n",
       "            (dense): Linear(in_features=3072, out_features=768, bias=True)\n",
       "            (LayerNorm): LayerNorm((768,), eps=1e-12, elementwise_affine=True)\n",
       "            (dropout): Dropout(p=0.1, inplace=False)\n",
       "          )\n",
       "        )\n",
       "      )\n",
       "    )\n",
       "    (pooler): BertPooler(\n",
       "      (dense): Linear(in_features=768, out_features=768, bias=True)\n",
       "      (activation): Tanh()\n",
       "    )\n",
       "  )\n",
       "  (dropout): Dropout(p=0.1, inplace=False)\n",
       "  (classifier): Linear(in_features=768, out_features=22, bias=True)\n",
       ")"
      ]
     },
     "execution_count": 72,
     "metadata": {},
     "output_type": "execute_result"
    }
   ],
   "source": [
    "#!g1.1\n",
    "model = BertForSequenceClassification.from_pretrained(\n",
    "    \"bert-base-uncased\",\n",
    "    num_labels = len(cat_list),\n",
    "    output_attentions = False,\n",
    "    output_hidden_states = False\n",
    ")\n",
    "\n",
    "model.to(device)"
   ]
  },
  {
   "cell_type": "code",
   "execution_count": 73,
   "id": "2c955b02",
   "metadata": {
    "cellId": "kprby04dmilzscujc690ot",
    "papermill": {
     "duration": null,
     "end_time": null,
     "exception": null,
     "start_time": null,
     "status": "pending"
    },
    "tags": []
   },
   "outputs": [
    {
     "name": "stderr",
     "output_type": "stream",
     "text": [
      "/Users/juniverse/opt/anaconda3/envs/veda/lib/python3.8/site-packages/transformers/optimization.py:411: FutureWarning: This implementation of AdamW is deprecated and will be removed in a future version. Use the PyTorch implementation torch.optim.AdamW instead, or set `no_deprecation_warning=True` to disable this warning\n",
      "  warnings.warn(\n"
     ]
    }
   ],
   "source": [
    "#!g1.1\n",
    "optimizer = AdamW(model.parameters(),\n",
    "                  lr = 2e-5, # default is 5e-5\n",
    "                  eps = 1e-8 # default is 1e-8.\n",
    "                )"
   ]
  },
  {
   "cell_type": "code",
   "execution_count": 74,
   "id": "ec05d9d5",
   "metadata": {
    "cellId": "0xi5z3o1zn529n0v7lr96",
    "papermill": {
     "duration": null,
     "end_time": null,
     "exception": null,
     "start_time": null,
     "status": "pending"
    },
    "tags": []
   },
   "outputs": [],
   "source": [
    "#!g1.1\n",
    "epochs = 1 # 2 - 4\n",
    "\n",
    "total_steps = len(train_dataloader) * epochs\n",
    "\n",
    "scheduler = get_linear_schedule_with_warmup(optimizer, \n",
    "                                            num_warmup_steps = 0,\n",
    "                                            num_training_steps = total_steps)"
   ]
  },
  {
   "cell_type": "markdown",
   "id": "46758054",
   "metadata": {
    "cellId": "1vzc2p4kcw2fylvw5uo63k",
    "papermill": {
     "duration": null,
     "end_time": null,
     "exception": null,
     "start_time": null,
     "status": "pending"
    },
    "tags": []
   },
   "source": [
    "## Train"
   ]
  },
  {
   "cell_type": "code",
   "execution_count": 75,
   "id": "9a25bfe0",
   "metadata": {
    "cellId": "fj5z6uwsunkhvr2waxocw",
    "papermill": {
     "duration": null,
     "end_time": null,
     "exception": null,
     "start_time": null,
     "status": "pending"
    },
    "tags": []
   },
   "outputs": [],
   "source": [
    "def flat_accuracy(preds, labels):\n",
    "    pred_flat = np.argmax(preds, axis=1).flatten()\n",
    "    labels_flat = labels.flatten()\n",
    "    return np.sum(pred_flat == labels_flat) / len(labels_flat)\n",
    "\n",
    "def format_time(elapsed):\n",
    "    '''\n",
    "    Takes a time in seconds and returns a string hh:mm:ss\n",
    "    '''\n",
    "    \n",
    "    elapsed_rounded = int(round((elapsed)))\n",
    "    \n",
    "    # Format as hh:mm:ss\n",
    "    return str(datetime.timedelta(seconds=elapsed_rounded))\n"
   ]
  },
  {
   "cell_type": "code",
   "execution_count": 79,
   "id": "c06f4d59",
   "metadata": {
    "cellId": "f849t1lj91iany8fmxhur",
    "papermill": {
     "duration": null,
     "end_time": null,
     "exception": null,
     "start_time": null,
     "status": "pending"
    },
    "tags": []
   },
   "outputs": [
    {
     "name": "stderr",
     "output_type": "stream",
     "text": [
      "  0%|          | 0/1 [00:00<?, ?it/s]"
     ]
    },
    {
     "name": "stdout",
     "output_type": "stream",
     "text": [
      "\n",
      "======== Epoch 1 / 1 ========\n",
      "Training...\n",
      "  Batch    40  of    126.    Elapsed: 0:02:00.\n",
      "  Batch    80  of    126.    Elapsed: 0:04:02.\n",
      "  Batch   120  of    126.    Elapsed: 0:06:01.\n",
      "\n",
      "  Average training loss: 2.52\n",
      "  Training epoch took: 0:06:19\n",
      "\n",
      "Running Validation...\n"
     ]
    },
    {
     "name": "stderr",
     "output_type": "stream",
     "text": [
      "100%|██████████| 1/1 [06:40<00:00, 400.94s/it]"
     ]
    },
    {
     "name": "stdout",
     "output_type": "stream",
     "text": [
      "  Accuracy: 0.36\n",
      "  Validation Loss: 2.44\n",
      "  Validation took: 0:00:22\n",
      "\n",
      "Training complete!\n",
      "Total training took 0:06:41 (h:mm:ss)\n"
     ]
    },
    {
     "name": "stderr",
     "output_type": "stream",
     "text": [
      "\n"
     ]
    }
   ],
   "source": [
    "from tqdm import tqdm\n",
    "#!g1.1\n",
    "\n",
    "# This training code is based on the `run_glue.py` script here:\n",
    "# https://github.com/huggingface/transformers/blob/5bfcd0485ece086ebcbed2d008813037968a9e58/examples/run_glue.py#L128\n",
    "\n",
    "seed_val = 42\n",
    "\n",
    "random.seed(seed_val)\n",
    "np.random.seed(seed_val)\n",
    "torch.manual_seed(seed_val)\n",
    "torch.cuda.manual_seed_all(seed_val)\n",
    "\n",
    "total_t0 = time.time()\n",
    "\n",
    "for epoch_i in tqdm(range(0, epochs)):\n",
    "    print(f'\\n======== Epoch {epoch_i + 1} / {epochs} ========')\n",
    "    print('Training...')\n",
    "\n",
    "    t0 = time.time()\n",
    "    \n",
    "    total_train_loss = 0\n",
    "\n",
    "    model.train()\n",
    "\n",
    "    for step, batch in enumerate(train_dataloader):\n",
    "        if step % 40 == 0 and not step == 0:\n",
    "            elapsed = format_time(time.time() - t0)\n",
    "            \n",
    "            print('  Batch {:>5,}  of  {:>5,}.    Elapsed: {:}.'.format(step, len(train_dataloader), elapsed))\n",
    "\n",
    "        b_input_ids = batch[0].to(device)\n",
    "        b_input_mask = batch[1].to(device)\n",
    "        b_labels = batch[2].to(device)\n",
    "\n",
    "        model.zero_grad()        \n",
    "\n",
    "        output = model(b_input_ids, \n",
    "                             token_type_ids=None, \n",
    "                             attention_mask=b_input_mask, \n",
    "                             labels=b_labels)\n",
    "        loss = output.loss\n",
    "        logits = output.logits\n",
    "\n",
    "        total_train_loss += loss.item()\n",
    "\n",
    "        loss.backward()\n",
    "\n",
    "        torch.nn.utils.clip_grad_norm_(model.parameters(), 1.0)\n",
    "\n",
    "        optimizer.step()\n",
    "        scheduler.step()\n",
    "\n",
    "    avg_train_loss = total_train_loss / len(train_dataloader)\n",
    "    \n",
    "    training_time = format_time(time.time() - t0)\n",
    "\n",
    "    print(\"\\n  Average training loss: {0:.2f}\".format(avg_train_loss))\n",
    "    print(\"  Training epoch took: {:}\".format(training_time))\n",
    "\n",
    "    print(\"\\nRunning Validation...\")\n",
    "\n",
    "    t0 = time.time()\n",
    "\n",
    "    model.eval()\n",
    "\n",
    "    total_eval_accuracy = 0\n",
    "    total_eval_loss = 0\n",
    "    nb_eval_steps = 0\n",
    "\n",
    "    for batch in validation_dataloader:\n",
    "        b_input_ids = batch[0].to(device)\n",
    "        b_input_mask = batch[1].to(device)\n",
    "        b_labels = batch[2].to(device)\n",
    "        \n",
    "        with torch.no_grad():        \n",
    "            output = model(b_input_ids, \n",
    "                                   token_type_ids=None, \n",
    "                                   attention_mask=b_input_mask,\n",
    "                                   labels=b_labels)\n",
    "            loss = output.loss\n",
    "            logits = output.logits\n",
    "            \n",
    "        total_eval_loss += loss.item()\n",
    "\n",
    "        logits = logits.detach().cpu().numpy()\n",
    "        label_ids = b_labels.to('cpu').numpy()\n",
    "\n",
    "        total_eval_accuracy += flat_accuracy(logits, label_ids)\n",
    "        \n",
    "    avg_val_accuracy = total_eval_accuracy / len(validation_dataloader)\n",
    "    print(\"  Accuracy: {0:.2f}\".format(avg_val_accuracy))\n",
    "\n",
    "    avg_val_loss = total_eval_loss / len(validation_dataloader)\n",
    "    \n",
    "    validation_time = format_time(time.time() - t0)\n",
    "    \n",
    "    print(\"  Validation Loss: {0:.2f}\".format(avg_val_loss))\n",
    "    print(\"  Validation took: {:}\".format(validation_time))\n",
    "\n",
    "print(\"\\nTraining complete!\")\n",
    "\n",
    "print(\"Total training took {:} (h:mm:ss)\".format(format_time(time.time()-total_t0)))"
   ]
  },
  {
   "cell_type": "markdown",
   "id": "874f7da4",
   "metadata": {
    "cellId": "l4e7k8ghfo5bzx13n8g6c",
    "papermill": {
     "duration": null,
     "end_time": null,
     "exception": null,
     "start_time": null,
     "status": "pending"
    },
    "tags": []
   },
   "source": [
    "## Some tests"
   ]
  },
  {
   "cell_type": "code",
   "execution_count": null,
   "id": "ed94a418",
   "metadata": {
    "cellId": "pdwcjvcn5tczwvb14smki",
    "papermill": {
     "duration": null,
     "end_time": null,
     "exception": null,
     "start_time": null,
     "status": "pending"
    },
    "tags": []
   },
   "outputs": [],
   "source": [
    "#!g1.1\n",
    "encoded_dict = tokenizer(\n",
    "                    [\"Economic war between China and USA continues\", \"ELDEN RING world record; game passed in 2 minutes\", \"calculus in a nutshell\"],\n",
    "                    add_special_tokens=True,\n",
    "                    max_length=128,\n",
    "                    truncation=True,\n",
    "                    padding=True,\n",
    "                    return_tensors='pt'\n",
    "               )\n",
    "\n",
    "input_ids = torch.cat([encoded_dict['input_ids']], dim=0)\n",
    "attention_masks = torch.cat([encoded_dict['attention_mask']], dim=0)\n",
    "\n",
    "prediction_data = TensorDataset(input_ids, attention_masks)\n",
    "prediction_sampler = SequentialSampler(prediction_data)\n",
    "prediction_dataloader = DataLoader(prediction_data, sampler=prediction_sampler, batch_size=batch_size)"
   ]
  },
  {
   "cell_type": "code",
   "execution_count": null,
   "id": "29e600c4",
   "metadata": {
    "cellId": "rltuxkkq3g207ob0bwxec",
    "papermill": {
     "duration": null,
     "end_time": null,
     "exception": null,
     "start_time": null,
     "status": "pending"
    },
    "tags": []
   },
   "outputs": [],
   "source": [
    "#!g1.1\n",
    "print('Predicting labels for {:,} test sentences...'.format(len(input_ids)))\n",
    "\n",
    "model.eval()\n",
    "\n",
    "predictions = []\n",
    "\n",
    "for batch in prediction_dataloader:\n",
    "    batch = tuple(t.to(device) for t in batch)\n",
    "  \n",
    "    b_input_ids, b_input_mask = batch\n",
    "  \n",
    "    with torch.no_grad():\n",
    "        outputs = model(b_input_ids, token_type_ids=None, \n",
    "                      attention_mask=b_input_mask)\n",
    "\n",
    "    logits = outputs[0]\n",
    "\n",
    "    logits = logits.detach().cpu().numpy()\n",
    "\n",
    "    predictions = predictions + list(np.argmax(logits, axis = 1)) \n",
    "\n",
    "print('    DONE.')"
   ]
  },
  {
   "cell_type": "code",
   "execution_count": null,
   "id": "0795c72f",
   "metadata": {
    "cellId": "bp5do8b8zig6kwsyvuylw3",
    "papermill": {
     "duration": null,
     "end_time": null,
     "exception": null,
     "start_time": null,
     "status": "pending"
    },
    "tags": []
   },
   "outputs": [],
   "source": [
    "predictions"
   ]
  },
  {
   "cell_type": "code",
   "execution_count": null,
   "id": "71568fb2",
   "metadata": {
    "cellId": "t97xnxxc3gi2fqr3u2vvnz",
    "papermill": {
     "duration": null,
     "end_time": null,
     "exception": null,
     "start_time": null,
     "status": "pending"
    },
    "tags": []
   },
   "outputs": [],
   "source": [
    "[cat_list[i] for i in predictions]"
   ]
  }
 ],
 "metadata": {
  "kernelspec": {
   "display_name": "Python 3",
   "language": "python",
   "name": "python3"
  },
  "language_info": {
   "codemirror_mode": {
    "name": "ipython",
    "version": 3
   },
   "file_extension": ".py",
   "mimetype": "text/x-python",
   "name": "python",
   "nbconvert_exporter": "python",
   "pygments_lexer": "ipython3",
   "version": "3.8.17"
  },
  "papermill": {
   "default_parameters": {},
   "duration": 102.845455,
   "end_time": "2022-05-17T15:03:50.978726",
   "environment_variables": {},
   "exception": true,
   "input_path": "__notebook__.ipynb",
   "output_path": "__notebook__.ipynb",
   "parameters": {},
   "start_time": "2022-05-17T15:02:08.133271",
   "version": "2.3.4"
  }
 },
 "nbformat": 4,
 "nbformat_minor": 5
}
